{
 "cells": [
  {
   "cell_type": "markdown",
   "metadata": {
    "id": "vg1qeu84Vcff"
   },
   "source": [
    "## Homework #4\n",
    "\n",
    "It is recommended that all tasks are carried out manually, then checking the results using Numpy.\n",
    "\n",
    "__1.__ Calculate the determinant:\n",
    "\n",
    "   a)\n",
    "\n",
    "### $$\\begin{vmatrix}\n",
    "sinx & -cosx\\\\ \n",
    "cosx & sinx\n",
    "\\end{vmatrix};$$\n",
    "\n",
    "   b)\n",
    "    \n",
    "### $$\\begin{vmatrix}\n",
    "4 & 2 & 3\\\\ \n",
    "0 & 5 & 1\\\\ \n",
    "0 & 0 & 9\n",
    "\\end{vmatrix};$$\n",
    "    \n",
    "   c)\n",
    "\n",
    "### $$\\begin{vmatrix}\n",
    "1 & 2 & 3\\\\ \n",
    "4 & 5 & 6\\\\ \n",
    "7 & 8 & 9\n",
    "\\end{vmatrix}.$$\n",
    "\n"
   ]
  },
  {
   "cell_type": "markdown",
   "metadata": {
    "id": "0p14lZ92Vcfm"
   },
   "source": [
    "a) \n",
    "### $$sin(x)\\cdot sin(x) - cos(x)\\cdot (-cos(x)) = sin^{2}(x) + cos^{2}(x) = 1$$ \n",
    "\n",
    "b)\n",
    "### $$ 4\\cdot 5\\cdot 9=180 $$\n",
    "\n",
    "c)\n",
    "### $$\\begin{vmatrix}\n",
    "1 & 2 & 3\\\\ \n",
    "4 & 5 & 6\\\\ \n",
    "7 & 8 & 9\n",
    "\\end{vmatrix}=$$\n",
    "### $$=7\\cdot (12−15)−8\\cdot (6−12)+9\\cdot (5−8)=−21+48−27=0$$  "
   ]
  },
  {
   "cell_type": "markdown",
   "metadata": {
    "id": "DvR0P_DaVcfn"
   },
   "source": [
    "\n",
    "__2.__ The determinant of matrix $A$ is $4$. Find:\n",
    "\n",
    "   a) $det(A^{2})$;\n",
    "    \n",
    "   b) $det(A^{T})$;\n",
    "    \n",
    "   c) $det(2A)$.\n",
    "   \n"
   ]
  },
  {
   "cell_type": "markdown",
   "metadata": {
    "id": "Cl19PCp_Vcfo"
   },
   "source": [
    "a) $det(A^{2})=16$\n",
    "\n",
    "b) $detA^{T}=detA=4$\n",
    "\n",
    "c) $det(2A)=2^{n}detA=4\\cdot 2^{n}$."
   ]
  },
  {
   "cell_type": "markdown",
   "metadata": {
    "id": "gdBwxHonVcfp"
   },
   "source": [
    "__3.__  Prove that the matrix is degenerate\n",
    "\n",
    "### $$\\begin{pmatrix}\n",
    "-2 & 7 & -3\\\\ \n",
    "4 & -14 & 6\\\\ \n",
    "-3 & 7 & 13\n",
    "\\end{pmatrix}$$\n"
   ]
  },
  {
   "cell_type": "markdown",
   "metadata": {
    "id": "1UnwCEIQVcfq"
   },
   "source": [
    "Line 1 and 2 are linearly dependent $$ x_{2} = -2⋅x_{1} $$"
   ]
  },
  {
   "cell_type": "markdown",
   "metadata": {
    "id": "q1IIitfQVcfq"
   },
   "source": [
    "__4.__ Find the rank of the matrix:\n",
    "\n",
    "   a) \n",
    "   ### $$\\begin{pmatrix}\n",
    "1 & 2 & 3\\\\ \n",
    "1 & 1 & 1\\\\ \n",
    "2 & 3 & 4\n",
    "\\end{pmatrix}$$\n",
    "\n",
    "### $$\\begin{pmatrix}\n",
    "1 & 2 & 3\\\\ \n",
    "0 & -1 & -2\\\\ \n",
    "0 & -1 & -2\n",
    "\\end{pmatrix}$$\n",
    "\n",
    "   b) \n",
    "   ### $$\\begin{pmatrix}\n",
    "0 & 0 & 2 & 1\\\\ \n",
    "0 & 0 & 2 & 2\\\\ \n",
    "0 & 0 & 4 & 3\\\\ \n",
    "2 & 3 & 5 & 6\n",
    "\\end{pmatrix}$$\n",
    "\n",
    "### $$\\begin{pmatrix}\n",
    "0 & 0 & 2 & 1\\\\ \n",
    "0 & 0 & 0 & 1\\\\ \n",
    "0 & 0 & 0 & 0\\\\ \n",
    "2 & 3 & 5 & 6\n",
    "\\end{pmatrix}$$"
   ]
  },
  {
   "cell_type": "code",
   "execution_count": 1,
   "metadata": {
    "id": "u0ytD2MyVcfr",
    "outputId": "553d696b-c24f-48cd-8969-0aea42fbbc9d"
   },
   "outputs": [
    {
     "name": "stdout",
     "output_type": "stream",
     "text": [
      "Matrix rank: 2\n"
     ]
    }
   ],
   "source": [
    "import numpy as np\n",
    "\n",
    "x = [1, 2, 3]\n",
    "y = [1, 1, 1]\n",
    "z = [2, 3, 4]\n",
    "\n",
    "a = np.array([x, y, z])\n",
    "r = np.linalg.matrix_rank(a)\n",
    "\n",
    "print(f'Matrix rank: {r}')"
   ]
  },
  {
   "cell_type": "code",
   "execution_count": 2,
   "metadata": {
    "id": "i9Bdq4HOVcft",
    "outputId": "7a1e668d-7f0f-4007-f139-532da7ffc69f"
   },
   "outputs": [
    {
     "name": "stdout",
     "output_type": "stream",
     "text": [
      "Matrix rank: 3\n"
     ]
    }
   ],
   "source": [
    "x = [0, 0, 2, 1]\n",
    "y = [0, 0, 2, 2]\n",
    "z = [0, 0, 4, 3]\n",
    "c = [2, 3, 5, 6]\n",
    "\n",
    "a = np.array([x, y, z, c])\n",
    "r = np.linalg.matrix_rank(a)\n",
    "\n",
    "print(f'Matrix rank: {r}')"
   ]
  }
 ],
 "metadata": {
  "colab": {
   "name": "разбор ДЗ 4.ipynb",
   "provenance": []
  },
  "kernelspec": {
   "display_name": "Python 3",
   "language": "python",
   "name": "python3"
  },
  "language_info": {
   "codemirror_mode": {
    "name": "ipython",
    "version": 3
   },
   "file_extension": ".py",
   "mimetype": "text/x-python",
   "name": "python",
   "nbconvert_exporter": "python",
   "pygments_lexer": "ipython3",
   "version": "3.8.5"
  }
 },
 "nbformat": 4,
 "nbformat_minor": 1
}
