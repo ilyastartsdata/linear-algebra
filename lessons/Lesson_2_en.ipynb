{
 "cells": [
  {
   "cell_type": "markdown",
   "metadata": {
    "id": "X2Z2Z_K5c7Zv"
   },
   "source": [
    "# Lesson 2"
   ]
  },
  {
   "cell_type": "markdown",
   "metadata": {
    "id": "c9EHjpDAc7Zy"
   },
   "source": [
    "# Linear space. Basic concepts. Part 2"
   ]
  },
  {
   "cell_type": "markdown",
   "metadata": {
    "id": "wua5iO3ec7Zz"
   },
   "source": [
    "## Euclidean space"
   ]
  },
  {
   "cell_type": "markdown",
   "metadata": {
    "id": "Z04nPQHDc7Z1"
   },
   "source": [
    "__Definition__\n",
    "\n",
    "A linear space over a field of real numbers is called a _Euclidean space_ if it has a rule that every ordered pair of vectors $x$ and $y$ is matched by a real number called _scalar product_ and denoted by $(x, y)$.\n",
    "\n",
    "This rule must obey four axioms:<br>\n",
    "1) $(x,y)=(y,x);$<br>\n",
    "2) $(\\lambda x, y)=\\lambda(x, y);$<br>\n",
    "3) $(x_{1}+x_{2},y)=(x_{1},y)+(x_{2},y);$<br>\n",
    "4) $(x, x)\\geq0$, when $(x,x)=0\\Leftrightarrow x=0.$\n",
    "\n"
   ]
  },
  {
   "cell_type": "markdown",
   "metadata": {
    "id": "yQfL1Uz0c7Z2"
   },
   "source": [
    "__Example__\n",
    "\n",
    "From school curricula we know that in standard three-dimensional space the scalar product of two vectors is defined as the product of the lengths of these vectors by the cosine of the angle between them (see figure):\n",
    "\n",
    "$$(x, y) = \\left|x\\right|\\cdot\\left|y\\right|\\cdot cos\\alpha.$$"
   ]
  },
  {
   "cell_type": "code",
   "execution_count": 1,
   "metadata": {
    "id": "MED517L-c7Z5"
   },
   "outputs": [],
   "source": [
    "import matplotlib.pyplot as plt"
   ]
  },
  {
   "cell_type": "code",
   "execution_count": 2,
   "metadata": {
    "colab": {
     "base_uri": "https://localhost:8080/",
     "height": 258
    },
    "id": "0XE1K47qc7Z_",
    "outputId": "1421c131-8c74-4744-9903-f2d768bf3df0"
   },
   "outputs": [
    {
     "data": {
      "image/png": "[encoded data removed]",
      "text/plain": [
       "<Figure size 432x288 with 1 Axes>"
      ]
     },
     "metadata": {
      "needs_background": "light"
     },
     "output_type": "display_data"
    }
   ],
   "source": [
    "fig = plt.figure()\n",
    "ax = fig.add_subplot(1,1,1)\n",
    "\n",
    "ax.spines['left'].set_position('zero')\n",
    "ax.spines['bottom'].set_position('zero')\n",
    "\n",
    "ax.spines['right'].set_color('none')\n",
    "ax.spines['top'].set_color('none')\n",
    "\n",
    "plt.axis('scaled')\n",
    "plt.xlim(-2, 2)\n",
    "plt.ylim(-2, 2)\n",
    "\n",
    "ax.arrow(0, 0, 0.6, 2, head_width=0.15, head_length=0.2, length_includes_head=True, facecolor='red')\n",
    "ax.arrow(0, 0, 2, 0.4, head_width=0.15, head_length=0.2, length_includes_head=True, facecolor='black')\n",
    "ax.annotate(\"y\", xy=(1.8, 0.6))\n",
    "ax.annotate(\"x\", xy=(0.7, 1.8))\n",
    "ax.annotate(\"\\u03B1\", xy=(0.2, 0.2))\n",
    "\n",
    "plt.show()"
   ]
  },
  {
   "cell_type": "markdown",
   "metadata": {
    "id": "gNaC1A6Kc7aJ"
   },
   "source": [
    "This rule satisfies the scalar product axioms introduced earlier. Thus the space of all free vectors with so defined scalar product given in the example is a Euclidean space."
   ]
  },
  {
   "cell_type": "markdown",
   "metadata": {
    "id": "dy6anLLgc7aK"
   },
   "source": [
    "__Example__\n",
    "\n",
    "An example of a Euclidean space is the $n$-dimensional linear space $\\mathbb{R}^{n}$ of ordered sets of $n$ real numbers, the scalar product of vectors $x=(a_{1},a_{2},...,a_{n})$ and $y=(b_{1},b_{2},...,b_{n})$ on which is defined as\n",
    "\n",
    "$$(x,y)=a_{1}b_{1}+a_{2}b_{2}+...+a_{n}b_{n}.$$"
   ]
  },
  {
   "cell_type": "markdown",
   "metadata": {
    "id": "LrvAun4Zc7aL"
   },
   "source": [
    "Obviously, the axioms defined earlier hold for this rule."
   ]
  },
  {
   "cell_type": "markdown",
   "metadata": {
    "id": "xZm-Q3Wrc7aN"
   },
   "source": [
    "That is, the scalar product between two vectors $x=(1,2,3)$ and $y=(4,5,6)$ belonging to the space $\\mathbb{R}^{3}$ will be \n",
    "\n",
    "$$(x,y)=1\\cdot4+2\\cdot5+3\\cdot6=4 + 10 + 18=32.$$"
   ]
  },
  {
   "cell_type": "markdown",
   "metadata": {
    "id": "CVVshT14c7aO"
   },
   "source": [
    "In Python, the scalar product of two vectors can be calculated using the function `numpy.dot(a, b)` or the method `vec1.dot(vec2)`, where `vec1` and `vec2` are source vectors."
   ]
  },
  {
   "cell_type": "code",
   "execution_count": 3,
   "metadata": {
    "id": "DwrZVBJfc7aP"
   },
   "outputs": [],
   "source": [
    "import numpy as np"
   ]
  },
  {
   "cell_type": "code",
   "execution_count": 4,
   "metadata": {
    "colab": {
     "base_uri": "https://localhost:8080/"
    },
    "id": "Ka3mFpRtW-9d",
    "outputId": "4c74820f-7b78-484e-a891-d2a3abe9bbf2"
   },
   "outputs": [
    {
     "name": "stdout",
     "output_type": "stream",
     "text": [
      "The scalar product of a and b:\n",
      "32\n",
      "The scalar product of a and b:\n",
      "32\n",
      "The scalar product of a and b:\n",
      "32\n"
     ]
    }
   ],
   "source": [
    "a = np.array([1, 2, 3])\n",
    "b = np.array([4, 5,6])\n",
    "print(f'The scalar product of a and b:\\n{np.dot(a, b)}')\n",
    "print(f'The scalar product of a and b:\\n{a.dot(b)}')\n",
    "print(f'The scalar product of a and b:\\n{a @ b}')"
   ]
  },
  {
   "cell_type": "markdown",
   "metadata": {
    "id": "kHg_vsjhc7ad"
   },
   "source": [
    "Let us now introduce such important notions as _metric_, _norm_ (or _length_) of a vector and _angle_ between vectors in an arbitrary Euclidean space. For this purpose one must introduce the notion of _linear normed spaces."
   ]
  },
  {
   "cell_type": "markdown",
   "metadata": {
    "id": "VasUbr7Qc7af"
   },
   "source": [
    "### Linear normalised spaces"
   ]
  },
  {
   "cell_type": "markdown",
   "metadata": {
    "id": "QvHQeSnlc7ah"
   },
   "source": [
    "The concept of _norm_ is used to generalise the concept of vector length."
   ]
  },
  {
   "cell_type": "markdown",
   "metadata": {
    "id": "7ijI-1nIc7ai"
   },
   "source": [
    "__Definition__\n",
    "\n",
    "A linear space $R$ is called _normalised_ if it has a rule where each element $x$ is assigned a number called _norm_ (or _length_) of that element, denoted by $\\left\\|x\\right\\|$.\n",
    "\n",
    "It must obey three axioms:<br>\n",
    "1) $\\left\\|x\\right\\|\\geq0$, when $\\left\\|x\\right\\|=0\\Leftrightarrow x=0;$<br>\n",
    "2) $\\left\\|\\lambda x\\right\\|$ = $|\\lambda|\\left\\|x\\right\\|$;<br>\n",
    "3) $\\left\\| x + y \\right\\|$ <= $\\left\\|x\\right\\|$ + $\\left\\|y\\right\\|$.\n",
    "\n",
    "The last axiom is called the _inequality of the triangle_, or _Minkowski's inequality_."
   ]
  },
  {
   "cell_type": "markdown",
   "metadata": {
    "id": "Ey4wIr-fc7aj"
   },
   "source": [
    "__Examples__\n",
    "\n",
    "There are many ways of defining the norm.\n",
    "\n",
    "- The $p$-norm (Gölder norm) for the vector $x = (x_{1}, \\dots, x_{n}) \\in \\mathbb{R}^{n}$ is calculated by the formula\n",
    "\n",
    "$$\\left\\| x \\right\\|_{p} = \\left( \\sum_{i} \\left| x_{i} \\right|^{p} \\right)^{1 / p},~p \\geq 1.$$\n",
    "\n",
    "In particular cases, when:\n",
    "\n",
    "- $p = 1$ we get $\\ell_{1}$ norm (_manhattan norm_, or _manhattan distance_)\n",
    "\n",
    "$$\\left\\|x\\right\\|_{1} = \\sum_{i}|x_{i}|;$$\n",
    "\n",
    "- $p = 2$ we get $\\ell_{2}$ norm (_Euclidean norm_, most commonly used)\n",
    "\n",
    "$$\\left\\|x\\right\\|_{2} = \\sqrt{\\sum_{i}|x_{i}|^{2}}.$$"
   ]
  },
  {
   "cell_type": "markdown",
   "metadata": {
    "id": "5UOsib7Pc7am"
   },
   "source": [
    "Determine the norm of a vector manually and with Python.\n",
    "\n",
    "Python uses the `numpy.linalg` module to perform linear algebra operations. The function `numpy.linalg.norm(x, ord=None)`, where `x` is the source vector, `ord` is the parameter denoted above as $p$ and defines the norm, is used to calculate various norms."
   ]
  },
  {
   "cell_type": "code",
   "execution_count": 5,
   "metadata": {
    "id": "H9M6n4a6c7ao"
   },
   "outputs": [],
   "source": [
    "from numpy.linalg import norm"
   ]
  },
  {
   "cell_type": "markdown",
   "metadata": {
    "id": "pDIsUYZoc7at"
   },
   "source": [
    "Set the vector $a=(1,2,-3)$:"
   ]
  },
  {
   "cell_type": "code",
   "execution_count": 6,
   "metadata": {
    "id": "hwrsGk9DVFQr"
   },
   "outputs": [],
   "source": [
    "a = np.array([1, 2, -3])"
   ]
  },
  {
   "cell_type": "markdown",
   "metadata": {
    "id": "KskdkMSkc7ay"
   },
   "source": [
    "Let's define the Manhattan norm of the vector $a$:\n",
    "\n",
    "$$\\left\\|x\\right\\|_{1} = |1|+|2|+|-3|=6.$$"
   ]
  },
  {
   "cell_type": "code",
   "execution_count": 7,
   "metadata": {
    "colab": {
     "base_uri": "https://localhost:8080/"
    },
    "id": "M-c6m83dXVWQ",
    "outputId": "f8b1a7e2-8ca7-49fa-dfd0-2e144636ba48"
   },
   "outputs": [
    {
     "name": "stdout",
     "output_type": "stream",
     "text": [
      "l1 Manhattan norm a:\n",
      "6.0\n"
     ]
    }
   ],
   "source": [
    "print(f'l1 Manhattan norm a:\\n{norm(a, ord=1)}')\n"
   ]
  },
  {
   "cell_type": "markdown",
   "metadata": {
    "id": "DmZb7h1Lc7a5"
   },
   "source": [
    "Define the Euclidean norm of the vector $a$:\n",
    "\n",
    "$$\\left\\|x\\right\\|_{2} = \\sqrt{1^{2}+2^{2}+(-3)^{2}}=\\sqrt{14}.$$"
   ]
  },
  {
   "cell_type": "code",
   "execution_count": 8,
   "metadata": {
    "colab": {
     "base_uri": "https://localhost:8080/"
    },
    "id": "yQVpUMwCXaxq",
    "outputId": "0da29ef1-f871-4a38-859e-79bec748b32e"
   },
   "outputs": [
    {
     "name": "stdout",
     "output_type": "stream",
     "text": [
      "l2 Euclidean norm а:\n",
      "3.7416573867739413\n"
     ]
    }
   ],
   "source": [
    "print(f'l2 Euclidean norm а:\\n{norm(a, ord=2)}')"
   ]
  },
  {
   "cell_type": "markdown",
   "metadata": {
    "id": "0Rx5dazjc7bA"
   },
   "source": [
    "We can see that different norms give different values for the same vector."
   ]
  },
  {
   "cell_type": "markdown",
   "metadata": {
    "id": "mtsZ1ln-c7bB"
   },
   "source": [
    "__Theorem__\n",
    "\n",
    "Any Euclidean space is normalised if the norm of any element $x$ in it is defined as\n",
    "\n",
    "$$\\left\\|x\\right\\| = \\sqrt{(x,x)}.$$"
   ]
  },
  {
   "cell_type": "markdown",
   "metadata": {
    "id": "L72LpJQtc7bD"
   },
   "source": [
    "For any $x,y$ belonging to the Euclidean space $E$ with so defined norm, the inequality \n",
    "\n",
    "$$|(x,y)|\\leq\\left\\|x\\right\\| \\left\\|y\\right\\|.$$\n",
    "\n",
    "This expression is called the _Cauchy-Bunyakowski_ inequality."
   ]
  },
  {
   "cell_type": "markdown",
   "metadata": {
    "id": "bPumnjaJc7bE"
   },
   "source": [
    "Let's prove it. Take a real element $\\lambda$ and consider an element $x- \\lambda y\\in E$. \n",
    "\n",
    "According to axiom 4 for Euclidean space, \n",
    "\n",
    "$$0\\leq(x-\\lambda y, x-\\lambda y)=(x,x)-2(x,y)\\lambda +(y,y)\\lambda^{2}.$$\n",
    "\n",
    "The resulting quadratic trinomial with respect to $\\lambda$ is a parabola equation. Geometrically, the fact that it is greater than or equal to zero at all $\\lambda$ means that the quadratic equation \n",
    "\n",
    "$$(y,y)\\lambda^{2}-2(x,y)\\lambda +(x,x)=0$$\n",
    "\n",
    "either has no roots at all or a single root. And this is only possible when the discriminant of such an equation is less than or equal to zero:\n",
    "\n",
    "$$D=4(x,y)^{2}-4(x,x)(y,y)\\leq0,$$\n",
    "\n",
    "from which it follows that\n",
    "\n",
    "$$(x,y)^{2}\\leq\\left\\|x\\right\\|^{2}\\left\\|y\\right\\|^{2}.$$\n",
    "\n",
    "The Cauchy-Bunyakowski inequality is proved."
   ]
  },
  {
   "cell_type": "markdown",
   "metadata": {
    "id": "3iEqrvecc7bF"
   },
   "source": [
    "__Definition__\n",
    "\n",
    "In any real Euclidean space one can introduce the concept of _angle_ between two arbitrary elements $x$ and $y$. The angle $\\varphi \\in [0, \\pi]$ between these elements is the angle whose cosine is defined by the relation\n",
    "\n",
    "$$cos\\varphi = \\frac{(x,y)}{\\left \\|x\\right \\|\\cdot\\left \\|y\\right \\|}.$$"
   ]
  },
  {
   "cell_type": "markdown",
   "metadata": {
    "id": "-nJGUXBLc7bG"
   },
   "source": [
    "__Example__\n",
    "\n",
    "Determine the angle between the vectors $a=(1,2,3)$, $b=(4,5,6)$."
   ]
  },
  {
   "cell_type": "code",
   "execution_count": 9,
   "metadata": {
    "id": "Uefv3uBjc7bI"
   },
   "outputs": [],
   "source": [
    "a = np.array([1, 2, 3])\n",
    "b = np.array([4, 5, 6])"
   ]
  },
  {
   "cell_type": "markdown",
   "metadata": {
    "id": "-SyO8gvJc7bO"
   },
   "source": [
    "$$cos\\varphi = \\frac{1\\cdot4+2\\cdot5+3\\cdot6}{\\sqrt{1^{2}+2^{2}+3^{2}}\\sqrt{4^{2}+5^{2}+6^{2}}}=\\frac{32}{\\sqrt{1078}}\\approx 0.97$$"
   ]
  },
  {
   "cell_type": "code",
   "execution_count": 12,
   "metadata": {
    "colab": {
     "base_uri": "https://localhost:8080/",
     "height": 180
    },
    "id": "Vo5de6euXq1a",
    "outputId": "2d629610-113d-4d43-c2f3-9434032915de"
   },
   "outputs": [
    {
     "data": {
      "text/plain": [
       "0.9746318461970762"
      ]
     },
     "execution_count": 12,
     "metadata": {},
     "output_type": "execute_result"
    }
   ],
   "source": [
    "cos_phi = np.dot(a, b) / norm(a) / norm(b)\n",
    "cos_phi"
   ]
  },
  {
   "cell_type": "markdown",
   "metadata": {
    "id": "x4_NxqYrc7bY"
   },
   "source": [
    "Two arbitrary elements $x$ and $y$ of Euclidean space $E$ are called _orthogonal_ if their scalar product is zero (in which case the cosine of the angle $\\varphi$ between these elements is zero)."
   ]
  },
  {
   "cell_type": "markdown",
   "metadata": {
    "id": "ez9nUOZxc7ba"
   },
   "source": [
    "### Metric spaces"
   ]
  },
  {
   "cell_type": "markdown",
   "metadata": {
    "id": "JGDcLQzvc7bb"
   },
   "source": [
    "The concept of distance in the context of machine learning is generalised using _metrics_."
   ]
  },
  {
   "cell_type": "markdown",
   "metadata": {
    "id": "m7iu-UITc7be"
   },
   "source": [
    "__Definition__\n",
    "\n",
    "A pair $(E, d)$, where $E$ is a set and $d: E\\times E \\rightarrow \\mathbb{R}$ is a real-valued function, is called _metric space_ if for all $x,y,z\\in E$ the conditions are satisfied:<br>\n",
    "1) $d(x,y)=d(y,x);$<br>\n",
    "2) $d(x,x)=0$; $d(x,y)>0$, if $x \\neq y$;<br>\n",
    "3) $d(x,z) \\leq d(x,y) + d(y,z)$ (triangle inequality).\n",
    "\n",
    "A function $d$ with these properties is sometimes called $\\left | x-y \\right |$ and called _metric_, and $d(x,y)$ the _distance between points $x,y$_."
   ]
  },
  {
   "cell_type": "markdown",
   "metadata": {
    "id": "Ch3ftAD5c7bf"
   },
   "source": [
    "Any normalised space can be turned into a metric space by defining $d(x,y) = \\left\\|x-y\\right\\|$."
   ]
  },
  {
   "cell_type": "markdown",
   "metadata": {
    "id": "6fu25sQ4c7bi"
   },
   "source": [
    "__Example__\n",
    "\n",
    "As with the norm, there are a number of different techniques for defining the metric, e.g. the _Euclidean metric_\n",
    " \n",
    "$$d_{2}(x,y) = \\sqrt{\\sum_{i}(x_{i}-y_{i})^{2}}$$\n",
    "\n",
    "and _manhattan metric_:\n",
    "\n",
    "$$d_{1}(x,y) = \\sum_{i}|x_{i}-y_{i}|.$$"
   ]
  },
  {
   "cell_type": "markdown",
   "metadata": {
    "id": "w-HqJgBUc7bj"
   },
   "source": [
    "Determine the distance between the vectors $a=(1,2,3)$, $b=(4,5,6)$."
   ]
  },
  {
   "cell_type": "code",
   "execution_count": null,
   "metadata": {
    "id": "XRaiV-Tgc7bk"
   },
   "outputs": [],
   "source": [
    "a = np.array([1, 2, 3])\n",
    "b = np.array([4, 5, 6])"
   ]
  },
  {
   "cell_type": "markdown",
   "metadata": {
    "id": "Qs0Eqqrfc7bp"
   },
   "source": [
    "One way is to count the metric as $\\left\\|a-b\\right\\|$ as above:"
   ]
  },
  {
   "cell_type": "code",
   "execution_count": null,
   "metadata": {
    "colab": {
     "base_uri": "https://localhost:8080/"
    },
    "id": "XSaqNfk0c7bs",
    "outputId": "12b2ad2d-83dd-4c49-98b0-12737dc6627c"
   },
   "outputs": [
    {
     "name": "stdout",
     "output_type": "stream",
     "text": [
      "l1 расстояние между векторами a и b:\n",
      "9.0\n"
     ]
    }
   ],
   "source": [
    "print(f'l1 расстояние между векторами a и b:\\n{norm(a - b, ord=1)}')\n"
   ]
  },
  {
   "cell_type": "code",
   "execution_count": null,
   "metadata": {
    "colab": {
     "base_uri": "https://localhost:8080/"
    },
    "id": "FRKdP_7wc7by",
    "outputId": "be77ef9f-46ad-44fb-ee50-ef8374e3dc79"
   },
   "outputs": [
    {
     "name": "stdout",
     "output_type": "stream",
     "text": [
      "l2 расстояние между векторами a и b:\n",
      "5.196152422706632\n"
     ]
    }
   ],
   "source": [
    "print(f'l2 расстояние между векторами a и b:\\n{norm(a - b, ord=2)}')"
   ]
  },
  {
   "cell_type": "markdown",
   "metadata": {
    "id": "vufDAv6vc7b3"
   },
   "source": [
    "The second way to calculate distance is to use the function `scipy.spatial.distance.cdist(XA, XB, metric='euclidean', p=2, ...)` from the SciPy module designed to perform scientific calculations. The parameters `XA, XB` are source vectors, and `metric` and `p` set the distance metric.\n",
    "\n",
    "This function requires that the dimensions of the `XA` and `XB` arrays be at least two-dimensional, so to use this function, the source vectors must be converted to _vector-rows_ (matrix of size $1\\times m$) or _vector-columns_ (matrix of size $n\\times1$). Matrices as data structures will be discussed in the next lessons."
   ]
  },
  {
   "cell_type": "markdown",
   "metadata": {
    "id": "N78Ehtojc7b4"
   },
   "source": [
    "There are different ways to convert a vector to a vector-row or vector-column. The first is to use the `array.reshape(shape)` method, where the `shape` tuple specifies the dimensionality of the resulting array."
   ]
  },
  {
   "cell_type": "code",
   "execution_count": null,
   "metadata": {
    "colab": {
     "base_uri": "https://localhost:8080/"
    },
    "id": "XlmcgaBvc7b5",
    "outputId": "f839b968-f9e6-491a-9d99-5310a5292acc"
   },
   "outputs": [
    {
     "name": "stdout",
     "output_type": "stream",
     "text": [
      "Вектор а: [1 2 3]\n",
      "Его размерность: (3,)\n",
      "Вектор b: [4 5 6]\n",
      "Его размерность: (3,)\n",
      "\n",
      "После применения метода reshape:\n",
      "Вектор-строка a: [[1 2 3]]\n",
      "Его размерность: (1, 3)\n",
      "Вектор-строка b: [[4 5 6]]\n",
      "Его размерность: (1, 3)\n"
     ]
    }
   ],
   "source": [
    "print(f'Вектор а: {a}')\n",
    "print(f'Его размерность: {a.shape}')\n",
    "print(f'Вектор b: {b}')\n",
    "print(f'Его размерность: {b.shape}')\n",
    "\n",
    "a = a.reshape((1, 3))\n",
    "b = b.reshape((1, 3))\n",
    "\n",
    "print('\\nПосле применения метода reshape:')\n",
    "print(f'Вектор-строка a: {a}')\n",
    "print(f'Его размерность: {a.shape}')\n",
    "print(f'Вектор-строка b: {b}')\n",
    "print(f'Его размерность: {b.shape}')"
   ]
  },
  {
   "cell_type": "code",
   "execution_count": null,
   "metadata": {
    "colab": {
     "base_uri": "https://localhost:8080/"
    },
    "id": "9xAeyZDtc7b_",
    "outputId": "153584b6-60a7-4230-9345-485b067ae370"
   },
   "outputs": [
    {
     "name": "stdout",
     "output_type": "stream",
     "text": [
      "Манхэттенское расстояние между a и b:\n",
      "[[9.]]\n"
     ]
    }
   ],
   "source": [
    "from scipy.spatial.distance import cdist\n",
    "print(f'Манхэттенское расстояние между a и b:\\n{cdist(a, b, metric=\"cityblock\")}')"
   ]
  },
  {
   "cell_type": "markdown",
   "metadata": {
    "id": "Lz3T0A-Uc7cE"
   },
   "source": [
    "Another way to convert a vector to be able to determine the distance using cdist is to use the function `np.newaxis`."
   ]
  },
  {
   "cell_type": "code",
   "execution_count": null,
   "metadata": {
    "colab": {
     "base_uri": "https://localhost:8080/",
     "height": 231
    },
    "id": "nr-_mbJhc7cG",
    "outputId": "d7296cde-ccc1-456c-8bd9-618ae33a0e27"
   },
   "outputs": [
    {
     "ename": "NameError",
     "evalue": "ignored",
     "output_type": "error",
     "traceback": [
      "\u001b[0;31m---------------------------------------------------------------------------\u001b[0m",
      "\u001b[0;31mNameError\u001b[0m                                 Traceback (most recent call last)",
      "\u001b[0;32m<ipython-input-2-e5e7ec560e8a>\u001b[0m in \u001b[0;36m<module>\u001b[0;34m()\u001b[0m\n\u001b[0;32m----> 1\u001b[0;31m \u001b[0ma\u001b[0m \u001b[0;34m=\u001b[0m \u001b[0mnp\u001b[0m\u001b[0;34m.\u001b[0m\u001b[0marray\u001b[0m\u001b[0;34m(\u001b[0m\u001b[0;34m[\u001b[0m\u001b[0;36m1\u001b[0m\u001b[0;34m,\u001b[0m \u001b[0;36m2\u001b[0m\u001b[0;34m,\u001b[0m \u001b[0;36m3\u001b[0m\u001b[0;34m]\u001b[0m\u001b[0;34m)\u001b[0m\u001b[0;34m\u001b[0m\u001b[0;34m\u001b[0m\u001b[0m\n\u001b[0m\u001b[1;32m      2\u001b[0m \u001b[0mb\u001b[0m \u001b[0;34m=\u001b[0m \u001b[0mnp\u001b[0m\u001b[0;34m.\u001b[0m\u001b[0marray\u001b[0m\u001b[0;34m(\u001b[0m\u001b[0;34m[\u001b[0m\u001b[0;36m4\u001b[0m\u001b[0;34m,\u001b[0m \u001b[0;36m5\u001b[0m\u001b[0;34m,\u001b[0m \u001b[0;36m6\u001b[0m\u001b[0;34m]\u001b[0m\u001b[0;34m)\u001b[0m\u001b[0;34m\u001b[0m\u001b[0;34m\u001b[0m\u001b[0m\n\u001b[1;32m      3\u001b[0m \u001b[0mprint\u001b[0m\u001b[0;34m(\u001b[0m\u001b[0;34mf'Преобразование вектора a в вектор-строку:\\n{a[np.newaxis, :]}'\u001b[0m\u001b[0;34m)\u001b[0m\u001b[0;34m\u001b[0m\u001b[0;34m\u001b[0m\u001b[0m\n\u001b[1;32m      4\u001b[0m \u001b[0mprint\u001b[0m\u001b[0;34m(\u001b[0m\u001b[0;34mf'Полученная размерность:{a[np.newaxis, :].shape}'\u001b[0m\u001b[0;34m)\u001b[0m\u001b[0;34m\u001b[0m\u001b[0;34m\u001b[0m\u001b[0m\n\u001b[1;32m      5\u001b[0m \u001b[0;34m\u001b[0m\u001b[0m\n",
      "\u001b[0;31mNameError\u001b[0m: name 'np' is not defined"
     ]
    }
   ],
   "source": [
    "a = np.array([1, 2, 3])\n",
    "b = np.array([4, 5, 6])\n",
    "print(f'Преобразование вектора a в вектор-строку:\\n{a[np.newaxis, :]}')\n",
    "print(f'Полученная размерность:{a[np.newaxis, :].shape}')\n",
    "\n",
    "print(f'Преобразование вектора b в вектор-столбец:\\n{b[:, np.newaxis]}')\n",
    "print(f'Полученная размерность:{b[:, np.newaxis].shape}')"
   ]
  },
  {
   "cell_type": "code",
   "execution_count": null,
   "metadata": {
    "colab": {
     "base_uri": "https://localhost:8080/"
    },
    "id": "svciKKAPc7cQ",
    "outputId": "2055417a-4f90-4e6d-c924-8502786d115e"
   },
   "outputs": [
    {
     "name": "stdout",
     "output_type": "stream",
     "text": [
      "Евклидово расстояние между a и b:\n",
      "[[5.19615242]]\n"
     ]
    }
   ],
   "source": [
    "print(f'Евклидово расстояние между a и b:\\n{cdist(a[np.newaxis, :], b[np.newaxis, :], metric=\"euclidean\")}')"
   ]
  },
  {
   "cell_type": "markdown",
   "metadata": {
    "id": "oOWx-qfJc7cW"
   },
   "source": [
    "### Basis in Euclidean space"
   ]
  },
  {
   "cell_type": "markdown",
   "metadata": {
    "id": "O0LP3TnJc7cX"
   },
   "source": [
    "As stated earlier, in a Euclidean space $E$ the elements $x$ and $y$ are called _orthogonal_ if\n",
    "\n",
    "$$(x,y)=0.$$"
   ]
  },
  {
   "cell_type": "markdown",
   "metadata": {
    "id": "-_C1u_e8c7ca"
   },
   "source": [
    "That is, we may conclude that this equality means that the angle between vectors must be $90^{\\circ}$$. The same is true for arbitrary Euclidean space, and it also follows that the zero element of Euclidean space is orthogonal to any element."
   ]
  },
  {
   "cell_type": "markdown",
   "metadata": {
    "id": "10MxUo4Dc7cc"
   },
   "source": [
    "__Definition__ In a finite-dimensional Euclidean space, the basis $\\{e_{1},e_{2},...,e_{n}\\}$ is called orthonormal if \n",
    "\n",
    "$(e_{i}, e_{j})=0$ $\\forall$ $i\\neq j$ и $(e_{i},e_{i})=1$ $\\forall$ $i\\in[1, n].$"
   ]
  },
  {
   "cell_type": "markdown",
   "metadata": {
    "id": "0OK9PGgXc7cd"
   },
   "source": [
    "This means that the orthonormal basis is orthogonal and consists of vectors of unit length."
   ]
  },
  {
   "cell_type": "markdown",
   "metadata": {
    "id": "UT6PV7xlc7ce"
   },
   "source": [
    "Often in practice one needs to make a transition from an arbitrary basis $\\{a_{1}, a_{2}, ...,a_{n}\\}$ in a certain Euclidean space to an orthonormalized one. This requires first _orthogonalizing_ it and then _normalizing_ it:\n",
    "\n",
    "- the first part is called the Gram-Schmidt orthogonalisation process. It is done as follows.\n",
    "\n",
    "    Let us first take $e_{1}=a_{1}$.<br>\n",
    "    The second element of the new orthogonal basis will be found in the form $e_{2}=a_{2}+\\alpha_{1}e_{1}.$\n",
    "    \n",
    "    $\\alpha_{1}$ we select from the condition of an orthogonal basis $(e_{1}, e_{2})=0$. This means\n",
    "    \n",
    "    $$(e_{1}, a_{2}+\\alpha_{1}e_{1})=(e_{1}, a_{2})+(e_{1},\\alpha_{1}e_{1})=0,$$\n",
    "    \n",
    "    \n",
    "$$\\alpha_{1}=-\\frac{(e_{1}, a_{2})}{(e_{1},e_{1})}.$$\n",
    "    \n",
    "\n",
    "    \n",
    "    "
   ]
  },
  {
   "cell_type": "markdown",
   "metadata": {
    "id": "52bJc9E4c7cf"
   },
   "source": [
    "    \n",
    "   The kth element of the new basis will be \n",
    "   \n",
    "   $$e_{k}=a_{k}+\\sum_{j=1}^{k-1}\\alpha_{j}e_{j},$$\n",
    "    \n",
    "   and $\\alpha_{i}$ —\n",
    "    \n",
    "   $$\\alpha_{i}=-\\frac{(e_{i}, a_{k})}{(e_{i},e_{i})}, i\\in[1, k-1].$$\n",
    "    \n",
    "   The orthogonalisation proceeds until the set of initial elements is complete, followed by the second part:\n",
    "    \n",
    "- the elements $e_{i}$ are sufficiently pronormalised to obtain an orthonormalised basis:\n",
    "    \n",
    "    $$e_{i}'=\\frac{e_{i}}{|e_{i}|}.$$"
   ]
  },
  {
   "cell_type": "markdown",
   "metadata": {
    "id": "1p3yEbsYc7cg"
   },
   "source": [
    "An example of an orthonormal basis is the Cartesian rectangular basis of Euclidean space $E^{n}$:\n",
    "\n",
    "$$e_{1}=(1,0,0,...,0),$$\n",
    "$$e_{2}=(0,1,0,...,0),$$\n",
    "$$...$$\n",
    "$$e_{n}=(0,0,0,...,1).$$"
   ]
  },
  {
   "cell_type": "markdown",
   "metadata": {
    "id": "wYEipVAZc7ch"
   },
   "source": [
    "Consider the advantages of the orthonormal basis over the usual non-orthogonal basis."
   ]
  },
  {
   "cell_type": "markdown",
   "metadata": {
    "id": "gl49-J4sc7cn"
   },
   "source": [
    "Take some space with an orthonormalized basis $\\{e_{1},e_{2},...,e_{n}\\}$, choose two arbitrary vectors $x$ and $y$ in it and decompose them on the basis: \n",
    "\n",
    "$$x=\\xi_{1} e_{1}+ \\xi_{2} e_{2}+...+\\xi_{n} e_{n},$$\n",
    "$$y=\\eta_{1} e_{1}+ \\eta_{2} e_{2}+...+\\eta_{n} e_{n}.$$"
   ]
  },
  {
   "cell_type": "markdown",
   "metadata": {
    "id": "EjmrQcUoc7cq"
   },
   "source": [
    "The coefficients $\\xi_{i}$ and $\\eta_{i}$ will be the coordinates of the corresponding vectors in the existing basis. Let us calculate their scalar product:\n",
    "\n",
    "$$(x,y)=(\\xi_{1} e_{1}+ \\xi_{2} e_{2}+...+\\xi_{n} e_{n},\\eta_{1} e_{1}+ \\eta_{2} e_{2}+...+\\eta_{n} e_{n}).$$\n",
    "\n",
    "Given the properties of the orthonormal basis (zeroing of all scalar products $(e_{i}, e_{j})=0$) and $(e_{i}, e_{i})=1$, we obtain that\n",
    "\n",
    "$$(x,y)=\\xi_{1}\\eta_{1} + \\xi_{2} \\eta_{2}+...+\\xi_{n}\\eta_{n}.$$"
   ]
  },
  {
   "cell_type": "markdown",
   "metadata": {
    "id": "DoG0Hea-c7cr"
   },
   "source": [
    "Таким образом, _в евклидовом пространстве с ортонормированным базисом скалярное произведение двух векторов равняется сумме произведений соответствующих координат этих векторов в этом базисе_."
   ]
  },
  {
   "cell_type": "markdown",
   "metadata": {
    "id": "B6bf-1D-c7ct"
   },
   "source": [
    "Также особенностью ортонормированного базиса является то, что _координаты произвольного элемента относительно ортонормированного базиса равны скалярным произведениям этого элемента на соответствующие базисные элементы._"
   ]
  },
  {
   "cell_type": "markdown",
   "metadata": {
    "id": "JOAQaPnDc7c1"
   },
   "source": [
    "## Additional"
   ]
  },
  {
   "cell_type": "markdown",
   "metadata": {
    "id": "sSWpQjS6c7c2"
   },
   "source": [
    "1. [Scalar product in Python](http://docs.scipy.org/doc/numpy/reference/routines.linalg.html#matrix-and-vector-products).\n",
    "\n",
    "2. [Documentation on norms in NumPy](http://docs.scipy.org/doc/numpy-1.10.0/reference/generated/numpy.linalg.norm.html)\n",
    "\n",
    "3. [Documentation on metrics in SciPy](http://docs.scipy.org/doc/scipy-0.16.0/reference/generated/scipy.spatial.distance.cdist.html)"
   ]
  }
 ],
 "metadata": {
  "colab": {
   "collapsed_sections": [],
   "name": "Линейная алгебра. Урок 1. Линейное пространство. Основные понятия. Часть 2.ipynb",
   "provenance": []
  },
  "kernelspec": {
   "display_name": "Python 3",
   "language": "python",
   "name": "python3"
  },
  "language_info": {
   "codemirror_mode": {
    "name": "ipython",
    "version": 3
   },
   "file_extension": ".py",
   "mimetype": "text/x-python",
   "name": "python",
   "nbconvert_exporter": "python",
   "pygments_lexer": "ipython3",
   "version": "3.8.5"
  }
 },
 "nbformat": 4,
 "nbformat_minor": 1
}
