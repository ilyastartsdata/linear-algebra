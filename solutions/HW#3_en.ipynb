{
 "cells": [
  {
   "cell_type": "markdown",
   "metadata": {
    "id": "qxSkqFXxVZvM"
   },
   "source": [
    "## Homework #3\n",
    "\n",
    "It is advisable to do all tasks manually, then check the results using numpy.\n",
    "\n",
    "__1.__ Identify which products of matrices $AB$ and $BA$ are defined and find the dimensions of the matrices obtained:\n",
    "\n",
    "   a) $A$ — matrix $4\\times 2$, $B$ — matrix $4\\times 2$;\n",
    "    \n",
    "   b) $A$ — matrix $2\\times 5$, $B$ — matrix $5\\times 3$;\n",
    "    \n",
    "   c) $A$ — matrix $8\\times 3$, $B$ — matrix $3\\times 8$;\n",
    "    \n",
    "   d) $A$ — square matrix $4\\times 4$, $B$ — square matrix $4\\times 4$.\n"
   ]
  },
  {
   "cell_type": "markdown",
   "metadata": {
    "id": "ulZLMANCVZvU"
   },
   "source": [
    "a) It cannot be multiplied\n",
    "b) AB 2X3\n",
    "c) AB 8X8, BA 3X3\n",
    "d) АВ BA 4X4"
   ]
  },
  {
   "cell_type": "markdown",
   "metadata": {
    "id": "gLaydz_1VZvU"
   },
   "source": [
    "__2.__ Find the sum and product of the matrices $A=\\begin{pmatrix}\n",
    "1 & -2\\\\ \n",
    "3 & 0\n",
    "\\end{pmatrix}$ and $B=\\begin{pmatrix}\n",
    "4 & -1\\\\ \n",
    "0 & 5\n",
    "\\end{pmatrix}.$\n"
   ]
  },
  {
   "cell_type": "markdown",
   "metadata": {
    "id": "la-DDA8kVZvV"
   },
   "source": [
    "### $$A+B\n",
    "=\n",
    "\\begin{pmatrix}\n",
    "1 & -2\\\\ \n",
    "3 & 0\n",
    "\\end{pmatrix} \n",
    "+\n",
    "\\begin{pmatrix}\n",
    "4 & -1\\\\ \n",
    "0 & 5\n",
    "\\end{pmatrix}=$$\n",
    "\n",
    "### $$=\n",
    "\\begin{pmatrix}\n",
    "1 + 4 & -2 -1\\\\ \n",
    "3 + 0 & 0 + 5\n",
    "\\end{pmatrix}\n",
    "= \n",
    "\\begin{pmatrix}\n",
    "5 & -3\\\\ \n",
    "3 &  5\n",
    "\\end{pmatrix}$$"
   ]
  },
  {
   "cell_type": "markdown",
   "metadata": {
    "id": "5nZJsvKaVZvW"
   },
   "source": [
    "### $$AB\n",
    "=\n",
    "\\begin{pmatrix}\n",
    "1 & -2\\\\ \n",
    "3 & 0\n",
    "\\end{pmatrix}\n",
    "\\cdot \n",
    "\\begin{pmatrix}\n",
    "4 & -1\\\\ \n",
    "0 & 5\n",
    "\\end{pmatrix}\n",
    "=$$ \n",
    "### $$=\\begin{pmatrix}\n",
    "1\\cdot 4 + -2\\cdot 0 & 1\\cdot (-1) -2\\cdot 5 \\\\ \n",
    "3\\cdot 4 + 0\\cdot 0 & 3\\cdot (-1) + 0\\cdot 5\n",
    "\\end{pmatrix} \n",
    "=\\begin{pmatrix}\n",
    "4 & -11\\\\ \n",
    "12 & -3\n",
    "\\end{pmatrix}$$"
   ]
  },
  {
   "cell_type": "markdown",
   "metadata": {
    "id": "hfv6nG2qVZvX"
   },
   "source": [
    "### $$BA\n",
    "= \n",
    "\\begin{pmatrix}\n",
    "4 & -1\\\\ \n",
    "0 & 5\n",
    "\\end{pmatrix}\n",
    "\\cdot  \n",
    "\\begin{pmatrix}\n",
    "1 & -2\\\\ \n",
    "3 & 0\n",
    "\\end{pmatrix}\n",
    "=$$\n",
    "### $$=\n",
    "\\begin{pmatrix}\n",
    "4\\cdot 1 + -1\\cdot 3 & 4\\cdot (-2) + -1\\cdot 0 \\\\ \n",
    "0\\cdot 1 + 5\\cdot 3 & 0\\cdot (-2) + 5\\cdot 0\n",
    "\\end{pmatrix}\n",
    "= \n",
    "\\begin{pmatrix}\n",
    "1 & -8\\\\ \n",
    "15 & 0\n",
    "\\end{pmatrix}$$"
   ]
  },
  {
   "cell_type": "code",
   "execution_count": 1,
   "metadata": {
    "id": "b0ZXPF2TVZvY",
    "outputId": "62e042a6-0e55-4897-f310-d404a3f1c031"
   },
   "outputs": [
    {
     "name": "stdout",
     "output_type": "stream",
     "text": [
      "Matrix A\n",
      "[[ 1 -2]\n",
      " [ 3  0]]\n",
      "Matrix B\n",
      "[[ 4 -1]\n",
      " [ 0  5]]\n",
      "Matrix С = A + B\n",
      "[[ 5 -3]\n",
      " [ 3  5]]\n",
      "Matrix AB\n",
      "[[  4 -11]\n",
      " [ 12  -3]]\n",
      "Matrix BА\n",
      "[[ 1 -8]\n",
      " [15  0]]\n"
     ]
    }
   ],
   "source": [
    "import numpy as np\n",
    "A = np.array([[1, -2], [3, 0]])\n",
    "B = np.array([[4, -1], [0, 5]])\n",
    "print(f'Matrix A\\n{A}')\n",
    "print(f'Matrix B\\n{B}')\n",
    "print(f'Matrix С = A + B\\n{A + B}')\n",
    "print(f'Matrix AB\\n{np.dot(A, B)}')\n",
    "print(f'Matrix BА\\n{np.dot(B, A)}')"
   ]
  },
  {
   "cell_type": "markdown",
   "metadata": {
    "id": "456JAQjtVZvZ"
   },
   "source": [
    "__3.__ From the patterns of addition and multiplication of matrices by a number, we can conclude that matrices of the same size form a linear space. Calculate the linear combination $3A-2B+4C$ for matrices $A=\\begin{pmatrix}\n",
    "1 & 7\\\\ \n",
    "3 & -6\n",
    "\\end{pmatrix}$, $B=\\begin{pmatrix}\n",
    "0 & 5\\\\ \n",
    "2 & -1\n",
    "\\end{pmatrix}$, $C=\\begin{pmatrix}\n",
    "2 & -4\\\\ \n",
    "1 & 1\n",
    "\\end{pmatrix}.$"
   ]
  },
  {
   "cell_type": "markdown",
   "metadata": {
    "id": "-ro_BvMBVZva"
   },
   "source": [
    "### $$3A-2B+4C=$$\n",
    "\n",
    "### $$\\begin{pmatrix}\n",
    "3 & 21\\\\ \n",
    "9 & -18\\\\\n",
    "\\end{pmatrix}\n",
    "+\n",
    "\\begin{pmatrix}\n",
    "0 & -10\\\\ \n",
    "-4 & 2\\\\\n",
    "\\end{pmatrix}\n",
    "+\n",
    "\\begin{pmatrix}\n",
    "8 & -16\\\\ \n",
    "4 & 4\\\\\n",
    "\\end{pmatrix}\n",
    "=$$\n",
    "### $$\n",
    "=\n",
    "\\begin{pmatrix}\n",
    "3+0+8 & 21-10-16\\\\ \n",
    "9-4+4 & -18+2+4\\\\\n",
    "\\end{pmatrix}\n",
    "=\n",
    "\\begin{pmatrix}\n",
    "11 & -5\\\\ \n",
    "9 & -12\n",
    "\\end{pmatrix}$$"
   ]
  },
  {
   "cell_type": "code",
   "execution_count": 2,
   "metadata": {
    "id": "9ei3onwFVZva",
    "outputId": "7c885d15-2b84-4bad-85c9-173a61a11f09"
   },
   "outputs": [
    {
     "name": "stdout",
     "output_type": "stream",
     "text": [
      "Matrix 3𝐴−2𝐵+4𝐶\n",
      "[[ 11  -5]\n",
      " [  9 -12]]\n"
     ]
    }
   ],
   "source": [
    "A = np.array([[1, 7], [3, -6]])\n",
    "B = np.array([[0, 5], [2, -1]])\n",
    "C = np.array([[2, -4], [1, 1]])\n",
    "print(f'Matrix 3𝐴−2𝐵+4𝐶\\n{3*A - 2*B + 4*C}')"
   ]
  },
  {
   "cell_type": "markdown",
   "metadata": {
    "id": "qNnmD410VZvb"
   },
   "source": [
    "__4.__ Given matrix $A=\\begin{pmatrix}\n",
    "4 & 1\\\\ \n",
    "5 & -2\\\\ \n",
    "2 & 3\n",
    "\\end{pmatrix}$.\n",
    "Calculate $AA^{T}$ и $A^{T}A$."
   ]
  },
  {
   "cell_type": "code",
   "execution_count": 3,
   "metadata": {
    "id": "QUjT_bWsVZvc",
    "outputId": "627027b5-549d-402e-b1a2-48a8fded62b7"
   },
   "outputs": [
    {
     "name": "stdout",
     "output_type": "stream",
     "text": [
      "Matrix:\n",
      "[[ 4  1]\n",
      " [ 5 -2]\n",
      " [ 2  3]]\n",
      "Transposed matrix:\n",
      "[[ 4  5  2]\n",
      " [ 1 -2  3]]\n",
      "Matrix 𝐴*𝐴𝑇\n",
      "[[17 18 11]\n",
      " [18 29  4]\n",
      " [11  4 13]]\n",
      "Matrix 𝐴𝑇*𝐴\n",
      "[[45  0]\n",
      " [ 0 14]]\n"
     ]
    }
   ],
   "source": [
    "A = np.array([[4, 1], [5, -2], [2, 3]])\n",
    "print(f'Matrix:\\n{A}')\n",
    "print(f'Transposed matrix:\\n{A.T}')\n",
    "print(f'Matrix 𝐴*𝐴𝑇\\n{np.dot(A,A.T)}')\n",
    "print(f'Matrix 𝐴𝑇*𝐴\\n{np.dot(A.T,A)}')"
   ]
  },
  {
   "cell_type": "markdown",
   "metadata": {
    "id": "InNGliSEVZvd"
   },
   "source": [
    "__5*.__ Write a function in Python to multiply two arbitrary matrices without using NumPy."
   ]
  },
  {
   "cell_type": "code",
   "execution_count": 4,
   "metadata": {
    "id": "UaCgMvH9VZve"
   },
   "outputs": [],
   "source": [
    "\n",
    "def skalar_prod(v1, v2):\n",
    "    return sum([i*j for i,j in zip(v1,v2)])\n",
    "       \n",
    "\n",
    "def matrix_product(A, B, display_result=True):\n",
    "    result = []\n",
    "    try:\n",
    "        for row_a in A:\n",
    "            internal_row = []\n",
    "            for k in range(len(B[0])):\n",
    "                column = [B[i][k] for i in range(len(B))]\n",
    "                internal_row.append(skalar_prod(row_a, column))\n",
    "            result.append(internal_row)\n",
    "        if display_result:\n",
    "            for row in result:\n",
    "                print(row)\n",
    "        return result\n",
    "    except Exception as e:\n",
    "        print('wrong dimensions!')\n",
    "        print(e)"
   ]
  },
  {
   "cell_type": "code",
   "execution_count": 5,
   "metadata": {
    "id": "XQZi4SRJVZve",
    "outputId": "b01db93c-ec88-41e2-8243-ec9ba75f2fc6"
   },
   "outputs": [
    {
     "name": "stdout",
     "output_type": "stream",
     "text": [
      "[14, 14]\n",
      "[32, 32]\n"
     ]
    }
   ],
   "source": [
    "# Check\n",
    "\n",
    "a = [[1,2,3],\n",
    "     [5,3,7]]\n",
    "b = [[1,1],\n",
    "     [2,2],\n",
    "     [3,3]]\n",
    "с = matrix_product(a,b)"
   ]
  },
  {
   "cell_type": "code",
   "execution_count": 6,
   "metadata": {
    "id": "-vFSzX_OVZve",
    "outputId": "a8fb8392-df80-4da1-d53e-380a22107e11"
   },
   "outputs": [
    {
     "data": {
      "text/plain": [
       "array([[14, 14],\n",
       "       [32, 32]])"
      ]
     },
     "execution_count": 6,
     "metadata": {},
     "output_type": "execute_result"
    }
   ],
   "source": [
    "# Comparing with NUMPY\n",
    "\n",
    "import numpy as np\n",
    "a_np = np.array(a)\n",
    "b_np = np.array(b)\n",
    "a_np.dot(b_np)"
   ]
  }
 ],
 "metadata": {
  "colab": {
   "name": "разбор ДЗ 3.ipynb",
   "provenance": []
  },
  "kernelspec": {
   "display_name": "Python 3",
   "language": "python",
   "name": "python3"
  },
  "language_info": {
   "codemirror_mode": {
    "name": "ipython",
    "version": 3
   },
   "file_extension": ".py",
   "mimetype": "text/x-python",
   "name": "python",
   "nbconvert_exporter": "python",
   "pygments_lexer": "ipython3",
   "version": "3.8.5"
  }
 },
 "nbformat": 4,
 "nbformat_minor": 1
}
