{
 "cells": [
  {
   "cell_type": "markdown",
   "metadata": {
    "id": "Wg1dayOgCGxK"
   },
   "source": [
    "# Lesson 5"
   ]
  },
  {
   "cell_type": "markdown",
   "metadata": {
    "id": "6PJL0hfnCGxS"
   },
   "source": [
    "# Linear transformations"
   ]
  },
  {
   "cell_type": "markdown",
   "metadata": {
    "id": "EhSF0q9oCGxY"
   },
   "source": [
    "In this lesson we will need to recall the topic of linear spaces."
   ]
  },
  {
   "cell_type": "markdown",
   "metadata": {
    "id": "OthBDHdrCGxa"
   },
   "source": [
    "\n",
    "In addition to the operations we introduced earlier for vectors (addition, multiplication by number, scalar product), we often need to perform other operations on vectors - for example, stretching, rotating, etc. That is, we need to match each vector with another vector according to some rule. Such a mapping, according to which each element $x$ of linear space $V$ is matched to an element $y$ of space $W$, is called _operator_ from $V$ to $W$:\n",
    "\n",
    "$$\\textbf{A} :V\\rightarrow W, ~ x\\mapsto y.$$\n"
   ]
  },
  {
   "cell_type": "markdown",
   "metadata": {
    "id": "N8hZsONjCGxd"
   },
   "source": [
    "An operator $\\textbf{A}$ acting from $V$ to $W$ is called _linear_ if for any elements $x_{1}$ and $x_{2}$ of space $V$ and any number $\\lambda$ the equalities are satisfied:\n",
    "\n",
    "$$\\textbf{A}(x_{1}+x_{2})=\\textbf{A}x_{1}+\\textbf{A}x_{2},$$\n",
    "$$\\textbf{A}(\\lambda x)=\\lambda \\textbf{A}x.$$"
   ]
  },
  {
   "cell_type": "markdown",
   "metadata": {
    "id": "1JA6BQt0CGxe"
   },
   "source": [
    "If $W$ is a subspace of space $V$ or coincides with it, then the operator is called a _linear transformation of space $V$_. Hereafter, unless otherwise specified, by a linear operator we will mean such a transformation.\n",
    "\n",
    "$$\\textbf{A}:V\\rightarrow V.$$"
   ]
  },
  {
   "cell_type": "markdown",
   "metadata": {
    "id": "TuJNdb3tCGxg"
   },
   "source": [
    "In other words, a linear transformation is a transformation that translates a vector $x$ of linear space $V$ into a vector $y$ of the same space:\n",
    "\n",
    "$$\\textbf{A}x=y.$$"
   ]
  },
  {
   "cell_type": "markdown",
   "metadata": {
    "id": "Cl_fHtO3CGxh"
   },
   "source": [
    "In this case, $y$ is called the _image_ of the element $x$, and $x$ is the _proimage_ of the element $y$."
   ]
  },
  {
   "cell_type": "markdown",
   "metadata": {
    "id": "upv-XK7xCGxi"
   },
   "source": [
    "__Definition__\n",
    "\n",
    "Let $\\textbf{A}$ and $\\textbf{B}$ be two linear operators acting from $V$ to $W$.\n",
    "\n",
    "- Let's call the _Sum_ of these operators a linear operator $\\textbf{A}+\\textbf{B}$, defined by equality\n",
    "\n",
    "$$(\\textbf{A}+\\textbf{B})x=\\textbf{A}x+\\textbf{B}x.$$\n",
    "\n",
    "- The _Product_ of the linear operator $\\textbf{A}$ on the scalar $\\lambda$ is the linear operator $\\lambda \\textbf{A}$, defined by the equality\n",
    "\n",
    "$$(\\lambda \\textbf{A})x = \\lambda(\\textbf{A}x).$$\n",
    "\n",
    "- A _zero_ operator is an operator $\\textbf{O}$ that maps all elements of space $V$ into a zero element of space $W$:\n",
    "\n",
    "$$\\textbf{O}x=0.$$\n",
    "\n",
    "- The _opposite_ operator $-\\textbf{A}$ for any operator $\\textbf{A}$ will be defined as the operator that satisfies the relation\n",
    "\n",
    "$$-\\textbf{A}=(-1)\\textbf{A}.$$"
   ]
  },
  {
   "cell_type": "markdown",
   "metadata": {
    "id": "G6DBDbboCGxo"
   },
   "source": [
    "  __Approval__\n",
    "\n",
    "_The set $L(V,W)$ of all linear operators acting from $V$ to $W$, with the introduced sum and multiplication operations on the scalar and the selected zero operator and the opposite operator form a linear space._"
   ]
  },
  {
   "cell_type": "markdown",
   "metadata": {
    "id": "QV3M26gjCGxq"
   },
   "source": [
    "### Properties of a set $L(V,V)$ linear operators"
   ]
  },
  {
   "cell_type": "markdown",
   "metadata": {
    "id": "Axz8954oCGxs"
   },
   "source": [
    "Let's call the _identical_ (or _unique_) operator a linear operator $\\textbf{I}$, acting according to the rule\n",
    "\n",
    "$$\\textbf{I}x=x.$$"
   ]
  },
  {
   "cell_type": "markdown",
   "metadata": {
    "id": "UIkSbTD6CGxt"
   },
   "source": [
    "Introduce the notion of _production_ of linear operators $\\textbf{A}$ and $\\textbf{B}$ from the set $L(V,V)$ as an operator $AB$, acting by the rule \n",
    "\n",
    "$$(\\textbf{AB})x=\\textbf{A}(\\textbf{B}x).$$\n",
    "\n",
    "In this case, in general $\\textbf{AB}\\neq \\textbf{BA}$."
   ]
  },
  {
   "cell_type": "markdown",
   "metadata": {
    "id": "7ica1BFXCGxv"
   },
   "source": [
    "For operators from $L(V,V)$ the following properties are true:<br>\n",
    "1) $\\lambda(\\textbf{AB})=(\\lambda \\textbf{A})\\textbf{B};$<br>\n",
    "2) $(\\textbf{A}+\\textbf{B})\\textbf{C}=\\textbf{AC}+\\textbf{BC};$<br>\n",
    "3) $\\textbf{A}(\\textbf{B}+\\textbf{C})=\\textbf{AB}+\\textbf{AC};$<br>\n",
    "4) $(\\textbf{AB})\\textbf{C}=\\textbf{A}(\\textbf{BC}).$"
   ]
  },
  {
   "cell_type": "markdown",
   "metadata": {
    "id": "CQPEsq_4CGxw"
   },
   "source": [
    "__Definition__\n",
    "\n",
    "A linear operator $\\textbf{A}$ acts _mutually unambiguously_ from $V$ to $V$ if two different elements $x_{1}$ and $x_{2}$ are answered by different elements $y_{1}=\\textbf{A}x_{1}$ and $y_{2}=\\textbf{A}x_{2}$."
   ]
  },
  {
   "cell_type": "markdown",
   "metadata": {
    "id": "61_xfK2eCGxx"
   },
   "source": [
    "__Definition__\n",
    "\n",
    "A linear operator $\\textbf{B}$ of $L(V,V)$ is called _verse_ to an operator $\\textbf{A}$ of $L(V,V)$ if $\\textbf{AB}=\\textbf{BA}=\\textbf{I}$."
   ]
  },
  {
   "cell_type": "markdown",
   "metadata": {
    "id": "KKOz2K3hCGxz"
   },
   "source": [
    "## The core and image of a linear operator"
   ]
  },
  {
   "cell_type": "markdown",
   "metadata": {
    "id": "7AQEZykrCGx4"
   },
   "source": [
    "There are two subspaces associated with any operator $\\textbf{A}$ - the _kernel_ and the _image_ of that operator."
   ]
  },
  {
   "cell_type": "markdown",
   "metadata": {
    "id": "uUORXj5ECGx5"
   },
   "source": [
    "The _nucleus of a linear operator_ $\\text{Ker}\\textbf{A}$ is the set of all vectors of the source space whose images coincide with the zero vector:\n",
    "\n",
    "$$\\text{Ker}\\textbf{A}=\\{x:\\textbf{A}x=0\\}.$$"
   ]
  },
  {
   "cell_type": "markdown",
   "metadata": {
    "id": "Y9V_MgSPCGx7"
   },
   "source": [
    "__Statement__\n",
    "\n",
    "The condition $\\text{Ker}\\textbf{A}=0$ is necessary and sufficient for the operator $\\textbf{A}$ to have an inverse."
   ]
  },
  {
   "cell_type": "markdown",
   "metadata": {
    "id": "PRajIXFvCGx-"
   },
   "source": [
    "The _image of a linear operator_ $\\text{Im}\\textbf{A}$ is the set of all vectors $y=\\textbf{A}x$ that result from the operator $\\textbf{A}$ affecting vectors of the source space:\n",
    "\n",
    "$$\\text{Im}\\textbf{A}=\\{y:y=\\textbf{A}x\\}.$$"
   ]
  },
  {
   "cell_type": "markdown",
   "metadata": {
    "id": "U-STOEMzCGx_"
   },
   "source": [
    "__Note__\n",
    "\n",
    "If $\\text{Ker}\\textbf{A}=0$, then $\\text{Im}\\textbf{A}=V$. Thus, the last condition is also necessary and sufficient for the operator $\\textbf{A}$ to have an inverse."
   ]
  },
  {
   "cell_type": "markdown",
   "metadata": {
    "id": "r98YlaNKCGyA"
   },
   "source": [
    "Some properties of the kernel and the image of the linear operator:\n",
    "\n",
    "- The sum of dimensions of the kernel and the image of the linear operator is equal to the dimensionality of the original space:\n",
    "\n",
    "$$\\text{dim}\\;\\text{Ker}\\textbf{A}+\\text{dim}\\;\\text{Im}\\textbf{A}=\\text{dim}V;$$\n",
    "\n",
    "- the image dimension of a linear operator $\\textbf{A}$ is called the _rank_ of that operator."
   ]
  },
  {
   "cell_type": "markdown",
   "metadata": {
    "id": "s67vVrh2CGyC"
   },
   "source": [
    "## Linear operator matrix"
   ]
  },
  {
   "cell_type": "markdown",
   "metadata": {
    "id": "oDPsiS6wCGyD"
   },
   "source": [
    "Any square matrix of size $n\\times n$ can be regarded as a linear operator translating a vector $x$ of $n$-dimensional space into a vector $y$ of the same space."
   ]
  },
  {
   "cell_type": "markdown",
   "metadata": {
    "id": "37Ea2NFcCGyE"
   },
   "source": [
    "Let's show that a linear operator in $n$-dimensional space can indeed be defined by defining $n^{2}$ numbers."
   ]
  },
  {
   "cell_type": "markdown",
   "metadata": {
    "id": "uar45jWlCGyR"
   },
   "source": [
    "Consider a $n$-dimensional space $V$. As we remember, each such space has a basis of $n$ linearly independent vectors $\\{e_{1},e_{2},...,e_{n}\\}$, by which any vector of this space can be decomposed:\n",
    "\n",
    "$$x=\\xi_{1}e_{1}+\\xi_{2}e_{2}+...+\\xi_{n}e_{n}.$$\n",
    "\n",
    "The coefficients $\\xi_{i}$ will be the coordinates of vector $x$ in this basis."
   ]
  },
  {
   "cell_type": "markdown",
   "metadata": {
    "id": "ZTc8HuQvCGyT"
   },
   "source": [
    "Take now a linear operator $\\textbf{A}$ acting from $V$ to $V$. Given the linearity of the operator, we obtain\n",
    "\n",
    "$$Ax=\\xi_{1}\\cdot \\textbf{A}e_{1}+\\xi_{2}\\cdot \\textbf{A}e_{2}+...+\\xi_{n}\\cdot \\textbf{A}e_{n}.$$"
   ]
  },
  {
   "cell_type": "markdown",
   "metadata": {
    "id": "jKechcneCGyU"
   },
   "source": [
    "Make a change  $g_{i}=\\textbf{A}e_{i}$: \n",
    "\n",
    "$$Ax=\\xi_{1}g_{1}+\\xi_{2}g_{2}+...+\\xi_{n}g_{n}.$$\n",
    "\n",
    "That is, the result of the operator $\\textbf{A}$ on vector $x$ is a vector having the same coordinates $(\\xi_{1},\\xi_{2},...,\\xi_{n})$, but in a basis expansion consisting of vectors $g_{i}$."
   ]
  },
  {
   "cell_type": "markdown",
   "metadata": {
    "id": "31s63br5CGy_"
   },
   "source": [
    "So, in order to know where an arbitrary vector $x$ goes when the operator $\\textbf{A}$ affects it, it is sufficient to know where $n$ basis vectors $e_{i}$ go."
   ]
  },
  {
   "cell_type": "markdown",
   "metadata": {
    "id": "XUKmo_92CGzA"
   },
   "source": [
    "Now consider the images $g_{k}=\\textbf{A}e_{k}$ of the basis vectors $e_{k}$. They will also represent vectors of the original space $V$, and hence each of them can be decomposed by the original basis $\\{e_{1},e_{2},...,e_{n}\\}$:\n",
    "\n",
    "$$g_{k}=a_{1k}\\cdot e_{1}+a_{2k}\\cdot e_{2}+...+a_{nk}\\cdot e_{n}.$$"
   ]
  },
  {
   "cell_type": "markdown",
   "metadata": {
    "id": "BuNhAuoHCGzC"
   },
   "source": [
    "In the end we get\n",
    "\n",
    "$$\\textbf{A}x=\\sum_{i=1}^{n}\\xi_{i}\\sum_{k=1}^{n}a_{ik}e_{i}=\\sum_{i=1}^{n}\\left(\\sum_{k=1}^{n}a_{ik}\\xi_{k} \\right)e_{i}.$$"
   ]
  },
  {
   "cell_type": "markdown",
   "metadata": {
    "id": "jO7erJx5CGzD"
   },
   "source": [
    "Thus, if $y=\\textbf{A}x$, and $y$ has coordinates $g_{1},g_{2},...,g_{n}$, then \n",
    "\n",
    "$$g_{i} = \\sum_{k=1}^{n}a_{ik}\\xi_{k}.$$"
   ]
  },
  {
   "cell_type": "markdown",
   "metadata": {
    "id": "NG-g7B9bCGzE"
   },
   "source": [
    "Each of $n$ vectors $g_{k}$ will be defined by a set of $n$ numbers $a_{ik}$, which characterize its expansion in the known basis $\\{e_{1},e_{2},...,e_{n}\\}$. Hence, the space of linear operators has dimension $n^{2}$, and the set of vectors $g_{k}$ can be defined $n^{2}$ by numbers $a_{ik}$, which can be written as a square matrix:\n",
    "\n",
    "$$A=(a_{ik})=\\begin{pmatrix}\n",
    "a_{11} & a_{12} & \\cdots & a_{1n}\\\\ \n",
    "a_{21} & a_{22} & \\cdots & a_{2n}\\\\ \n",
    "\\cdots & \\cdots & \\ddots & \\cdots\\\\ \n",
    "a_{n1} & a_{n2} & \\cdots & a_{nn}\n",
    "\\end{pmatrix}.$$"
   ]
  },
  {
   "cell_type": "markdown",
   "metadata": {
    "id": "_C0Sat5NCGzF"
   },
   "source": [
    "The resulting matrix is called the _matrix of the linear operator_ $\\textbf{A}$ in the basis $\\{e_{1},e_{2},...,e_{n}\\}$. \n",
    "\n",
    "Setting such a set of $n^{2}$ numbers completely determines the action of the operator $\\textbf{A}$ on the basis vectors. And knowing the action of a linear operator on basis vectors, we will know its action on any arbitrary vector of $n$-dimensional linear space $V$. "
   ]
  },
  {
   "cell_type": "markdown",
   "metadata": {
    "id": "UFZ7yEJ-CGzG"
   },
   "source": [
    "It follows from the resulting definition that __linear transformation matrices are always square__."
   ]
  },
  {
   "cell_type": "markdown",
   "metadata": {
    "id": "IboNXWrPCGzI"
   },
   "source": [
    "__Notes__\n",
    "\n",
    "- If the operator $\\textbf{A}$ is null, then all elements of the matrix $A$ of the operator are null in any basis, i.e. $A$ is a null matrix.\n",
    "\n",
    "- If the operator $\\textbf{A}$ is unit, then the matrix of this operator is unit in any basis.\n",
    "\n",
    "- The rank of the linear operator $\\textbf{A}$ is equal to the rank of the matrix $A$ of this operator.\n",
    "\n",
    "- The determinant of the matrix of a linear operator does not depend on the choice of basis, so we can introduce the concept of _determinant of a linear operator_\n",
    "$$det\\textbf{A}=detA,$$\n",
    "    where $A$ is the matrix of the linear operator $A$ in any basis."
   ]
  },
  {
   "cell_type": "markdown",
   "metadata": {
    "id": "Ggpjf9I5CGzJ"
   },
   "source": [
    "Let's look at some examples in two-dimensional space."
   ]
  },
  {
   "cell_type": "markdown",
   "metadata": {
    "id": "-JWefTnaCGzL"
   },
   "source": [
    "The __geometric meaning__ of a linear transformation given by a matrix\n",
    "\n",
    "$$A=\\begin{pmatrix}\n",
    "a & b\\\\ \n",
    "c & d\n",
    "\\end{pmatrix},$$\n",
    "\n",
    "can be expressed as a transformation of the unit square into a parallelogram with vertices $(0,0),~(a,b),~(a+c,b+d),~(c,d)$. The determinant of the linear operator matrix illustrates how many times the area of the resulting parallelogram is greater than that of the original unit square."
   ]
  },
  {
   "cell_type": "markdown",
   "metadata": {
    "id": "Ge5S3R0zCGzM"
   },
   "source": [
    "__Example 1__"
   ]
  },
  {
   "cell_type": "markdown",
   "metadata": {
    "id": "RADKwp9fCGzN"
   },
   "source": [
    "First, let's represent a basis of vectors $e_{1}=(1,0)$ and $e_{2}=(0,1)$ in two-dimensional space:"
   ]
  },
  {
   "cell_type": "code",
   "execution_count": 1,
   "metadata": {
    "id": "TBM32E1vCGzO"
   },
   "outputs": [],
   "source": [
    "import matplotlib.pyplot as plt"
   ]
  },
  {
   "cell_type": "code",
   "execution_count": 2,
   "metadata": {
    "colab": {
     "base_uri": "https://localhost:8080/",
     "height": 258
    },
    "id": "3Zwft8OICGzY",
    "outputId": "a54810ae-9dba-4ddd-eb26-06bb1862c486"
   },
   "outputs": [
    {
     "data": {
      "image/png": "[encoded data removed]",
      "text/plain": [
       "<Figure size 432x288 with 1 Axes>"
      ]
     },
     "metadata": {
      "needs_background": "light"
     },
     "output_type": "display_data"
    }
   ],
   "source": [
    "fig = plt.figure()\n",
    "ax = fig.add_subplot(1,1,1)\n",
    "\n",
    "ax.spines['left'].set_position('zero')\n",
    "ax.spines['bottom'].set_position('zero')\n",
    "\n",
    "ax.spines['right'].set_color('none')\n",
    "ax.spines['top'].set_color('none')\n",
    "\n",
    "plt.axis('scaled')\n",
    "plt.xlim(-2, 2)\n",
    "plt.ylim(-2, 2)\n",
    "\n",
    "ax.arrow(0, 0, 0, 1, head_width=0.15, head_length=0.2, length_includes_head=True, facecolor='black')\n",
    "ax.arrow(0, 0, 1, 0, head_width=0.15, head_length=0.2, length_includes_head=True, facecolor='black')\n",
    "ax.annotate(\"e1\", xy=(0.8, 0.2))\n",
    "ax.annotate(\"e2\", xy=(0.2, 0.8))\n",
    "\n",
    "plt.show()"
   ]
  },
  {
   "cell_type": "markdown",
   "metadata": {
    "id": "xCY7A4BhCGzi"
   },
   "source": [
    "\n",
    "Apply an arbitrary linear transformation to it, given by the matrix\n",
    "\n",
    "$$A=\\begin{pmatrix}\n",
    "0 & -1\\\\ \n",
    "1 & 0\n",
    "\\end{pmatrix}.$$\n",
    "\n",
    "The coefficient vectors of the basis expansion of vectors $g_{i}$ set the columns of the matrix of the linear operator. Then the basis vectors are transformed as follows:\n",
    "\n",
    "$$Ae_{1}=0\\cdot e_{1}+1\\cdot e_{2}=e_{2},$$\n",
    "\n",
    "$$Ae_{2}=-1\\cdot e_{1}+0\\cdot e_{2}=-e_{1}.$$\n",
    "\n",
    "Let's plot"
   ]
  },
  {
   "cell_type": "code",
   "execution_count": 3,
   "metadata": {
    "colab": {
     "base_uri": "https://localhost:8080/",
     "height": 258
    },
    "id": "WbJV75T8CGzk",
    "outputId": "e2869e4a-a95a-4232-9afd-ffcc9b01c315"
   },
   "outputs": [
    {
     "data": {
      "image/png": "[encoded data removed]",
      "text/plain": [
       "<Figure size 432x288 with 1 Axes>"
      ]
     },
     "metadata": {
      "needs_background": "light"
     },
     "output_type": "display_data"
    }
   ],
   "source": [
    "fig = plt.figure()\n",
    "ax = fig.add_subplot(1,1,1)\n",
    "\n",
    "ax.spines['left'].set_position('zero')\n",
    "ax.spines['bottom'].set_position('zero')\n",
    "\n",
    "ax.spines['right'].set_color('none')\n",
    "ax.spines['top'].set_color('none')\n",
    "\n",
    "plt.axis('scaled')\n",
    "plt.xlim(-2, 2)\n",
    "plt.ylim(-2, 2)\n",
    "\n",
    "ax.arrow(0, 0, 0, 1, head_width=0.15, head_length=0.2, length_includes_head=True, facecolor='black')\n",
    "ax.arrow(0, 0, -1, 0, head_width=0.15, head_length=0.2, length_includes_head=True, facecolor='black')\n",
    "ax.annotate(\"e2\", xy=(-0.8, 0.3))\n",
    "ax.annotate(\"e1\", xy=(0.2, 0.8))\n",
    "\n",
    "plt.show()"
   ]
  },
  {
   "cell_type": "markdown",
   "metadata": {
    "id": "P2yDQXt6CGzs"
   },
   "source": [
    "That is, we got a $90$ degree rotation of the basis.\n",
    "\n",
    "In fact, the matrix $A$ we set was __orthogonal__. Transformations given by orthogonal matrices are rotation or rotation with inversion, and in general the matrix of such transformation with rotation by angle $\\varphi$ is\n",
    "\n",
    "$$\\begin{pmatrix}\n",
    "cos \\varphi & sin \\varphi\\\\ \n",
    "-sin \\varphi & cos \\varphi\n",
    "\\end{pmatrix} \\; \\text{or} \\; \n",
    "\\begin{pmatrix}\n",
    "cos \\varphi & -sin \\varphi\\\\ \n",
    "sin \\varphi & cos \\varphi\n",
    "\\end{pmatrix}.$$"
   ]
  },
  {
   "cell_type": "markdown",
   "metadata": {
    "id": "PPf8fnDXCGzt"
   },
   "source": [
    "Important properties of orthogonal transformations:\n",
    "\n",
    "- orthogonal transformations preserve the scalar product\n",
    "\n",
    "$$\\left \\langle Ax,Az \\right \\rangle = \\left \\langle x,z \\right \\rangle;$$\n",
    "\n",
    "- orthogonal transformations save vector lengths\n",
    "\n",
    "$$\\left \\| Ax \\right \\| = \\left \\| x \\right \\|;$$\n",
    "\n",
    "- orthogonal transformations preserve angles between vectors;\n",
    "\n",
    "- orthogonal transformations are isometries, i.e. they preserve the distance between elements in metric space."
   ]
  },
  {
   "cell_type": "markdown",
   "metadata": {
    "id": "lW8q4HenCGzu"
   },
   "source": [
    "The determinant of a linear operator matrix illustrates how many times the area of a unit square will increase after applying that operator. For orthogonal matrices it is always\n",
    "\n",
    "$$detA=\\pm1.$$"
   ]
  },
  {
   "cell_type": "markdown",
   "metadata": {
    "id": "GumPsolWCGzw"
   },
   "source": [
    "__Example 2__"
   ]
  },
  {
   "cell_type": "markdown",
   "metadata": {
    "id": "u-Q5mcXfCGzx"
   },
   "source": [
    "The transformation given by a nondegenerate __diagonal__ matrix is a stretching or contraction with respect to coordinate axes.\n",
    "\n",
    "Consider the same basis vectors $e_{1}$ and $e_{2}$ and the action on them of the linear operator given by the matrix\n",
    "\n",
    "$$\\begin{pmatrix} 1 & 0\\\\  0 & 2 \\end{pmatrix}.$$\n",
    "\n",
    "$$Ae_{1}=1\\cdot e_{1}+0\\cdot e_{2}=e_{1},$$\n",
    "\n",
    "$$Ae_{2}=0\\cdot e_{1}+2\\cdot e_{2}=2e_{2}.$$\n",
    "\n",
    "Let's picture the resulting baseline:"
   ]
  },
  {
   "cell_type": "code",
   "execution_count": 4,
   "metadata": {
    "colab": {
     "base_uri": "https://localhost:8080/",
     "height": 258
    },
    "id": "75Ja58HoCGzz",
    "outputId": "1cee77fd-6972-4602-e706-10c8678498d8"
   },
   "outputs": [
    {
     "data": {
      "image/png": "[encoded data removed]",
      "text/plain": [
       "<Figure size 432x288 with 1 Axes>"
      ]
     },
     "metadata": {
      "needs_background": "light"
     },
     "output_type": "display_data"
    }
   ],
   "source": [
    "fig = plt.figure()\n",
    "ax = fig.add_subplot(1,1,1)\n",
    "\n",
    "ax.spines['left'].set_position('zero')\n",
    "ax.spines['bottom'].set_position('zero')\n",
    "\n",
    "ax.spines['right'].set_color('none')\n",
    "ax.spines['top'].set_color('none')\n",
    "\n",
    "plt.axis('scaled')\n",
    "plt.xlim(-2, 2)\n",
    "plt.ylim(-2, 2)\n",
    "\n",
    "ax.arrow(0, 0, 0, 2, head_width=0.15, head_length=0.2, length_includes_head=True, facecolor='black')\n",
    "ax.arrow(0, 0, 1, 0, head_width=0.15, head_length=0.2, length_includes_head=True, facecolor='black')\n",
    "ax.annotate(\"e1\", xy=(0.8, 0.3))\n",
    "ax.annotate(\"e2\", xy=(0.2, 1.8))\n",
    "\n",
    "plt.show()"
   ]
  },
  {
   "cell_type": "markdown",
   "metadata": {
    "id": "8UUwhT98CG0D"
   },
   "source": [
    "__Example 3__"
   ]
  },
  {
   "cell_type": "markdown",
   "metadata": {
    "id": "RM1-Jv7lCG0F"
   },
   "source": [
    "Let us consider another class of matrices - __symmetric__.\n",
    "\n",
    "The peculiarity of such matrices is that they can be represented as a product of an orthogonal matrix, a diagonal matrix and another orthogonal matrix:\n",
    "\n",
    "$$A=QDQ^{T},$$\n",
    "\n",
    "where $Q$ is some orthogonal matrix and $D$ is a diagonal matrix.\n",
    "\n",
    "In the context of linear transformations, this means that the complex transformation given by such a matrix can be represented as a combination of rotations and extensions along axes given by diagonal and orthogonal components of its expansion."
   ]
  },
  {
   "cell_type": "markdown",
   "metadata": {
    "id": "XnKYsMhXCG0H"
   },
   "source": [
    "The columns of the orthogonal matrix $Q$ from this expansion contain an orthonormal basis of _native vectors_, and the diagonal matrix $D$ contains _native values_ of the original matrix on the main diagonal. We will learn the meaning of these terms later in this lesson."
   ]
  },
  {
   "cell_type": "markdown",
   "metadata": {
    "id": "3PB8SbLdCG0J"
   },
   "source": [
    "## Characteristic polynomial of a linear operator"
   ]
  },
  {
   "cell_type": "markdown",
   "metadata": {
    "id": "RyV-JoQgCG0L"
   },
   "source": [
    "__Definition__\n",
    "\n",
    "A polynomial relative to $\\lambda$ \n",
    "\n",
    "$$det(\\textbf{A}-\\lambda\\textbf{I}),$$\n",
    "\n",
    "where $\\textbf{A}$ — linear operator, $\\textbf{I}$ — unit operator from $L(V,V)$, is called the _characteristic polynomial_ of the operator $\\textbf{A}$."
   ]
  },
  {
   "cell_type": "markdown",
   "metadata": {
    "id": "z2T1Sw9WCG0P"
   },
   "source": [
    "Let $e_{k}$ be a basis in space $V$ and $A=(a_{ik})$ be a matrix operator $\\textbf{A}$ in this basis. Then\n",
    "\n",
    "$$det(\\textbf{A}-\\lambda\\textbf{I})=\\begin{vmatrix}\n",
    "a_{11}-\\lambda & a_{12} & \\cdots & a_{1n}\\\\ \n",
    "a_{21} & a_{22}-\\lambda & \\cdots & a_{2n}\\\\  \n",
    "\\cdots & \\cdots & \\ddots & \\cdots \\\\ \n",
    "a_{n1} & a_{n2} & \\cdots & a_{nn}-\\lambda\\\\ \n",
    "\\end{vmatrix}.$$"
   ]
  },
  {
   "cell_type": "markdown",
   "metadata": {
    "id": "42Ig8sAcCG0Y"
   },
   "source": [
    "__Example__\n",
    "\n",
    "For $n=2$\n",
    "\n",
    "$$det(\\textbf{A}-\\lambda\\textbf{I})=\\begin{vmatrix}\n",
    "a_{11}-\\lambda & a_{12}\\\\ \n",
    "a_{21} & a_{22}-\\lambda\n",
    "\\end{vmatrix} = \\lambda^{2}-(a_{11}+a_{22})\\lambda+(a_{11}a_{22}-a_{12}a_{21}).$$\n",
    "\n",
    "for $n=3$\n",
    "\n",
    "$$det(\\textbf{A}-\\lambda\\textbf{I})=\\begin{vmatrix}\n",
    "a_{11}-\\lambda & a_{12} & a_{13}\\\\ \n",
    "a_{21} & a_{22}-\\lambda & a_{23}\\\\  \n",
    "a_{31} & a_{32} & a_{33}-\\lambda\\\\ \n",
    "\\end{vmatrix} = -\\lambda^{3} + (a_{11}+a_{22}+a_{33})\\lambda^{2}-\\left\\{\\begin{vmatrix}\n",
    "a_{11} & a_{12}\\\\ \n",
    "a_{21} & a_{22}\n",
    "\\end{vmatrix} + \\begin{vmatrix}\n",
    "a_{22} & a_{23}\\\\ \n",
    "a_{32} & a_{33}\n",
    "\\end{vmatrix} + \\begin{vmatrix}\n",
    "a_{11} & a_{13}\\\\ \n",
    "a_{31} & a_{33}\n",
    "\\end{vmatrix}\\right\\}\\lambda + detA.$$"
   ]
  },
  {
   "cell_type": "markdown",
   "metadata": {
    "id": "jeLhQ0W9CG0Z"
   },
   "source": [
    "Let us write down the characteristic polynomial in the general case, denoting by $d_{k}$ the coefficient at $\\lambda^{k}$:\n",
    "\n",
    "$$det(\\textbf{A}-\\lambda\\textbf{I})=d_{0}+d_{1}\\lambda+...+d_{n-1}\\lambda^{n-1}+(-1)^{n}\\lambda^{n},$$\n",
    "\n",
    "or\n",
    "\n",
    "$$det(\\textbf{A}-\\lambda\\textbf{I})=\\sum_{k=0}^{n}d_{k}\\lambda^{k}.$$"
   ]
  },
  {
   "cell_type": "markdown",
   "metadata": {
    "id": "sRSEpb9bCG0b"
   },
   "source": [
    "Equation \n",
    "$$det(\\textbf{A}-\\lambda\\textbf{I})=0$$\n",
    "\n",
    "is called the _characteristic equation_ of the operator $\\textbf{A}$."
   ]
  },
  {
   "cell_type": "markdown",
   "metadata": {
    "id": "WxqftEsUCG0d"
   },
   "source": [
    "## Eigenvectors and eigenvalues of operators"
   ]
  },
  {
   "cell_type": "markdown",
   "metadata": {
    "id": "itJDO_0FCG0e"
   },
   "source": [
    "The _self vector_ of an operator $\\textbf{A}$ is such a non-zero vector that the operator's action on it is reduced to multiplying it by a number:\n",
    "\n",
    "$$\\textbf{A}x=\\lambda x.$$\n",
    "\n",
    "The number $\\lambda$ is called the _native value_ of this operator."
   ]
  },
  {
   "cell_type": "markdown",
   "metadata": {
    "id": "LXVcg4LJCG0h"
   },
   "source": [
    "In simplified terms, the effect of the operator $\\textbf{A}$ on an eigenvector $x$ consists in stretching or compressing the latter without changing its direction. The eigenvectors characterize the directions in which the operator stretches or compresses vectors without their rotation. That is, the geometrical meaning of eigenvectors is that if a nonzero vector $x$ is an eigenvector for the transformation $\\textbf{A}$, then its image $\\textbf{A}x$ is collinear to the prototype of $x$."
   ]
  },
  {
   "cell_type": "markdown",
   "metadata": {
    "id": "rwcyUEpiCG0j"
   },
   "source": [
    "In the context of machine learning, the notion of eigenvectors is useful to characterize the most typical directions of matrix transformation. They are used to reduce the matrix with maximum preservation of information in it (reference vector method)."
   ]
  },
  {
   "cell_type": "markdown",
   "metadata": {
    "id": "r4enE5nLCG0n"
   },
   "source": [
    "__Theorem__\n",
    "\n",
    "For $\\lambda$ to be an eigenvalue of the operator $\\textbf{A}$, it is necessary and sufficient that this number is the root of the characteristic equation of the operator $\\textbf{A}$."
   ]
  },
  {
   "cell_type": "markdown",
   "metadata": {
    "id": "-EKkD0swCG0o"
   },
   "source": [
    "__Example__\n",
    "\n",
    "Let's draw a basis of vectors $e_{1}=(1,0)$ and $e_{2}=(0,1)$ in two-dimensional space:"
   ]
  },
  {
   "cell_type": "code",
   "execution_count": 5,
   "metadata": {
    "id": "tWZ6MSaNCG0s",
    "outputId": "d4076baf-9fcb-4470-83d7-33f9b58a842e"
   },
   "outputs": [
    {
     "data": {
      "image/png": "[encoded data removed]",
      "text/plain": [
       "<Figure size 432x288 with 1 Axes>"
      ]
     },
     "metadata": {
      "needs_background": "light"
     },
     "output_type": "display_data"
    }
   ],
   "source": [
    "fig = plt.figure()\n",
    "ax = fig.add_subplot(1,1,1)\n",
    "0\n",
    "ax.spines['left'].set_position('zero')\n",
    "ax.spines['bottom'].set_position('zero')\n",
    "\n",
    "ax.spines['right'].set_color('none')\n",
    "ax.spines['top'].set_color('none')\n",
    "\n",
    "plt.axis('scaled')\n",
    "plt.xlim(-2, 2)\n",
    "plt.ylim(-2, 2)\n",
    "\n",
    "ax.arrow(0, 0, 0, 1, head_width=0.15, head_length=0.2, length_includes_head=True, facecolor='black')\n",
    "ax.arrow(0, 0, 1, 0, head_width=0.15, head_length=0.2, length_includes_head=True, facecolor='black')\n",
    "ax.annotate(\"e1\", xy=(0.8, 0.3))\n",
    "ax.annotate(\"e2\", xy=(0.2, 0.8))\n",
    "\n",
    "plt.show()"
   ]
  },
  {
   "cell_type": "markdown",
   "metadata": {
    "id": "5RttFuOJCG02"
   },
   "source": [
    "Apply the linear transformation given by the matrix\n",
    "\n",
    "$$A=\\begin{pmatrix}\n",
    "1 & 1\\\\ \n",
    "0 & 1\n",
    "\\end{pmatrix}.$$\n",
    "\n",
    "And find its eigenvectors and eigenvalues.\n"
   ]
  },
  {
   "cell_type": "markdown",
   "metadata": {
    "id": "fMstZvCoCG05"
   },
   "source": [
    "As stated earlier, the coefficient vectors of the decomposition of vectors $g_{i}$ by basis set the columns of the matrix of the linear operator. Then the basis vectors are transformed as follows:\n",
    "\n",
    "$$Ae_{1}=1\\cdot e_{1}+0\\cdot e_{2}=e_{1},$$\n",
    "\n",
    "$$Ae_{2}=e_{1}+e_{2}.$$"
   ]
  },
  {
   "cell_type": "code",
   "execution_count": 9,
   "metadata": {
    "id": "NaZBRx9ACG06",
    "outputId": "d8ea73c7-2613-4ced-911e-2afcbb2bc0ac"
   },
   "outputs": [
    {
     "ename": "IndentationError",
     "evalue": "unexpected indent (<ipython-input-9-d3ce32499f28>, line 2)",
     "output_type": "error",
     "traceback": [
      "\u001b[0;36m  File \u001b[0;32m\"<ipython-input-9-d3ce32499f28>\"\u001b[0;36m, line \u001b[0;32m2\u001b[0m\n\u001b[0;31m    ax = fig.add_subplot(1,1,1)\u001b[0m\n\u001b[0m    ^\u001b[0m\n\u001b[0;31mIndentationError\u001b[0m\u001b[0;31m:\u001b[0m unexpected indent\n"
     ]
    }
   ],
   "source": [
    "fi0g = plt.figure()\n",
    "    ax = fig.add_subplot(1,1,1)\n",
    "\n",
    "ax.spines['left'].set_position('zero')\n",
    "ax.spines['bottom'].set_position('zero')\n",
    "\n",
    "ax.spines['right'].set_color('none')\n",
    "ax.spines['top'].set_color('none')\n",
    "\n",
    "plt.axis('scaled')\n",
    "plt.xlim(-2, 2)\n",
    "plt.ylim(-2, 2)\n",
    "\n",
    "ax.arrow(0, 0, 1, 1, head_width=0.15, head_length=0.2, length_includes_head=True, facecolor='black')\n",
    "ax.arrow(0, 0, 1, 0, head_width=0.15, head_length=0.2, length_includes_head=True, facecolor='black')\n",
    "ax.annotate(\"e1\", xy=(0.8, 0.3))\n",
    "ax.annotate(\"e2\", xy=(0.6, 1.0))\n",
    "\n",
    "plt.show()"
   ]
  },
  {
   "cell_type": "markdown",
   "metadata": {
    "id": "rRaN3YpCCG1A"
   },
   "source": [
    "Now find the eigenvalues of the linear operator by composing and solving the characteristic equation:\n",
    "\n",
    "$$\\begin{vmatrix}\n",
    "1-\\lambda & 1\\\\ \n",
    "0 & 1-\\lambda\n",
    "\\end{vmatrix} = 0,$$\n",
    "\n",
    "$$(1-\\lambda)(1-\\lambda)-0\\cdot1=0,$$\n",
    "\n",
    "$$(1-\\lambda)^{2}=0,$$\n",
    "\n",
    "$$\\lambda=1.$$"
   ]
  },
  {
   "cell_type": "markdown",
   "metadata": {
    "id": "AU_jIiJLCG1B"
   },
   "source": [
    "Now find the eigenvectors of the form $\\begin{pmatrix}\n",
    "x_{1}\\\\ \n",
    "x_{2}\n",
    "\\end{pmatrix}$ by substituting the resulting eigenvalue into the expression $\\textbf{A}x=\\lambda x$:\n",
    "\n",
    "$$\\begin{pmatrix}\n",
    "1 & 1\\\\ \n",
    "0 & 1\n",
    "\\end{pmatrix}\n",
    "\\begin{pmatrix}\n",
    "x_{1}\\\\ \n",
    "x_{2}\n",
    "\\end{pmatrix}=\n",
    "\\lambda\n",
    "\\begin{pmatrix}\n",
    "x_{1}\\\\ \n",
    "x_{2}\n",
    "\\end{pmatrix}.\n",
    "$$"
   ]
  },
  {
   "cell_type": "markdown",
   "metadata": {
    "id": "_8uW26YXCG1D"
   },
   "source": [
    "We get\n",
    "\n",
    "$$\\begin{cases}\n",
    "x_{1}+x_{2}= x_{1}, \\\\\n",
    "0\\cdot x_{1}+x_{2}= x_{2}.\n",
    "\\end{cases}$$ \n",
    "\n",
    "Transfer everything to the left\n",
    "\n",
    "$$\\begin{cases}\n",
    "x_{1}+x_{2} - x_{1} = 0, \\\\\n",
    "0\\cdot x_{1}+x_{2} - x_{2} = 0;\n",
    "\\end{cases}$$ \n",
    "\n",
    "$$\\begin{cases}\n",
    "x_{1}=-2x_{2}, \\\\\n",
    "x_{2} = x_{2}.\n",
    "\\end{cases}$$"
   ]
  },
  {
   "cell_type": "markdown",
   "metadata": {
    "id": "4IZ2mWTMCG1F"
   },
   "source": [
    "The second coordinate $x_{2}=0$, and the first can be any non-zero value, e.g. $x_{1}=1$. Checking the substitution of such values in the system will show that a vector of the form $x=\\begin{pmatrix}\n",
    "1\\\\ \n",
    "0\n",
    "\\end{pmatrix}$ satisfies every equation of the system."
   ]
  },
  {
   "cell_type": "markdown",
   "metadata": {
    "id": "gtHYbkVhCG1K"
   },
   "source": [
    "Thus, there is only one set of collinear eigenvectors, the representative of which is $x=(1,0)$ (to be exact by multiplication), which this linear transformation converts to collinear ones, of the same length, since $\\lambda=1$, as we saw in the illustrations of vectors $e_{1}$ and $e_{2}$ before and after applying the linear transformation, when $e_{1} = (1,0)$ has not changed its direction and length."
   ]
  },
  {
   "cell_type": "markdown",
   "metadata": {
    "id": "n-RbdXjKCG1M"
   },
   "source": [
    "When solving similar problems, if several different eigenvalues $\\lambda_{i}$ are obtained, each of them must be substituted into the expression $\\textbf{A}x=\\lambda x$ in turn and find the eigenvectors corresponding to the given eigenvalue."
   ]
  },
  {
   "cell_type": "markdown",
   "metadata": {
    "id": "Rqc51_XqCG1N"
   },
   "source": [
    "__Statement__\n",
    "\n",
    "A matrix of size $n\\times n$ has exactly $n$ eigenvalues."
   ]
  },
  {
   "cell_type": "markdown",
   "metadata": {
    "id": "r5OMbpmyCG1Q"
   },
   "source": [
    "In the previous example, actually solving the quadratic equation resulted in two equal roots $\\lambda_{1}=\\lambda_{2}=1$."
   ]
  },
  {
   "cell_type": "markdown",
   "metadata": {
    "id": "veUkSAZ5CG1R"
   },
   "source": [
    "And the eigenvalues do not always have to be real. Consider the example of the rotation operator."
   ]
  },
  {
   "cell_type": "markdown",
   "metadata": {
    "id": "ESqLPAc8CG1S"
   },
   "source": [
    "__Example__\n",
    "\n",
    "The rotation operator, as we remember, is defined by an orthogonal matrix. Take, for example, a matrix of the form\n",
    "\n",
    "$$\\begin{pmatrix}\n",
    "cos \\varphi & -sin \\varphi\\\\ \n",
    "sin \\varphi & cos \\varphi\n",
    "\\end{pmatrix},$$\n",
    "\n",
    "making a turn at an angle $30^{\\circ}$:\n",
    "\n",
    "$$\\begin{pmatrix}\n",
    "\\frac{\\sqrt{3}}{2} & -\\frac{1}{2}\\\\ \n",
    "\\frac{1}{2} & \\frac{\\sqrt{3}}{2}\n",
    "\\end{pmatrix}.$$"
   ]
  },
  {
   "cell_type": "markdown",
   "metadata": {
    "id": "AqpP9TnACG1W"
   },
   "source": [
    "Let's make up a characteristic equation:\n",
    "\n",
    "$$\\begin{vmatrix}\n",
    "\\frac{\\sqrt{3}}{2}-\\lambda & -\\frac{1}{2}\\\\ \n",
    "\\frac{1}{2} & \\frac{\\sqrt{3}}{2}-\\lambda\n",
    "\\end{vmatrix}=0,$$\n",
    "\n",
    "$$\\left(\\frac{\\sqrt{3}}{2}-\\lambda \\right)^{2} + \\frac{1}{4}=0.$$"
   ]
  },
  {
   "cell_type": "markdown",
   "metadata": {
    "id": "kd7_o5j4CG1Z"
   },
   "source": [
    "It will have complex roots $$\\lambda = \\frac{\\sqrt{3}}{2}\\pm\\frac{i}{2}.$$"
   ]
  },
  {
   "cell_type": "markdown",
   "metadata": {
    "id": "XacGpxyfCG1a"
   },
   "source": [
    "This transformation has no valid eigenvectors, which is obvious in the geometric sense: no nonzero vector will map to a collinear vector after a 30 degree rotation."
   ]
  },
  {
   "cell_type": "markdown",
   "metadata": {
    "id": "q2oAiDNJCG1b"
   },
   "source": [
    "In NumPy, eigenvectors and eigenvalues of the operator are computed using the function `numpy.linalg.eig(a)`, where `a` is the matrix of this operator. As a result, it produces two arrays: a one-dimensional array `w` of eigennumbers and a two-dimensional array `v` in which eigenvectors are written by columns, so that vector `v[:, i]` corresponds to eigenvalue `w[i]`."
   ]
  },
  {
   "cell_type": "code",
   "execution_count": 10,
   "metadata": {
    "id": "YUyxl7VXCG1c"
   },
   "outputs": [],
   "source": [
    "import numpy as np\n",
    "\n",
    "np.set_printoptions(precision=2, suppress=True)"
   ]
  },
  {
   "cell_type": "code",
   "execution_count": 11,
   "metadata": {
    "id": "AJo34s7fCG1h",
    "outputId": "0f6152c1-6b34-4eca-8ada-769688db3548"
   },
   "outputs": [
    {
     "name": "stdout",
     "output_type": "stream",
     "text": [
      "Matrix A:\n",
      "[[1 1]\n",
      " [0 1]]\n",
      "Eigenvalues:\n",
      "[1. 1.]\n",
      "Eigenvectors:\n",
      "[[ 1. -1.]\n",
      " [ 0.  0.]]\n"
     ]
    }
   ],
   "source": [
    "a = np.array([[1, 1], [0, 1]])\n",
    "w, v = np.linalg.eig(a)\n",
    " \n",
    "print(f'Matrix A:\\n{a}')\n",
    "print(f'Eigenvalues:\\n{w}')\n",
    "print(f'Eigenvectors:\\n{v}')"
   ]
  },
  {
   "cell_type": "code",
   "execution_count": 13,
   "metadata": {
    "id": "lbcyRsTvWklX"
   },
   "outputs": [
    {
     "name": "stdout",
     "output_type": "stream",
     "text": [
      "Matrix A:\n",
      "[[ 0.87 -0.5 ]\n",
      " [ 0.5   0.87]]\n",
      "Eigenvalues:\n",
      "[0.87+0.5j 0.87-0.5j]\n",
      "Eigenvectors:\n",
      "[[ 0.  -0.71j  0.  +0.71j]\n",
      " [-0.71+0.j   -0.71-0.j  ]]\n"
     ]
    }
   ],
   "source": [
    "import math\n",
    "a = np.array([[math.sqrt(3)/2, -1/2], [1/2, math.sqrt(3)/2]])\n",
    "w, v = np.linalg.eig(a)\n",
    "print(f'Matrix A:\\n{a}')\n",
    "print(f'Eigenvalues:\\n{w}')\n",
    "print(f'Eigenvectors:\\n{v}')"
   ]
  },
  {
   "cell_type": "markdown",
   "metadata": {
    "id": "9xVsO3lJCG1v"
   },
   "source": [
    "### Examples of tasks"
   ]
  },
  {
   "cell_type": "markdown",
   "metadata": {
    "id": "WfAtaqHsCG1w"
   },
   "source": [
    "__Example 1__"
   ]
  },
  {
   "cell_type": "markdown",
   "metadata": {
    "id": "elz4LiXCCG1y"
   },
   "source": [
    "Let the linear operator be given by a matrix\n",
    "\n",
    "$$A=\\begin{pmatrix}\n",
    "1 & 1\\\\ \n",
    "-1 & 3\n",
    "\\end{pmatrix}.$$\n",
    "\n",
    "Find out if the vector $x=(1,-2)$ is an eigenvector of this linear operator."
   ]
  },
  {
   "cell_type": "markdown",
   "metadata": {
    "id": "AtahhqX2CG12"
   },
   "source": [
    "__Solution__\n",
    "\n",
    "Suppose vector $x$ is an eigenvector of a given linear operator, then there must exist some real number $\\lambda$ at which \n",
    "\n",
    "$$\\begin{pmatrix}\n",
    "1 & 1\\\\ \n",
    "-1 & 3\n",
    "\\end{pmatrix}\n",
    "\\begin{pmatrix}\n",
    "1\\\\ \n",
    "-2 \n",
    "\\end{pmatrix}=\n",
    "\\lambda\n",
    "\\begin{pmatrix}\n",
    "1\\\\ \n",
    "-2\n",
    "\\end{pmatrix}.\n",
    "$$\n",
    "\n",
    "This means that\n",
    "\n",
    "$$\\begin{cases}\n",
    "1-2=1\\cdot\\lambda \\\\ \n",
    "-1-6 = -2\\cdot \\lambda\n",
    "\\end{cases}\n",
    "\\Rightarrow\n",
    "\\begin{cases}\n",
    "\\lambda=-1\\\\ \n",
    "\\lambda=3,5\n",
    "\\end{cases}.$$\n",
    "\n",
    "Such a system makes no sense, hence vector $x=(1,-2)$ is not an eigenvector of the linear operator given by matrix $A$."
   ]
  },
  {
   "cell_type": "markdown",
   "metadata": {
    "id": "cY-7lS4vCG2M"
   },
   "source": [
    "__Example 2__"
   ]
  },
  {
   "cell_type": "markdown",
   "metadata": {
    "id": "2COh_Om7CG2O"
   },
   "source": [
    "Пусть линейный оператор задан матрицей\n",
    "\n",
    "$$A=\\begin{pmatrix}\n",
    "0 & 3 & 0\\\\ \n",
    "3 & 0 & 0\\\\\n",
    "0 & 0 & 3\n",
    "\\end{pmatrix}.$$\n",
    "\n",
    "Выясним, является ли вектор $x=(1, 1, 2)$ собственным вектором этого линейного оператора."
   ]
  },
  {
   "cell_type": "markdown",
   "metadata": {
    "id": "rzVjSolwCG2P"
   },
   "source": [
    "__Решение__\n",
    "\n",
    "Предположим, что вектор $x$ является собственным вектором заданного линейного оператора. Аналогично методике из предыдущего примера получим:\n",
    "\n",
    "$$\\begin{pmatrix}\n",
    "0 & 3 & 0\\\\ \n",
    "3 & 0 & 0\\\\\n",
    "0 & 0 & 3\n",
    "\\end{pmatrix}\n",
    "\\begin{pmatrix}\n",
    "1\\\\\n",
    "1\\\\\n",
    "2\n",
    "\\end{pmatrix}=\n",
    "\\lambda\n",
    "\\begin{pmatrix}\n",
    "1\\\\\n",
    "1\\\\\n",
    "2\n",
    "\\end{pmatrix}\n",
    "$$\n",
    "\n",
    "$$\\Rightarrow\n",
    "\\begin{cases}\n",
    "\\lambda=3\\\\ \n",
    "\\lambda=3\\\\\n",
    "2\\lambda=6\n",
    "\\end{cases}\n",
    "\\Rightarrow\n",
    "\\lambda=3.$$\n",
    "\n",
    "Таким образом, вектор $x=(1,1,2)$ является собственным вектором линейного оператора, заданного матрицей $A$, и его собственное значение составляет $\\lambda=3.$"
   ]
  },
  {
   "cell_type": "markdown",
   "metadata": {
    "id": "u60X7ANcCG2V"
   },
   "source": [
    "## Additional\n",
    "\n",
    "1. [Eigenvectors and eigenvalues in NumPy](https://docs.scipy.org/doc/numpy/reference/generated/numpy.linalg.eig.html)."
   ]
  }
 ],
 "metadata": {
  "colab": {
   "collapsed_sections": [
    "u60X7ANcCG2V"
   ],
   "name": "Lesson_5-REVISED.ipynb",
   "provenance": []
  },
  "kernelspec": {
   "display_name": "Python 3",
   "language": "python",
   "name": "python3"
  },
  "language_info": {
   "codemirror_mode": {
    "name": "ipython",
    "version": 3
   },
   "file_extension": ".py",
   "mimetype": "text/x-python",
   "name": "python",
   "nbconvert_exporter": "python",
   "pygments_lexer": "ipython3",
   "version": "3.8.5"
  }
 },
 "nbformat": 4,
 "nbformat_minor": 1
}
