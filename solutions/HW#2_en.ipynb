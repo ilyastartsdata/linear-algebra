{
 "cells": [
  {
   "cell_type": "markdown",
   "metadata": {
    "id": "Ykn9g3xPSVsM"
   },
   "source": [
    "# Linear space. Basic concepts. Part 2"
   ]
  },
  {
   "cell_type": "markdown",
   "metadata": {
    "id": "CUanUo8XSVsk"
   },
   "source": [
    "# Homework"
   ]
  },
  {
   "cell_type": "markdown",
   "metadata": {
    "id": "6qRNDHdsSVsn"
   },
   "source": [
    "__1.__ Find the scalar product of the vectors $x, y \\in \\mathbb{R}$:\n",
    "\n",
    "а) $x=(0,-3, 6),~y=(-4, 7, 9);$\n",
    "\n",
    "б) $x=(7, -4, 0, 1),~y=(-3, 1, 11, 2).$"
   ]
  },
  {
   "cell_type": "markdown",
   "metadata": {
    "id": "NAJsLuuLSVsn"
   },
   "source": [
    "__Solution__"
   ]
  },
  {
   "cell_type": "code",
   "execution_count": 1,
   "metadata": {
    "id": "xl13Ot_mSVso"
   },
   "outputs": [],
   "source": [
    "import numpy as np\n",
    "from numpy.linalg import norm\n",
    "import matplotlib.pyplot as plt"
   ]
  },
  {
   "cell_type": "code",
   "execution_count": 2,
   "metadata": {
    "id": "1ssfE6W5SVsp"
   },
   "outputs": [],
   "source": [
    "x = np.array([0, -3, 6])\n",
    "y = np.array([-4, 7, 9])"
   ]
  },
  {
   "cell_type": "code",
   "execution_count": 3,
   "metadata": {
    "id": "8yS3_DhMSVsq",
    "outputId": "fbac8272-d82e-4152-f8be-75685b035def"
   },
   "outputs": [
    {
     "name": "stdout",
     "output_type": "stream",
     "text": [
      "(x, y)=\t33\n"
     ]
    }
   ],
   "source": [
    "print(f'(x, y)=\\t{x.dot(y)}')"
   ]
  },
  {
   "cell_type": "code",
   "execution_count": 4,
   "metadata": {
    "id": "_TMM-bBfSVsv"
   },
   "outputs": [],
   "source": [
    "x = np.array([7, -4, 0, 1])\n",
    "y = np.array([-3, 1, 11, 2])"
   ]
  },
  {
   "cell_type": "code",
   "execution_count": 5,
   "metadata": {
    "id": "J5GrPDjRSVsy",
    "outputId": "f807caf5-4ac9-4385-b154-91f960bf6a02"
   },
   "outputs": [
    {
     "name": "stdout",
     "output_type": "stream",
     "text": [
      "(x, y)=\t-23\n"
     ]
    }
   ],
   "source": [
    "print(f'(x, y)=\\t{x.dot(y)}')"
   ]
  },
  {
   "cell_type": "markdown",
   "metadata": {
    "id": "HoZT9OGtSVsz"
   },
   "source": [
    "__2.__ Find the norms of the vectors $(4, 2, 4)$ and $(12, 3, 4)$ and the angle between them."
   ]
  },
  {
   "cell_type": "markdown",
   "metadata": {
    "id": "cG5T_iYtSVs0"
   },
   "source": [
    "__Solution__"
   ]
  },
  {
   "cell_type": "code",
   "execution_count": 6,
   "metadata": {
    "id": "25g15977SVs1"
   },
   "outputs": [],
   "source": [
    "a = np.array([4, 2, 4])\n",
    "b = np.array([12, 3, 4])"
   ]
  },
  {
   "cell_type": "code",
   "execution_count": 7,
   "metadata": {
    "id": "iu5AsvgBSVs3",
    "outputId": "45ca15ac-f6ed-46f7-dd48-d6772077c9fb"
   },
   "outputs": [
    {
     "name": "stdout",
     "output_type": "stream",
     "text": [
      "l1 norm of vector a:\t10.0\n",
      "l1 norm of vector b:\t19.0\n"
     ]
    }
   ],
   "source": [
    "print(f'l1 norm of vector a:\\t{norm(a, ord=1)}')\n",
    "print(f'l1 norm of vector b:\\t{norm(b, ord=1)}')"
   ]
  },
  {
   "cell_type": "code",
   "execution_count": 8,
   "metadata": {
    "id": "VQ1DLNp5SVs5",
    "outputId": "50506722-9f1f-44b7-df70-6b1a0aaa2e5d"
   },
   "outputs": [
    {
     "name": "stdout",
     "output_type": "stream",
     "text": [
      "l2 norm of vector a:\t6.0\n",
      "l2 norm of vector b:\t13.0\n"
     ]
    }
   ],
   "source": [
    "print(f'l2 norm of vector a:\\t{norm(a, ord=2)}')\n",
    "print(f'l2 norm of vector b:\\t{norm(b, ord=2)}')"
   ]
  },
  {
   "cell_type": "code",
   "execution_count": 9,
   "metadata": {
    "id": "Nh1Kn9KMSVs6",
    "outputId": "3c2b2927-3902-4f9b-c678-0ea10b695829",
    "scrolled": true
   },
   "outputs": [
    {
     "name": "stdout",
     "output_type": "stream",
     "text": [
      "Cosine of the angle between a and b: 0.90\n",
      "Angle between a and b: 0.46\n"
     ]
    }
   ],
   "source": [
    "cos_phi = np.dot(a, b) / norm(a) / norm(b)\n",
    "print(f'Cosine of the angle between a and b: {cos_phi:.2f}')\n",
    "print(f'Angle between a and b: {np.arccos(cos_phi):.2f}')"
   ]
  },
  {
   "cell_type": "markdown",
   "metadata": {
    "id": "mLgaE4y3SVs7"
   },
   "source": [
    "__3.__ Is a linear space Euclidean if the scalar product is:<br>\n",
    "a) The product of vector lengths;<br>\n",
    "b) The tripled normal scalar product of vectors?"
   ]
  },
  {
   "cell_type": "markdown",
   "metadata": {
    "id": "_4jXorBkSVtA"
   },
   "source": [
    "__Solution__"
   ]
  },
  {
   "cell_type": "markdown",
   "metadata": {
    "id": "TFgIao8jSVtA"
   },
   "source": [
    "a) No, because the third axiom for Euclidean space will not hold: $(x_{1}+x_{2},y)=(x_{1},y)+(x_{2},y)$<br>"
   ]
  },
  {
   "cell_type": "markdown",
   "metadata": {
    "id": "0Mt7jpw0SVtB"
   },
   "source": [
    "It will be fulfilled only if $x_{1} \\mbox{ and } x_{2}$ are collinear. If they are not collinear, then the norm of $x_{1} + x_{2}$ will be less than the norms of these vectors separately."
   ]
  },
  {
   "cell_type": "markdown",
   "metadata": {
    "id": "IqjTuooQSVtC"
   },
   "source": [
    "b) Yes, because all axioms for Euclidean space are satisfied"
   ]
  },
  {
   "cell_type": "markdown",
   "metadata": {
    "id": "ql9dws0gSVtC"
   },
   "source": [
    "__4.__ Which of the following vectors form an orthonormal basis in linear space $\\mathbb{R}^{3}$:<br>\n",
    "а) $(1,0,0),(0,0,1);$ <br>\n",
    "б) $(1/\\sqrt{2},-1/\\sqrt{2},0),(1/\\sqrt{2},1/\\sqrt{2},0), (0,0,1);$<br>\n",
    "в) $(1/2, -1/2, 0), (0, 1/2, 1/2), (0,0,1);$<br>\n",
    "г) $(1,0,0),(0,1,0),(0,0,1)?$ "
   ]
  },
  {
   "cell_type": "markdown",
   "metadata": {
    "id": "IAKYpJVISVtD"
   },
   "source": [
    "__Solution__"
   ]
  },
  {
   "cell_type": "markdown",
   "metadata": {
    "id": "mq1Oksp0SVtE"
   },
   "source": [
    "а) form an orthonormal basis in $\\mathbb{R}^{3}$, but are not a basis $\\mathbb{R}^{3}$"
   ]
  },
  {
   "cell_type": "markdown",
   "metadata": {
    "id": "xR1aux3hSVtE"
   },
   "source": [
    "б) form an orthonormal basis, since the conditions are fulfilled $(e_{i}, e_{j})=0$ $\\forall$ $i\\neq j$ и $(e_{i},e_{i})=1$ $\\forall$ $i\\in[1, n].$"
   ]
  },
  {
   "cell_type": "code",
   "execution_count": 10,
   "metadata": {
    "id": "DcmJUNWBSVtF"
   },
   "outputs": [],
   "source": [
    "a = np.array([1/(2)**0.5, -1/(2)**0.5, 0])\n",
    "b = np.array([1/(2)**0.5, 1/(2)**0.5, 0])\n",
    "c = np.array([0, 0, 1])"
   ]
  },
  {
   "cell_type": "code",
   "execution_count": 11,
   "metadata": {
    "id": "JInE5aroSVtG",
    "outputId": "48d1bb28-04ec-4170-965f-3330d5cc77c9"
   },
   "outputs": [
    {
     "name": "stdout",
     "output_type": "stream",
     "text": [
      "(a, a)= 1\n",
      "(b, b)= 1\n",
      "(c, c)= 1\n"
     ]
    }
   ],
   "source": [
    "print(f'(a, a)= {a.dot(a):1.0f}')\n",
    "print(f'(b, b)= {b.dot(b):1.0f}')\n",
    "print(f'(c, c)= {c.dot(c):1.0f}')"
   ]
  },
  {
   "cell_type": "code",
   "execution_count": 12,
   "metadata": {
    "id": "f2HBSeDxSVtH",
    "outputId": "5c3a3c1e-8d29-4e41-c4fa-3da2cac30837"
   },
   "outputs": [
    {
     "name": "stdout",
     "output_type": "stream",
     "text": [
      "(a, b)= 0.0\n",
      "(a, c)= 0.0\n",
      "(c, b)= 0.0\n"
     ]
    }
   ],
   "source": [
    "print(f'(a, b)= {a.dot(b)}')\n",
    "print(f'(a, c)= {a.dot(c)}')\n",
    "print(f'(c, b)= {c.dot(b)}')"
   ]
  },
  {
   "cell_type": "markdown",
   "metadata": {
    "id": "dumRCCL4SVtI"
   },
   "source": [
    "в) Do not form an orthonormal basis, since the conditions are not met $(e_{i}, e_{j})=0$ $\\forall$ $i\\neq j$ and $(e_{i},e_{i})=1$ $\\forall$ $i\\in[1, n].$"
   ]
  },
  {
   "cell_type": "code",
   "execution_count": 13,
   "metadata": {
    "id": "OzGWCy0JSVtI"
   },
   "outputs": [],
   "source": [
    "a = np.array([1/2, -1/2, 0])\n",
    "b = np.array([0, 1/2, 1/2])\n",
    "c = np.array([0, 0, 1])"
   ]
  },
  {
   "cell_type": "code",
   "execution_count": 14,
   "metadata": {
    "id": "EU2wU1s2SVtJ",
    "outputId": "fbd33b95-5a9c-4063-8356-8ef19da459bf"
   },
   "outputs": [
    {
     "name": "stdout",
     "output_type": "stream",
     "text": [
      "(a, a)= 0.5\n",
      "(b, b)= 0.5\n",
      "(c, c)= 1\n"
     ]
    }
   ],
   "source": [
    "print(f'(a, a)= {a.dot(a)}')\n",
    "print(f'(b, b)= {b.dot(b)}')\n",
    "print(f'(c, c)= {c.dot(c)}')"
   ]
  },
  {
   "cell_type": "code",
   "execution_count": 15,
   "metadata": {
    "id": "YWIx0o8cSVtK",
    "outputId": "42884ce4-9fb1-4ae8-fb09-73c797d4108e"
   },
   "outputs": [
    {
     "name": "stdout",
     "output_type": "stream",
     "text": [
      "(a, b)= -0.25\n",
      "(a, c)= 0.0\n",
      "(c, b)= 0.5\n"
     ]
    }
   ],
   "source": [
    "print(f'(a, b)= {a.dot(b)}')\n",
    "print(f'(a, c)= {a.dot(c)}')\n",
    "print(f'(c, b)= {c.dot(b)}')"
   ]
  },
  {
   "cell_type": "markdown",
   "metadata": {
    "id": "-7Flu_vZSVtK"
   },
   "source": [
    "г) form an orthonormal basis, since the conditions are fulfilled $(e_{i}, e_{j})=0$ $\\forall$ $i\\neq j$ and $(e_{i},e_{i})=1$ $\\forall$ $i\\in[1, n].$"
   ]
  },
  {
   "cell_type": "code",
   "execution_count": 16,
   "metadata": {
    "id": "MMrrzMHeSVtL"
   },
   "outputs": [],
   "source": [
    "a = np.array([1, 0, 0])\n",
    "b = np.array([0, 1, 0])\n",
    "c = np.array([0, 0, 1])"
   ]
  },
  {
   "cell_type": "code",
   "execution_count": 17,
   "metadata": {
    "id": "64EkNHAGSVtL",
    "outputId": "d6aa906c-da66-4634-cf6d-c5f901551e2b"
   },
   "outputs": [
    {
     "name": "stdout",
     "output_type": "stream",
     "text": [
      "(a, a)= 1\n",
      "(b, b)= 1\n",
      "(c, c)= 1\n"
     ]
    }
   ],
   "source": [
    "print(f'(a, a)= {a.dot(a)}')\n",
    "print(f'(b, b)= {b.dot(b)}')\n",
    "print(f'(c, c)= {c.dot(c)}')"
   ]
  },
  {
   "cell_type": "code",
   "execution_count": 18,
   "metadata": {
    "id": "33YBONiUSVtN",
    "outputId": "813bec5c-fa1e-4e9c-8993-f05a3062678a"
   },
   "outputs": [
    {
     "name": "stdout",
     "output_type": "stream",
     "text": [
      "(a, b)= 0\n",
      "(a, c)= 0\n",
      "(c, b)= 0\n"
     ]
    }
   ],
   "source": [
    "print(f'(a, b)= {a.dot(b)}')\n",
    "print(f'(a, c)= {a.dot(c)}')\n",
    "print(f'(c, b)= {c.dot(b)}')"
   ]
  }
 ],
 "metadata": {
  "colab": {
   "name": "разбор ДЗ 2.ipynb",
   "provenance": []
  },
  "kernelspec": {
   "display_name": "Python 3",
   "language": "python",
   "name": "python3"
  },
  "language_info": {
   "codemirror_mode": {
    "name": "ipython",
    "version": 3
   },
   "file_extension": ".py",
   "mimetype": "text/x-python",
   "name": "python",
   "nbconvert_exporter": "python",
   "pygments_lexer": "ipython3",
   "version": "3.8.5"
  }
 },
 "nbformat": 4,
 "nbformat_minor": 1
}
