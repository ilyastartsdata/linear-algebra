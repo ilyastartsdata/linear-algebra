{
 "cells": [
  {
   "cell_type": "markdown",
   "metadata": {
    "id": "HPMpEWusIIIM"
   },
   "source": [
    "# Lesson 3"
   ]
  },
  {
   "cell_type": "markdown",
   "metadata": {
    "id": "USFuS5Q1IIIP"
   },
   "source": [
    "## Matrices & matrix operations. Part 1"
   ]
  },
  {
   "cell_type": "markdown",
   "metadata": {
    "id": "TMasMmypIIIQ"
   },
   "source": [
    "A __matrix__ of size $m\\times n$ is a rectangular table consisting of $m$ rows and $n$ columns. Elements of a matrix denoted by a capital letter (e.g. $A$) are usually denoted by $a_{ij}$, where the indices $i$ and $j$ are the row and column numbers, respectively, in which the element is located. \n",
    "\n",
    "$$\\begin{pmatrix}\n",
    "a_{11} & a_{12} & \\cdots & a_{1n}\\\\ \n",
    "a_{21} & a_{22} & \\cdots & a_{2n}\\\\  \n",
    "\\cdots & \\cdots & \\ddots & \\cdots \\\\ \n",
    "a_{m1} & a_{m2} & \\cdots & a_{mn}\\\\ \n",
    "\\end{pmatrix}$$\n",
    "\n",
    "The numbers $m$ and $n$ are called the _orders_ of a matrix. If $m=n$, then the matrix is called _square_, and the number $m=n$ is its _order_.\n",
    "\n",
    "The symbol is sometimes used to briefly identify a matrix $\\left\\|a_{ij}\\right\\|$ or an expression $A = \\left\\|a_{ij}\\right\\| = (a_{ij}) ~ (i = 1,2,...,m; ~ j = 1,2,...,n).$"
   ]
  },
  {
   "cell_type": "markdown",
   "metadata": {
    "id": "RwRqbRk2IIIS"
   },
   "source": [
    "In machine learning, matrices are typically used to store information about objects and their attributes. Typically, the rows contain the objects and the columns contain the features (some properties of the objects whose values are used to train the model and which the model must then predict for other objects)."
   ]
  },
  {
   "cell_type": "markdown",
   "metadata": {
    "id": "_s1EMY5hIIIT"
   },
   "source": [
    "The vectors studied in the previous lessons are special cases of matrices: in particular, the _vector-string_ (matrix of size $1\\times m$) and _vector-column_ (matrix of size $n\\times1$) mentioned in the previous lesson:\n",
    "\n",
    "$$\\begin{pmatrix}\n",
    "1 & 2 & 3\n",
    "\\end{pmatrix} ~ and ~ \\begin{pmatrix}\n",
    "1\\\\ \n",
    "2\\\\ \n",
    "3\n",
    "\\end{pmatrix}.$$"
   ]
  },
  {
   "cell_type": "markdown",
   "metadata": {
    "id": "gnbUXphsIIIV"
   },
   "source": [
    "In Python, matrices are usually handled using the NumPy library."
   ]
  },
  {
   "cell_type": "code",
   "execution_count": 1,
   "metadata": {
    "id": "TraIV1atIIIX"
   },
   "outputs": [],
   "source": [
    "import numpy as np"
   ]
  },
  {
   "cell_type": "markdown",
   "metadata": {
    "id": "omoiTXIqIIIf"
   },
   "source": [
    "The easiest way to create a matrix is with the function `numpy.array(list, dtype=None, ...)`. Here `list` is the list of iterated objects that will make up the matrix rows. We have already used this function in the first lesson to create vectors (a particular one-dimensional case of matrices)."
   ]
  },
  {
   "cell_type": "code",
   "execution_count": 2,
   "metadata": {
    "colab": {
     "base_uri": "https://localhost:8080/"
    },
    "id": "IlIRX0DCIIIg",
    "outputId": "5a7d6bd8-2ddb-40b7-9c71-52311c9558e3"
   },
   "outputs": [
    {
     "name": "stdout",
     "output_type": "stream",
     "text": [
      "Matrix:\n",
      "[[1 2 3]\n",
      " [4 5 6]\n",
      " [7 8 9]]\n"
     ]
    }
   ],
   "source": [
    "a = np.array([[1, 2, 3], [4, 5, 6], [7, 8, 9]])\n",
    "print(f'Matrix:\\n{a}')"
   ]
  },
  {
   "cell_type": "markdown",
   "metadata": {
    "id": "ww2syeCzIIIr"
   },
   "source": [
    "## Matrix operations"
   ]
  },
  {
   "cell_type": "markdown",
   "metadata": {
    "id": "MI0lpYyYIIIs"
   },
   "source": [
    "### 1. Matrix addition"
   ]
  },
  {
   "cell_type": "markdown",
   "metadata": {
    "id": "lEtD1rBcIIIt"
   },
   "source": [
    "Consider matrices $A$ of size $m\\times n$, consisting of elements $a_{ij}$, and $B$ of the same size, consisting of elements $b_{ij}$.\n",
    "\n",
    "Only matrices of the same order can be added, and they are added element by element, i.e., the _sum of two matrices $A+B$ is a matrix $C$ of the same size consisting of elements $c_{ij}=a_{ij}+b_{ij}$:\n",
    "\n",
    "$$A + B = \n",
    "\\begin{pmatrix}\n",
    "a_{11} & a_{12} & \\cdots & a_{1n}\\\\ \n",
    "a_{21} & a_{22} & \\cdots & a_{2n}\\\\  \n",
    "\\cdots & \\cdots & \\ddots & \\cdots \\\\ \n",
    "a_{m1} & a_{m2} & \\cdots & a_{mn}\\\\ \n",
    "\\end{pmatrix} + \\begin{pmatrix}\n",
    "b_{11} & b_{12} & \\cdots & b_{1n}\\\\ \n",
    "b_{21} & b_{22} & \\cdots & b_{2n}\\\\  \n",
    "\\cdots & \\cdots & \\ddots & \\cdots \\\\ \n",
    "b_{m1} & b_{m2} & \\cdots & b_{mn}\\\\ \n",
    "\\end{pmatrix} = \\begin{pmatrix}\n",
    "a_{11} + b_{11} & a_{12} + b_{12} & \\cdots & a_{1n} + b_{1n}\\\\ \n",
    "a_{21} + b_{21}& a_{22} + b_{22}& \\cdots & a_{2n} + b_{2n}\\\\  \n",
    "\\cdots & \\cdots & \\ddots & \\cdots \\\\ \n",
    "a_{m1} + b_{m1} & a_{m2} + b_{m2} & \\cdots & a_{mn} + b_{mn}\\\\ \n",
    "\\end{pmatrix}\n",
    "= C.$$"
   ]
  },
  {
   "cell_type": "markdown",
   "metadata": {
    "id": "jAWeBI35IIIv"
   },
   "source": [
    "__Example__\n",
    "\n",
    "Add up two matrices filled with natural numbers:\n",
    "\n",
    "$$\\begin{pmatrix}\n",
    "1 & 2 & 3\\\\ \n",
    "4 & 5 & 6\\\\ \n",
    "7 & 8 & 9\n",
    "\\end{pmatrix} + \\begin{pmatrix}\n",
    "1 & 1 & 1\\\\ \n",
    "1 & 1 & 1\\\\ \n",
    "1 & 1 & 1\n",
    "\\end{pmatrix} = \\begin{pmatrix}\n",
    "2 & 3 & 4\\\\ \n",
    "5 & 6 & 7\\\\ \n",
    "8 & 9 & 10\n",
    "\\end{pmatrix}.$$\n"
   ]
  },
  {
   "cell_type": "markdown",
   "metadata": {
    "id": "xhSMidcRIIIx"
   },
   "source": [
    "And perform the same operation using Python:"
   ]
  },
  {
   "cell_type": "code",
   "execution_count": 3,
   "metadata": {
    "id": "8LzN5ls4IIIz",
    "outputId": "af68fe78-1914-4982-b42b-500f9c3d718b"
   },
   "outputs": [
    {
     "name": "stdout",
     "output_type": "stream",
     "text": [
      "Matrix A\n",
      "[[1 2 3]\n",
      " [4 5 6]\n",
      " [7 8 9]]\n",
      "\n",
      "Matrix B\n",
      "[[1. 1. 1.]\n",
      " [1. 1. 1.]\n",
      " [1. 1. 1.]]\n",
      "\n",
      "Matrix С = A + B\n",
      "[[ 2.  3.  4.]\n",
      " [ 5.  6.  7.]\n",
      " [ 8.  9. 10.]]\n"
     ]
    }
   ],
   "source": [
    "a = np.array([[1, 2, 3], [4, 5, 6], [7, 8, 9]])\n",
    "b = np.ones((3,3))  # function to create a matrix of size (x,y) filled with units\n",
    "\n",
    "print(f'Matrix A\\n{a}\\n')\n",
    "print(f'Matrix B\\n{b}\\n')\n",
    "print(f'Matrix С = A + B\\n{a + b}')"
   ]
  },
  {
   "cell_type": "markdown",
   "metadata": {
    "id": "x5eVeqZqIII6"
   },
   "source": [
    "The matrix addition operation has the same properties as the real number addition operation, namely<br>\n",
    "1) the permutative property: $A+B=B+A;$<br>\n",
    "2) combinative property: $(A+B)+C=A+(B+C).$"
   ]
  },
  {
   "cell_type": "markdown",
   "metadata": {
    "id": "erTcsjpxIII8"
   },
   "source": [
    "### 2. Multiplication of matrices by a number"
   ]
  },
  {
   "cell_type": "markdown",
   "metadata": {
    "id": "oGruD5fbIII9"
   },
   "source": [
    "Multiplication of a matrix by a number is as simple as addition: the _product of matrix_ $A=\\left\\|a_{ij}\\right\\|$ by number $\\lambda$ is matrix $C = \\left\\|c_{ij}\\right\\|$ whose elements $c_{ij}=\\lambda a_{ij}$, that is, each matrix element is multiplied by number $\\lambda$:\n",
    "\n",
    "$$\\lambda\\cdot\\begin{pmatrix}\n",
    "a_{11} & a_{12} & \\cdots & a_{1n}\\\\ \n",
    "a_{21} & a_{22} & \\cdots & a_{2n}\\\\  \n",
    "\\cdots & \\cdots & \\ddots & \\cdots \\\\ \n",
    "a_{m1} & a_{m2} & \\cdots & a_{mn}\\\\ \n",
    "\\end{pmatrix}=\n",
    "\\begin{pmatrix}\n",
    "\\lambda a_{11} & \\lambda a_{12} & \\cdots & \\lambda a_{1n}\\\\ \n",
    "\\lambda a_{21} & \\lambda a_{22} & \\cdots & \\lambda a_{2n}\\\\  \n",
    "\\cdots & \\cdots & \\ddots & \\cdots \\\\ \n",
    "\\lambda a_{m1} & \\lambda a_{m2} & \\cdots & \\lambda a_{mn}\\\\ \n",
    "\\end{pmatrix}.$$"
   ]
  },
  {
   "cell_type": "markdown",
   "metadata": {
    "id": "8k-HbF3lIII-"
   },
   "source": [
    "__Example__\n",
    "\n",
    "$$3\\cdot\\begin{pmatrix}\n",
    "1 & 2 & 3\\\\ \n",
    "4 & 5 & 6\\\\ \n",
    "7 & 8 & 9\n",
    "\\end{pmatrix} = \\begin{pmatrix}\n",
    "3 & 6 & 9\\\\ \n",
    "12 & 15 & 18\\\\ \n",
    "21 & 24 & 27\n",
    "\\end{pmatrix}.$$\n"
   ]
  },
  {
   "cell_type": "markdown",
   "metadata": {
    "id": "mr50Ru_0IIJA"
   },
   "source": [
    "This is also the case in Python:"
   ]
  },
  {
   "cell_type": "code",
   "execution_count": 4,
   "metadata": {
    "id": "xki24ZZkIIJB",
    "outputId": "b50fa258-7735-4026-b366-a52f5727616c"
   },
   "outputs": [
    {
     "name": "stdout",
     "output_type": "stream",
     "text": [
      "Matrix А\n",
      "[[1 2 3]\n",
      " [4 5 6]\n",
      " [7 8 9]]\n",
      "\n",
      "Matrix 3*А\n",
      "[[ 3  6  9]\n",
      " [12 15 18]\n",
      " [21 24 27]]\n"
     ]
    }
   ],
   "source": [
    "a = np.array([[1, 2, 3], [4, 5, 6], [7, 8, 9]])\n",
    "k = 3\n",
    "\n",
    "print(f'Matrix А\\n{a}\\n')\n",
    "print(f'Matrix 3*А\\n{k*a}')"
   ]
  },
  {
   "cell_type": "markdown",
   "metadata": {
    "id": "0BaC3kiiIIJI"
   },
   "source": [
    "Matrix multiplication by a number has the following properties:<br>\n",
    "1) $(\\lambda \\mu)A=\\lambda(\\mu A);$<br>\n",
    "2) $\\lambda (A+B)=\\lambda A + \\lambda B;$<br>\n",
    "3) $(\\lambda + \\mu) A = \\lambda A + \\mu A.$"
   ]
  },
  {
   "cell_type": "markdown",
   "metadata": {
    "id": "Pvc1GxhLIIJM"
   },
   "source": [
    "### 3. Matrix multiplication"
   ]
  },
  {
   "cell_type": "markdown",
   "metadata": {
    "id": "Ncq5och4IIJO"
   },
   "source": [
    "The _Product_ of the matrix $A = \\left\\|a_{ij}\\right|$ having orders $m$ and $n$, and the matrix $B = \\left\\|b_{ij}\\right|$, having orders $n$ and $k$ is called matrix $C = \\left\\||c_{ij}\\right||$ having orders $m$ and $k$:\n",
    "\n",
    "$$C = \\begin{pmatrix}\n",
    "c_{11} & c_{12} & \\cdots & c_{1k}\\\\ \n",
    "c_{21} & c_{22} & \\cdots & c_{2k}\\\\ \n",
    "\\cdots & \\cdots & \\ddots & \\cdots\\\\ \n",
    "c_{m1} & c_{m2} & \\cdots & c_{mk}\n",
    "\\end{pmatrix},$$\n",
    "\n",
    "filled with the elements defined by the formula\n",
    "\n",
    "$$ c_{ij}=\\sum_{p=1}^{n}a_{ip}b_{pj}.$$"
   ]
  },
  {
   "cell_type": "markdown",
   "metadata": {
    "id": "ypjQS0x2IIJP"
   },
   "source": [
    "The rule of matrix multiplication can be stated verbally as follows: The _element $c_{ij}$ at the intersection of the $i$th row and $j$th column of matrix $C=A\\cdot B$ is equal to the sum of the pairwise products of the corresponding elements of the $i$th row of matrix $A$ and $j$th column of matrix $B$."
   ]
  },
  {
   "cell_type": "markdown",
   "metadata": {
    "id": "_A_6aH_YIIJQ"
   },
   "source": [
    "Note that matrix $A$ cannot be multiplied by any matrix $B$: It is necessary that the number of columns of matrix $A$ be equal to the number of rows of matrix $B$."
   ]
  },
  {
   "cell_type": "markdown",
   "metadata": {
    "id": "bG5ktORzIIJW"
   },
   "source": [
    "In particular, it is possible to determine both products $A\\cdot B$ and $B\\cdot A$ only if the number of columns $A$ is the same as the number of rows $B$, and the number of rows $A$ is the same as the number of columns $B$. In this case, the matrices $A\\cdot B$ and $B\\cdot A$ will be squared. Their order will be different in general and will be the same only in the case of square matrices $A$ and $B$."
   ]
  },
  {
   "cell_type": "markdown",
   "metadata": {
    "id": "gEOYzBW5IIJY"
   },
   "source": [
    "__Example 1__\n",
    "\n",
    "The scalar product of vectors we discussed in the previous lesson can be understood as the multiplication of a row vector by a column vector."
   ]
  },
  {
   "cell_type": "markdown",
   "metadata": {
    "id": "qduLuBSdIIJZ"
   },
   "source": [
    "__Example 2__\n",
    "\n",
    "For a better understanding, let's look at the multiplication of second-order square matrices as an example:\n",
    "\n",
    "$$\\begin{pmatrix}\n",
    "a_{11} & a_{12}\\\\ \n",
    "a_{21} & a_{22}\n",
    "\\end{pmatrix} \\begin{pmatrix}\n",
    "b_{11} & b_{12}\\\\ \n",
    "b_{21} & b_{22}\n",
    "\\end{pmatrix}=\\begin{pmatrix}\n",
    "(a_{11}b_{11} + a_{12}b_{21}) & (a_{11}b_{12} + a_{12}b_{22})\\\\ \n",
    "(a_{21}b_{11} + a_{22}b_{21}) & (a_{21}b_{12} + a_{22}b_{22})\n",
    "\\end{pmatrix}.$$"
   ]
  },
  {
   "cell_type": "markdown",
   "metadata": {
    "id": "Kx83KwcAIIJa"
   },
   "source": [
    "__Example 3__\n",
    "\n",
    "Multiply the matrices\n",
    "\n",
    "$$A=\\begin{pmatrix}\n",
    "1 & 0\\\\ \n",
    "2 & 1\\\\ \n",
    "10 & 5\n",
    "\\end{pmatrix} \\; и \\; B=\\begin{pmatrix}\n",
    "2 & 0 & 0\\\\ \n",
    "0 & 0 & 1\n",
    "\\end{pmatrix}.$$\n",
    "\n",
    "$$A\\cdot B=\\begin{pmatrix}\n",
    "1\\cdot2+0\\cdot0 & 1\\cdot0+2\\cdot0 & 1\\cdot0+0\\cdot1\\\\ \n",
    "2\\cdot2+1\\cdot0 & 2\\cdot0+1\\cdot0 & 2\\cdot0+1\\cdot1\\\\ \n",
    "10\\cdot2+5\\cdot0 & 10\\cdot0+5\\cdot0 & 10\\cdot0+5\\cdot1\n",
    "\\end{pmatrix}=\\begin{pmatrix}\n",
    "2 & 0 & 0\\\\ \n",
    "4 & 0 & 1\\\\ \n",
    "20 & 0 & 5\n",
    "\\end{pmatrix}.$$"
   ]
  },
  {
   "cell_type": "markdown",
   "metadata": {
    "id": "-gZBASdqIIJc"
   },
   "source": [
    "Let's do the same with Python.\n",
    "\n",
    "In the NumPy library, we multiply matrices using the same tools we used to find the scalar product of vectors - the function `numpy.dot(a, b)` or the method `a.dot(b)`, only in this case `a` and `b` are matrices."
   ]
  },
  {
   "cell_type": "code",
   "execution_count": 5,
   "metadata": {
    "colab": {
     "base_uri": "https://localhost:8080/"
    },
    "id": "byP9e5P6IIJe",
    "outputId": "1450af0c-095c-4cc9-d070-0dca13735ded"
   },
   "outputs": [
    {
     "name": "stdout",
     "output_type": "stream",
     "text": [
      "Matrix A\n",
      "[[ 1  0]\n",
      " [ 2  1]\n",
      " [10  5]]\n",
      "Matrix B\n",
      "[[2 0 0]\n",
      " [0 0 1]]\n",
      "Matrix AB\n",
      "[[ 2  0  0]\n",
      " [ 4  0  1]\n",
      " [20  0  5]]\n"
     ]
    }
   ],
   "source": [
    "A = np.array([[1, 0], [2, 1], [10, 5]])\n",
    "B = np.array([[2, 0, 0], [0, 0, 1]])\n",
    "\n",
    "print(f'Matrix A\\n{A}')\n",
    "print(f'Matrix B\\n{B}')\n",
    "print(f'Matrix AB\\n{np.dot(A, B)}')"
   ]
  },
  {
   "cell_type": "markdown",
   "metadata": {
    "id": "LpkPfDRfIIJj"
   },
   "source": [
    "Let's try to multiply matrices that don't meet the rule of matching the number of rows and columns:"
   ]
  },
  {
   "cell_type": "code",
   "execution_count": 6,
   "metadata": {
    "colab": {
     "base_uri": "https://localhost:8080/",
     "height": 367
    },
    "id": "aBFY1bykIIJk",
    "outputId": "d1e74833-ae28-4140-e8d0-d38757882e82"
   },
   "outputs": [
    {
     "name": "stdout",
     "output_type": "stream",
     "text": [
      "Matrix A\n",
      "[[ 1  0]\n",
      " [ 2  1]\n",
      " [10  5]]\n",
      "Matrix B\n",
      "[[2 0 0]\n",
      " [0 0 1]\n",
      " [0 0 1]]\n"
     ]
    },
    {
     "ename": "ValueError",
     "evalue": "shapes (3,2) and (3,3) not aligned: 2 (dim 1) != 3 (dim 0)",
     "output_type": "error",
     "traceback": [
      "\u001b[0;31m---------------------------------------------------------------------------\u001b[0m",
      "\u001b[0;31mValueError\u001b[0m                                Traceback (most recent call last)",
      "\u001b[0;32m<ipython-input-6-046a9ac3dd09>\u001b[0m in \u001b[0;36m<module>\u001b[0;34m\u001b[0m\n\u001b[1;32m      4\u001b[0m \u001b[0mprint\u001b[0m\u001b[0;34m(\u001b[0m\u001b[0;34mf'Matrix A\\n{A}'\u001b[0m\u001b[0;34m)\u001b[0m\u001b[0;34m\u001b[0m\u001b[0;34m\u001b[0m\u001b[0m\n\u001b[1;32m      5\u001b[0m \u001b[0mprint\u001b[0m\u001b[0;34m(\u001b[0m\u001b[0;34mf'Matrix B\\n{B}'\u001b[0m\u001b[0;34m)\u001b[0m\u001b[0;34m\u001b[0m\u001b[0;34m\u001b[0m\u001b[0m\n\u001b[0;32m----> 6\u001b[0;31m \u001b[0mprint\u001b[0m\u001b[0;34m(\u001b[0m\u001b[0;34mf'Matrix AB\\n{np.dot(A, B)}'\u001b[0m\u001b[0;34m)\u001b[0m\u001b[0;34m\u001b[0m\u001b[0;34m\u001b[0m\u001b[0m\n\u001b[0m",
      "\u001b[0;32m<__array_function__ internals>\u001b[0m in \u001b[0;36mdot\u001b[0;34m(*args, **kwargs)\u001b[0m\n",
      "\u001b[0;31mValueError\u001b[0m: shapes (3,2) and (3,3) not aligned: 2 (dim 1) != 3 (dim 0)"
     ]
    }
   ],
   "source": [
    "A = np.array([[1, 0], [2, 1], [10, 5]])\n",
    "B = np.array([[2, 0, 0], [0, 0, 1], [0, 0, 1]])\n",
    "\n",
    "print(f'Matrix A\\n{A}')\n",
    "print(f'Matrix B\\n{B}')\n",
    "print(f'Matrix AB\\n{np.dot(A, B)}')"
   ]
  },
  {
   "cell_type": "markdown",
   "metadata": {
    "id": "gbk1i4SqIIJq"
   },
   "source": [
    "Running the code in the cell above causes an error because the number of columns of the first matrix does not equal the number of rows of the second matrix when multiplied."
   ]
  },
  {
   "cell_type": "markdown",
   "metadata": {
    "id": "qHsRShp0IIJr"
   },
   "source": [
    "__Example 4__\n",
    "\n",
    "Multiply the matrices\n",
    "\n",
    "$$A = \\begin{pmatrix}\n",
    "1 & 3\\\\ \n",
    "2 & 6\n",
    "\\end{pmatrix} ~ \n",
    "и ~\n",
    "B = \\begin{pmatrix}\n",
    "9 & 6\\\\ \n",
    "-3 & -2\n",
    "\\end{pmatrix}.$$\n",
    "\n",
    "$$\\begin{pmatrix}\n",
    "1 & 3\\\\ \n",
    "2 & 6\n",
    "\\end{pmatrix} \\cdot\n",
    "\\begin{pmatrix}\n",
    "9 & 6\\\\ \n",
    "-3 & -2\n",
    "\\end{pmatrix} = \n",
    "\\begin{pmatrix}\n",
    "1\\cdot 9 + 3\\cdot (-3) & 1\\cdot6 + 3\\cdot (-2)\\\\ \n",
    "2\\cdot 9 + 6\\cdot (-3) & 2\\cdot6 + 6\\cdot (-2)\n",
    "\\end{pmatrix} = \n",
    "\\begin{pmatrix}\n",
    "0 & 0\\\\ \n",
    "0 & 0\n",
    "\\end{pmatrix}.\n",
    "$$"
   ]
  },
  {
   "cell_type": "markdown",
   "metadata": {
    "id": "Jmgqr7OnIIJt"
   },
   "source": [
    "This is an important example, showing that matrices have divisors of zero, i.e. non-zero matrices which, when multiplied, give a _zero matrix_."
   ]
  },
  {
   "cell_type": "markdown",
   "metadata": {
    "id": "Yg3_X_DMIIJu"
   },
   "source": [
    "It follows from the specificity of matrix product that it has no commutativity property, i.e. $AB\\neq BA$. In general, this is true even for square matrices, e.g:\n",
    "\n",
    "$$\\begin{pmatrix}\n",
    "0 & 0\\\\ \n",
    "0 & 1\n",
    "\\end{pmatrix} \\begin{pmatrix}\n",
    "0 & 0\\\\ \n",
    "1 & 0\n",
    "\\end{pmatrix}=\\begin{pmatrix}\n",
    "0 & 0\\\\ \n",
    "1 & 0\n",
    "\\end{pmatrix},$$\n",
    "$$\\begin{pmatrix}\n",
    "0 & 0\\\\ \n",
    "1 & 0\n",
    "\\end{pmatrix}\\begin{pmatrix}\n",
    "0 & 0\\\\ \n",
    "0 & 1\n",
    "\\end{pmatrix}=\\begin{pmatrix}\n",
    "0 & 0\\\\ \n",
    "0 & 0\n",
    "\\end{pmatrix}.$$\n"
   ]
  },
  {
   "cell_type": "markdown",
   "metadata": {
    "id": "PhVfkiNRIIJw"
   },
   "source": [
    "However, the product of matrices of __appropriate dimensions__ has other characteristics:\n",
    "\n",
    "1. Associativity: $(AB)C = A(BC).$\n",
    "\n",
    "   __Proof__\n",
    "\n",
    "    Take matrices $A$ of size $m\\times n$, $B$ of size $n\\times k$, $C$ of size $k\\times l$. Then, by definition, the $i,j$th element of the product of matrix $AB$ by matrix $C$ is equal to:\n",
    "\n",
    "    $$\\left\\{(AB)C\\right\\}_{ij}=\\sum_{p=1}^{k}\\left\\{AB\\right\\}_{ip}c_{pj}=\\sum_{p=1}^{k}\\left\\  \n",
    "    (\\sum_{q=1}^{n}a_{iq}b_{qp}\\right)c_{pj}=\\sum_{q=1}^{n}a_{iq}\\left(\\sum_{p=1}^{k}b_{qp}c_{pj}\\right)=\\left\\{A(BC)\\right\\}_{ij},$$\n",
    "\n",
    "    which is exactly what I needed to prove.\n",
    "\n",
    "\n",
    "2. Distributivity: $(A+B)C = AC + BC$ и $A(B+C) = AB + AC$.\n",
    "\n",
    "    This property is derived from the definitions of sum and product of matrices."
   ]
  },
  {
   "cell_type": "markdown",
   "metadata": {
    "id": "vym6VYYAIIJx"
   },
   "source": [
    "The term \"multiplication of matrices\" is a special case of multiplication:\n",
    "\n",
    "$$A\\cdot A = A^{2}.$$"
   ]
  },
  {
   "cell_type": "markdown",
   "metadata": {
    "id": "2LMGVufIIIJy"
   },
   "source": [
    "__Example__\n",
    "\n",
    "$$\\begin{pmatrix}\n",
    "1 & 1\\\\ \n",
    "0 & 1\n",
    "\\end{pmatrix}^{2} = \n",
    "\\begin{pmatrix}\n",
    "1 & 1\\\\ \n",
    "0 & 1\n",
    "\\end{pmatrix} \\cdot\n",
    "\\begin{pmatrix}\n",
    "1 & 1\\\\ \n",
    "0 & 1\n",
    "\\end{pmatrix} = \n",
    "\\begin{pmatrix}\n",
    "1\\cdot1 + 1\\cdot0 & 1\\cdot1 + 1\\cdot1\\\\ \n",
    "0\\cdot1 + 1\\cdot0 & 0\\cdot1 + 1\\cdot1\n",
    "\\end{pmatrix} = \n",
    "\\begin{pmatrix}\n",
    "1 & 2\\\\ \n",
    "0 & 1\n",
    "\\end{pmatrix}\n",
    "$$"
   ]
  },
  {
   "cell_type": "markdown",
   "metadata": {
    "id": "YLI7KB2SIIJ0"
   },
   "source": [
    "### 4. Transpose matrices"
   ]
  },
  {
   "cell_type": "markdown",
   "metadata": {
    "id": "nc7zPlUtIIJ2"
   },
   "source": [
    "Consider another common procedure when working with matrices, called _transpose._"
   ]
  },
  {
   "cell_type": "markdown",
   "metadata": {
    "id": "ev5vUL01IIJ4"
   },
   "source": [
    "Suppose there is a matrix $A$ of size $m\\times n$. In this case, the matrix $B$ obtained by transposing matrix $A$ and denoted by $B=A^{T}$ will be a matrix of size $n\\times m$ whose elements $b_{ij}=a_{ji}$. In other words, a transposed matrix is a matrix mirrored with respect to the main diagonal (the diagonal on which the elements with $i=j$ are placed). By transposing, the rows of the original matrix become columns, and the columns become rows."
   ]
  },
  {
   "cell_type": "markdown",
   "metadata": {
    "id": "-NVLs4OxIIJ5"
   },
   "source": [
    "__Example__\n",
    "\n",
    "$$A=\\begin{pmatrix}\n",
    "8 & 5 & 3\\\\ \n",
    "4 & 6 & 1\\\\ \n",
    "0 & 11 & 9\\\\ \n",
    "2 & 7 & 10\n",
    "\\end{pmatrix}, \\;A^{T}=\\begin{pmatrix}\n",
    "8 & 4 & 0 & 2\\\\ \n",
    "5 & 6 & 11 & 7\\\\ \n",
    "3 & 1 & 9 & 10\n",
    "\\end{pmatrix}.$$"
   ]
  },
  {
   "cell_type": "markdown",
   "metadata": {
    "id": "YW_5jcRVIIKJ"
   },
   "source": [
    "In NumPy, the transposed matrix is computed using the `numpy.transpose(array)` function or the `array.T` method, where `array` is the matrix."
   ]
  },
  {
   "cell_type": "code",
   "execution_count": 7,
   "metadata": {
    "id": "Df1BiA-LIIKK",
    "outputId": "57ceaab8-8ccb-45ed-847a-17a5fb26d97d"
   },
   "outputs": [
    {
     "name": "stdout",
     "output_type": "stream",
     "text": [
      "Matrix:\n",
      "[[ 8  5  3]\n",
      " [ 4  6  1]\n",
      " [ 0 11  9]\n",
      " [ 2  7 10]]\n",
      "Transposed matrix:\n",
      "[[ 8  4  0  2]\n",
      " [ 5  6 11  7]\n",
      " [ 3  1  9 10]]\n"
     ]
    }
   ],
   "source": [
    "a = np.array([[8, 5, 3], [4, 6, 1], [0, 11, 9], [2, 7, 10]])\n",
    "\n",
    "print(f'Matrix:\\n{a}')\n",
    "print(f'Transposed matrix:\\n{a.T}')"
   ]
  },
  {
   "cell_type": "markdown",
   "metadata": {
    "id": "TeVOF0NvIILG"
   },
   "source": [
    "Some important properties of transposition:<br>\n",
    "1) $(A+B)^{T}=A^{T}+B^{T};$<br>\n",
    "2) $(A\\cdot B)^{T}=B^{T}\\cdot A^{T}.$"
   ]
  },
  {
   "cell_type": "markdown",
   "metadata": {
    "id": "DxfSvwWmIILI"
   },
   "source": [
    "## Matrix types"
   ]
  },
  {
   "cell_type": "markdown",
   "metadata": {
    "id": "GL3clunBIILJ"
   },
   "source": [
    "Consider some special types of matrices that we will need in the future, in particular when dealing with the topic of linear transformations and matrix decompositions."
   ]
  },
  {
   "cell_type": "markdown",
   "metadata": {
    "id": "rG2vBZvHIILL"
   },
   "source": [
    "### Diagonal matrix"
   ]
  },
  {
   "cell_type": "markdown",
   "metadata": {
    "id": "1WpriYv8IILM"
   },
   "source": [
    "A _diagonal matrix_ is a matrix in which all elements that do not lie on the main diagonal are zero:\n",
    "\n",
    "$$D = \\begin{pmatrix}\n",
    "d_{1} & 0 & \\cdots & 0\\\\ \n",
    "0 & d_{2} & \\cdots  & 0\\\\ \n",
    "\\cdots & \\cdots & \\ddots & \\cdots\\\\ \n",
    "0 & 0 & \\cdots & d_{n}\n",
    "\\end{pmatrix}.$$"
   ]
  },
  {
   "cell_type": "markdown",
   "metadata": {
    "id": "v8ARmXZjIILO"
   },
   "source": [
    "A special case of a diagonal matrix is a _unique matrix_, usually denoted by $E$ or $I$, which is a matrix in which the main diagonal is occupied by ones and the other elements are zero:\n",
    "\n",
    "$$E=\\begin{pmatrix}\n",
    "1 & 0 & \\cdots & 0\\\\ \n",
    "0 & 1 & \\cdots  & 0\\\\ \n",
    "\\cdots & \\cdots & \\ddots & \\cdots\\\\ \n",
    "0 & 0 & \\cdots & 1\n",
    "\\end{pmatrix}.$$\n"
   ]
  },
  {
   "cell_type": "markdown",
   "metadata": {
    "id": "O9GaXXjJIILP"
   },
   "source": [
    "In NumPy, the unit matrix is specified using the function `numpy.eye(n)`, where `n` is the order of the matrix:"
   ]
  },
  {
   "cell_type": "code",
   "execution_count": 8,
   "metadata": {
    "id": "OeWtn-CvIILQ",
    "outputId": "0cb38c34-90b5-4718-c6a3-53fe0d7c2bf3"
   },
   "outputs": [
    {
     "name": "stdout",
     "output_type": "stream",
     "text": [
      "Single matrix:\n",
      "[[1. 0. 0. 0. 0.]\n",
      " [0. 1. 0. 0. 0.]\n",
      " [0. 0. 1. 0. 0.]\n",
      " [0. 0. 0. 1. 0.]\n",
      " [0. 0. 0. 0. 1.]]\n"
     ]
    }
   ],
   "source": [
    "e = np.eye(5)\n",
    "print(f'Single matrix:\\n{e}')"
   ]
  },
  {
   "cell_type": "markdown",
   "metadata": {
    "id": "V4pXpL7lIILX"
   },
   "source": [
    "### Triangular matrix"
   ]
  },
  {
   "cell_type": "markdown",
   "metadata": {
    "id": "PorbtHZUIILZ"
   },
   "source": [
    "A _triangular matrix_ is a square matrix in which all elements below (or above) the main diagonal are zero."
   ]
  },
  {
   "cell_type": "markdown",
   "metadata": {
    "id": "wFa9I4LzIILb"
   },
   "source": [
    "A triangular matrix, in which all the elements below the main diagonal are zero, is called an _upper triangular (upper-triangular)_ matrix:\n",
    "\n",
    "$$\\begin{pmatrix}\n",
    "a_{11} & a_{12} & \\cdots & a_{1n}\\\\ \n",
    "0 & a_{22} & \\cdots & a_{2n}\\\\  \n",
    "\\cdots & \\cdots & \\ddots & \\cdots \\\\ \n",
    "0 & 0 & \\cdots & a_{nn}\\\\ \n",
    "\\end{pmatrix}.$$\n",
    "\n",
    "A triangular matrix in which all the elements above the main diagonal are zero is called a _lower triangular (lower-triangular)_ matrix:\n",
    "\n",
    "$$\\begin{pmatrix}\n",
    "a_{11} & 0 & \\cdots & 0\\\\ \n",
    "a_{21} & a_{22} & \\cdots & 0\\\\  \n",
    "\\cdots & \\cdots & \\ddots & \\cdots \\\\ \n",
    "a_{n1} & a_{n2} & \\cdots & a_{nn}\\\\ \n",
    "\\end{pmatrix}.$$"
   ]
  },
  {
   "cell_type": "markdown",
   "metadata": {
    "id": "yuBHV0THIILc"
   },
   "source": [
    "An important property of upper triangular matrices: _ when upper triangular matrices are multiplied, the property of upper triangularity is retained."
   ]
  },
  {
   "cell_type": "markdown",
   "metadata": {
    "id": "QthJnXTHIILd"
   },
   "source": [
    "__Example__"
   ]
  },
  {
   "cell_type": "code",
   "execution_count": 9,
   "metadata": {
    "colab": {
     "base_uri": "https://localhost:8080/"
    },
    "id": "AMhaFP0OIILe",
    "outputId": "7f12e2e0-6929-4017-dee0-db0becc1218a"
   },
   "outputs": [
    {
     "name": "stdout",
     "output_type": "stream",
     "text": [
      "Matrix A\n",
      "[[ 4  5  2]\n",
      " [ 1 -2  3]]\n",
      "\n",
      "Matrix B\n",
      "[[ 4  1]\n",
      " [ 5 -2]\n",
      " [ 2  3]]\n",
      "\n",
      "Matrix AB\n",
      "[[45  0]\n",
      " [ 0 14]]\n"
     ]
    }
   ],
   "source": [
    "import numpy as np\n",
    "a = np.array([[4, 5, 2], [1, -2, 3]])\n",
    "b = np.array([[4, 1], [5, -2], [2, 3]])\n",
    "\n",
    "print(f'Matrix A\\n{a}\\n')\n",
    "print(f'Matrix B\\n{b}\\n')\n",
    "print(f'Matrix AB\\n{np.dot(a, b)}')"
   ]
  },
  {
   "cell_type": "markdown",
   "metadata": {
    "id": "Nby-UpRiIILl"
   },
   "source": [
    "### Orthogonal matrix"
   ]
  },
  {
   "cell_type": "markdown",
   "metadata": {
    "id": "2GmzUAPFIILm"
   },
   "source": [
    "A matrix $A$ is called _orthogonal_ if \n",
    "\n",
    "$$AA^{T}=A^{T}A=E.$$"
   ]
  },
  {
   "cell_type": "markdown",
   "metadata": {
    "id": "2GEwHpHMIILn"
   },
   "source": [
    "__Example__"
   ]
  },
  {
   "cell_type": "markdown",
   "metadata": {
    "id": "5P430W3bIILo"
   },
   "source": [
    "An orthogonal matrix is\n",
    "\n",
    "$$\\begin{pmatrix}\n",
    "cos\\varphi & -sin\\varphi\\\\ \n",
    "sin \\varphi & cos\\varphi\n",
    "\\end{pmatrix}.$$"
   ]
  },
  {
   "cell_type": "markdown",
   "metadata": {
    "id": "aaURChnLIILq"
   },
   "source": [
    "Let's make sure that this is indeed the case:\n",
    "\n",
    "$$\\begin{pmatrix}\n",
    "cos\\varphi & -sin\\varphi\\\\ \n",
    "sin \\varphi & cos\\varphi\n",
    "\\end{pmatrix} \\cdot \n",
    "\\begin{pmatrix}\n",
    "cos\\varphi & sin\\varphi\\\\ \n",
    "-sin \\varphi & cos\\varphi\n",
    "\\end{pmatrix} = \n",
    "\\begin{pmatrix}\n",
    "cos\\varphi \\cdot cos\\varphi + (-sin\\varphi) \\cdot (-sin\\varphi) & cos\\varphi \\cdot sin\\varphi + (-sin\\varphi) \\cdot cos\\varphi\\\\ \n",
    "sin\\varphi \\cdot cos\\varphi + cos\\varphi \\cdot (-sin\\varphi) & sin\\varphi \\cdot sin\\varphi + cos\\varphi \\cdot cos\\varphi\n",
    "\\end{pmatrix} = \n",
    "\\begin{pmatrix}\n",
    "1 & 0\\\\ \n",
    "0 & 1\n",
    "\\end{pmatrix}.$$"
   ]
  },
  {
   "cell_type": "markdown",
   "metadata": {
    "id": "v-syO8J6IILr"
   },
   "source": [
    "### Symmetric matrix"
   ]
  },
  {
   "cell_type": "markdown",
   "metadata": {
    "id": "F-cW8mZCIILv"
   },
   "source": [
    "A matrix $A$ is called _symmetric_ if\n",
    "\n",
    "$$A=A^{T},$$\n",
    "\n",
    "that is, the symmetric matrix is symmetric about the main diagonal."
   ]
  },
  {
   "cell_type": "markdown",
   "metadata": {
    "id": "Vb0b3GdZIIL7"
   },
   "source": [
    "## Additional"
   ]
  },
  {
   "cell_type": "markdown",
   "metadata": {
    "id": "qtaxCeq1IIL8"
   },
   "source": [
    "1. [Ways to set a matrix in NumPy](https://docs.scipy.org/doc/numpy-1.10.1/user/basics.creation.html).\n",
    "2. [numpy.transpose](https://docs.scipy.org/doc/numpy-1.10.0/reference/generated/numpy.transpose.html).\n",
    "3. [array.T](https://docs.scipy.org/doc/numpy-1.10.0/reference/generated/numpy.ndarray.T.html).\n",
    "4. [Перемножение матриц в NumPy](https://docs.scipy.org/doc/numpy-1.10.0/reference/routines.linalg.html#matrix-and-vector-products)."
   ]
  }
 ],
 "metadata": {
  "colab": {
   "collapsed_sections": [],
   "name": "Lesson 3 - Матрицы и матричные операции, Часть 1.ipynb",
   "provenance": []
  },
  "kernelspec": {
   "display_name": "Python 3",
   "language": "python",
   "name": "python3"
  },
  "language_info": {
   "codemirror_mode": {
    "name": "ipython",
    "version": 3
   },
   "file_extension": ".py",
   "mimetype": "text/x-python",
   "name": "python",
   "nbconvert_exporter": "python",
   "pygments_lexer": "ipython3",
   "version": "3.8.5"
  }
 },
 "nbformat": 4,
 "nbformat_minor": 1
}
