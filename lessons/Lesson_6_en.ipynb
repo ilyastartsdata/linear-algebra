{
 "cells": [
  {
   "cell_type": "markdown",
   "metadata": {
    "id": "Gc0HjM95fO1P"
   },
   "source": [
    "# Lesson 6"
   ]
  },
  {
   "cell_type": "markdown",
   "metadata": {
    "id": "GbzywcdxfO1S"
   },
   "source": [
    "# Systems of linear equations. Part 2"
   ]
  },
  {
   "cell_type": "markdown",
   "metadata": {
    "id": "md8Xg102fO1T"
   },
   "source": [
    "## Existence and uniqueness of solutions to systems of linear equations (continued)"
   ]
  },
  {
   "cell_type": "markdown",
   "metadata": {
    "id": "WVZqJwlbfO1X"
   },
   "source": [
    "### Homogeneous systems"
   ]
  },
  {
   "cell_type": "markdown",
   "metadata": {
    "id": "w-Q5ip_BfO1Z"
   },
   "source": [
    "A homogeneous system is always joint, since in any case it will have a _trivial solution_: $x_{1}=x_{2}=...=x_{n}=0$."
   ]
  },
  {
   "cell_type": "markdown",
   "metadata": {
    "id": "AlNCeeGrfO1b"
   },
   "source": [
    "__Theorem__\n",
    "\n",
    "If a homogeneous square (the number of equations equals the number of unknowns) SLAE has a non-trivial solution, then the determinant of the coefficient matrix is zero."
   ]
  },
  {
   "cell_type": "markdown",
   "metadata": {
    "id": "cn-Q53AkfO1c"
   },
   "source": [
    "__Investigation__\n",
    "\n",
    "From the properties of the determinant, we can conclude that a homogeneous system has __only a trivial solution__ if the rank of the coefficient matrix is equal to the number of unknowns."
   ]
  },
  {
   "cell_type": "markdown",
   "metadata": {
    "id": "rL3Oi6R8fO1d"
   },
   "source": [
    "__Example__\n",
    "\n",
    "Find out if the following system of equations has non-trivial solutions:\n",
    "\n",
    "$$\\begin{cases}\n",
    "x_{1}-x_{2}+2x_{3}=0, \\\\\n",
    "2x_{1}+x_{2}-3x_{3}=0, \\\\\n",
    "3x_{1}+2x_{3}=0.\n",
    "\\end{cases}$$"
   ]
  },
  {
   "cell_type": "markdown",
   "metadata": {
    "id": "mFbNdtVFfO1e"
   },
   "source": [
    "Write down the coefficient matrix and apply elementary transformations to its rows:\n",
    "\n",
    "$$\\begin{pmatrix}\n",
    "1 & -1 & 2 \\\\ \n",
    "2 & 1 & -3 \\\\ \n",
    "3 & 0 & 2 \n",
    "\\end{pmatrix}.$$\n",
    "\n",
    "Subtract from the second line the first line multiplied by $2$ and from the third line the first line multiplied by $3$:\n",
    "\n",
    "$$\\begin{pmatrix}\n",
    "1 & -1 & 2 \\\\ \n",
    "0 & 3 & -7 \\\\ \n",
    "0 & 3 & -4 \n",
    "\\end{pmatrix}.$$\n",
    "\n",
    "Subtract the second line from the third:\n",
    "\n",
    "$$\\begin{pmatrix}\n",
    "1 & -1 & 2 \\\\ \n",
    "0 & 3 & -7 \\\\ \n",
    "0 & 0 & 3 \n",
    "\\end{pmatrix}.$$\n",
    "\n",
    "The rank of the matrix is $3$ as well as the number of unknowns, so the system has only a trivial solution $x_{1}=x_{2}=x_{3}=0$.\n",
    "\n",
    "Indeed, if we now write down the resulting system, which will be equivalent to the original system,\n",
    "\n",
    "$$\\begin{cases}\n",
    "x_{1}-x_{2}+2x_{3}=0, \\\\\n",
    "3x_{2}-7x_{3}=0, \\\\\n",
    "3x_{3}=0,\n",
    "\\end{cases}$$\n",
    "\n",
    "by reversing the Gaussian method, it is easy to see that this solution is the only one."
   ]
  },
  {
   "cell_type": "markdown",
   "metadata": {
    "id": "lDRnd4yzfO1g"
   },
   "source": [
    "### Fundamental system of solutions"
   ]
  },
  {
   "cell_type": "markdown",
   "metadata": {
    "id": "Hx5YwJVmfO1h"
   },
   "source": [
    "__Definition__\n",
    "\n",
    "A fundamental solution system (FSS)_ of a homogeneous system of equations is a set of linearly independent vectors $X_{i}=(x_{1},x_{2},...,x_{n})$, each of which is a solution of the homogeneous system of linear equations.\n",
    "\n",
    "Any linear combination of vectors from the FSR is also a solution of this system. \n",
    "\n",
    "That is, the set of all solutions of the homogeneous SLAE will form a linear space (the _solutions space_), and the FSR will be a basis in this linear space."
   ]
  },
  {
   "cell_type": "markdown",
   "metadata": {
    "id": "iC_SHHjnfO1i"
   },
   "source": [
    "__Statement__\n",
    "\n",
    "The number of vectors of the fundamental solution system is equal to the difference of the number of unknowns and the rank of the coefficient matrix."
   ]
  },
  {
   "cell_type": "markdown",
   "metadata": {
    "id": "RApm4LTxfO1k"
   },
   "source": [
    "__Example__\n",
    "\n",
    "Solve the homogeneous system\n",
    "\n",
    "$$\\begin{cases}\n",
    "3x_{1}+4x_{2}-x_{3}=0, \\\\\n",
    "x_{1}-3x_{2}+5x_{3}=0, \\\\\n",
    "4x_{1}+x_{2}+4x_{3}=0.\n",
    "\\end{cases}$$"
   ]
  },
  {
   "cell_type": "markdown",
   "metadata": {
    "id": "nQnOJps_fO1l"
   },
   "source": [
    "The determinant of the coefficient matrix\n",
    "\n",
    "$$\\begin{pmatrix}\n",
    "3 & 4 & -1 \\\\ \n",
    "1 & -3 & 5 \\\\ \n",
    "4 & 1 & 4 \n",
    "\\end{pmatrix}=0,$$\n",
    "\n",
    "it means that the system has non-trivial solutions.\n",
    "\n",
    "Note that the third line is the sum of the first and second lines, and hence, by the rules of elementary transformations, it can be discarded. We obtain the system\n",
    "\n",
    "$$\\begin{cases}\n",
    "3x_{1}+4x_{2}-x_{3}=0, \\\\\n",
    "x_{1}-3x_{2}+5x_{3}=0.\n",
    "\\end{cases}$$\n",
    "\n",
    "Move the terms with $x_{3}$ to the right-hand side:\n",
    "\n",
    "$$\\begin{cases}\n",
    "3x_{1}+4x_{2}=x_{3}, \\\\\n",
    "x_{1}-3x_{2}=-5x_{3}.\n",
    "\\end{cases}$$\n",
    "\n",
    "Express $x_{1}$ from the second line:\n",
    "\n",
    "$$x_{1}=3x_{2}-5x_{3},$$\n",
    "\n",
    "substitute in the first one:\n",
    "\n",
    "$$3(3x_{2}-5x_{3})+4x_{2}=x_{3},$$\n",
    "\n",
    "$$9x_{2}-15x_{3}+4x_{2}=x_{3},$$\n",
    "\n",
    "$$13x_{2}=16x_{3},$$\n",
    "\n",
    "$$x_{2}=\\frac{16x_{3}}{13}$$\n",
    "\n",
    "and find $x_{1}$:\n",
    "\n",
    "$$x_{1}=3\\cdot\\frac{16x_{3}}{13}-5x_{3}=-\\frac{17x_{3}}{13}.$$"
   ]
  },
  {
   "cell_type": "markdown",
   "metadata": {
    "id": "gQ3oShRhfO1m"
   },
   "source": [
    "$x_{3}$ can take an infinite number of values, so we can write down a general solution of the system of the form $(-\\frac{17x_{3}}{13},\\frac{16x_{3}}{13}, x_{3})$.\n",
    "\n",
    "One can verify its correctness by taking $x_{3}=1$, thus obtaining a partial solution of the system and substituting the obtained values of the unknowns into the original system:\n",
    "\n",
    "$$\\begin{cases}\n",
    "3\\cdot(-\\frac{17}{13})+4\\cdot\\frac{16}{13}-1=0, \\\\\n",
    "-\\frac{17}{13}-3\\cdot\\frac{16}{13}+5=0, \\\\\n",
    "4\\cdot(-\\frac{17}{13})+\\frac{16}{13}+4=0.\n",
    "\\end{cases}$$"
   ]
  },
  {
   "cell_type": "markdown",
   "metadata": {
    "id": "yeOCKVtWfO1o"
   },
   "source": [
    "The answer will be written as a linear combination of the FSR vectors (in this case there is only one vector):\n",
    "\n",
    "$$c\\left(-\\frac{17}{13},\\frac{16}{13}, 1\\right),$$\n",
    "\n",
    "where $c$ is any real number."
   ]
  },
  {
   "cell_type": "markdown",
   "metadata": {
    "id": "0IgxFvUlfO1p"
   },
   "source": [
    "### Relationship between solutions of an inhomogeneous and corresponding homogeneous system of equations"
   ]
  },
  {
   "cell_type": "markdown",
   "metadata": {
    "id": "bI1y_eIXfO1q"
   },
   "source": [
    "__Example__\n",
    "\n",
    "Consider a system of equations\n",
    "\n",
    "$$\\begin{cases}\n",
    "x_{1}-x_{2}+x_{3}-x_{4}=4, \\\\\n",
    "x_{1}+x_{2}+2x_{3}+3x_{4}=8, \\\\\n",
    "2x_{1}+4x_{2}+5x_{3}+10x_{4}=20, \\\\\n",
    "2x_{1}-4x_{2}+x_{3}-6x_{4}=4. \\\\\n",
    "\\end{cases}$$"
   ]
  },
  {
   "cell_type": "markdown",
   "metadata": {
    "id": "lcdyVAS3fO1s"
   },
   "source": [
    "Write down the extended matrix of the system:\n",
    "\n",
    "$$\\begin{pmatrix}\n",
    "\\left.\\begin{matrix}\n",
    "1 & -1 & 1 & -1 \\\\ \n",
    "1 & 1 & 2 & 3 \\\\ \n",
    "2 & 4 & 5 & 10 \\\\ \n",
    "2 & -4 & 1 & -6\n",
    "\\end{matrix}\\right|\n",
    "\\begin{matrix}\n",
    "4\\\\ \n",
    "8\\\\\n",
    "20\\\\\n",
    "4\n",
    "\\end{matrix}\n",
    "\\end{pmatrix},$$\n",
    "\n",
    "subtract the first line from the second, and subtract the first from the third and fourth, multiplied by 2:\n",
    "\n",
    "$$\\begin{pmatrix}\n",
    "\\left.\\begin{matrix}\n",
    "1 & -1 & 1 & -1 \\\\ \n",
    "0 & 2 & 1 & 4 \\\\ \n",
    "0 & 6 & 3 & 12 \\\\ \n",
    "0 & -2 & -1 & -4\n",
    "\\end{matrix}\\right|\n",
    "\\begin{matrix}\n",
    "4\\\\ \n",
    "4\\\\\n",
    "12\\\\\n",
    "-4\n",
    "\\end{matrix}\n",
    "\\end{pmatrix}.$$\n",
    "\n",
    "The last three lines are proportional, so two of them can be removed:\n",
    "\n",
    "$$\\begin{pmatrix}\n",
    "\\left.\\begin{matrix}\n",
    "1 & -1 & 1 & -1 \\\\ \n",
    "0 & 2 & 1 & 4 \\\\ \n",
    "\\end{matrix}\\right|\n",
    "\\begin{matrix}\n",
    "4\\\\ \n",
    "4\\\\\n",
    "\\end{matrix}\n",
    "\\end{pmatrix}.$$"
   ]
  },
  {
   "cell_type": "markdown",
   "metadata": {
    "id": "qMxkB_XBfO1t"
   },
   "source": [
    "The resulting system will be\n",
    "\n",
    "$$\\begin{cases}\n",
    "x_{1}-x_{2}+x_{3}-x_{4}=4, \\\\\n",
    "~~~~~2x_{2}+x_{3}+4x_{4}=4. \\\\\n",
    "\\end{cases}$$\n",
    "\n",
    "Taking $x_{3}=c_{3}$ and $x_{4}=c_{4}$, we get a general solution to the system:\n",
    "\n",
    "$$x_{4}=c_{4},$$\n",
    "\n",
    "$$x_{3}=c_{3},$$\n",
    "\n",
    "$$x_{2} = 2 - \\frac{1}{2}c_{3} - 2c_{4},$$\n",
    "\n",
    "$$x_{1} = 6 - \\frac{3}{2}c_{3} - c_{4}.$$"
   ]
  },
  {
   "cell_type": "markdown",
   "metadata": {
    "id": "G6-XpXPEfO1u"
   },
   "source": [
    "Consider now a similar system, but one that is homogeneous:\n",
    "$$\\begin{cases}\n",
    "x_{1}-x_{2}+x_{3}-x_{4}=0, \\\\\n",
    "x_{1}+x_{2}+2x_{3}+3x_{4}=0, \\\\\n",
    "2x_{1}+4x_{2}+5x_{3}+10x_{4}=0, \\\\\n",
    "2x_{1}-4x_{2}+x_{3}-6x_{4}=0. \\\\\n",
    "\\end{cases}$$"
   ]
  },
  {
   "cell_type": "markdown",
   "metadata": {
    "id": "0D5KbEYhfO1v"
   },
   "source": [
    "Repeat the transformation of the system matrix. The resulting system will have the form\n",
    "\n",
    "$$\\begin{cases}\n",
    "x_{1}-x_{2}+x_{3}-x_{4}=0, \\\\\n",
    "~~~~~2x_{2}+x_{3}+4x_{4}=0, \\\\\n",
    "\\end{cases}$$\n",
    "\n",
    "and its common solution would be\n",
    "\n",
    "$$x_{4}=c_{4},$$\n",
    "\n",
    "$$x_{3}=c_{3},$$\n",
    "\n",
    "$$x_{2} = -\\frac{1}{2}c_{3} - 2c_{4},$$\n",
    "\n",
    "$$x_{1} = -\\frac{3}{2}c_{3} - c_{4}.$$\n",
    "\n",
    "_If there is more than one free variable in the general solution, then classically the set corresponding to the simplest basis $e_{1}=(1,0,0,...,0),~e_{2}=(0,1,0,...,0),...,e_{n-r}=(0,0,0,...,1)$, where $n$ is the number of unknowns, $r$ is the rank of the coefficient matrix._\n",
    "\n",
    "By putting $c_{3}=1$, $c_{4}=0$ and then $c_{3}=0$, $c_{4}=1$, we get FSR\n",
    "\n",
    "$$X_{1}=\\left(-\\frac{3}{2},-\\frac{1}{2},1,0\\right),~X_{2}=(-1,-2,0,1).$$"
   ]
  },
  {
   "cell_type": "markdown",
   "metadata": {
    "id": "OOGq-CFTfO1x"
   },
   "source": [
    "__Statement 1__\n",
    "\n",
    "The sum of any solution of an inhomogeneous system of linear equations with any solution of the corresponding homogeneous system is a solution of the original inhomogeneous system."
   ]
  },
  {
   "cell_type": "markdown",
   "metadata": {
    "id": "rzdecq-rfO1y"
   },
   "source": [
    "Indeed, if $c_{1},...,c_{n}$$ is the solution to an inhomogeneous system and $d_{1},...,d_{n}$ is the solution to the corresponding homogeneous system, then by substituting $c_{1}+d_{1},...,c_{n}+d_{n}$ into $i$-equation of the inhomogeneous system, we obtain\n",
    "\n",
    "$$\\sum_{j=1}^{n}a_{ij}(c_{ij}+d_{ij})=\\sum_{j=1}^{n}a_{ij}c_{ij}+\\sum_{j=1}^{n}a_{ij}d_{ij} = b_{i}+0=b_{i}.$$"
   ]
  },
  {
   "cell_type": "markdown",
   "metadata": {
    "id": "y8VsXnDYfO10"
   },
   "source": [
    "Let us show this with an example.\n",
    "\n",
    "Take a partial solution of an inhomogeneous system, taking $c_{3}=c_{4}=0$, then $x_{2}=2, ~ x_{1}=6$, and a partial solution of a homogeneous system, taking $c_{3}=c_{4}=2$, then $x_{2}=-5, ~ x_{1}=-5$.\n",
    "\n",
    "Their sum $X=(6-5,2-5,0+2,0+2)=(1,-3,2,2)$ will be the solution of the inhomogeneous system:\n",
    "\n",
    "$$\\begin{cases}\n",
    "1+3+2-2=4, \\\\\n",
    "1-3+2\\cdot2+3\\cdot2=8, \\\\\n",
    "2\\cdot1+4\\cdot(-3)+5\\cdot2+10\\cdot2=20, \\\\\n",
    "2\\cdot1-4\\cdot(-3)+2-6\\cdot2=4. \\\\\n",
    "\\end{cases}$$"
   ]
  },
  {
   "cell_type": "markdown",
   "metadata": {
    "id": "HHMHi13GfO12"
   },
   "source": [
    "__Statement 2__ \n",
    "\n",
    "The difference of two arbitrary solutions of an inhomogeneous system of linear equations is the solution of the corresponding homogeneous system."
   ]
  },
  {
   "cell_type": "markdown",
   "metadata": {
    "id": "ErCtD0CtfO14"
   },
   "source": [
    "Indeed, if $c'_{1},...,c'_{n}$ and $c'_{1},...,c'_{n}$ are two arbitrary solutions of an inhomogeneous system, then by substituting $c'_{1}-c'_{1},...,c'_{n}-c'_{n}$ into any $i$th equation in place of the unknown numbers, we obtain\n",
    "$$\\sum_{j=1}^{n}a_{ij}(c'_{ij}-c''_{ij})=\\sum_{j=1}^{n}a_{ij}c_{ij}-\\sum_{j=1}^{n}a_{ij}c''_{ij} = b_{i}-b_{i}=0.$$"
   ]
  },
  {
   "cell_type": "markdown",
   "metadata": {
    "id": "GZgBsMeAfO15"
   },
   "source": [
    "Let us show this with an example.\n",
    "\n",
    "Let us take two partial solutions of an inhomogeneous system, taking $c_{3}=c_{4}=0$, then $x_{2}=2, ~ x_{1}=6$, and $c_{3}=c_{4}=2$, then $x_{2}=-3, ~ x_{1}=1$.\n",
    "\n",
    "Their difference $X=(6-1,2+3,0-2,0-2)=(5,5,-2,-2)$ will be the solution of the nonuniform system:\n",
    "\n",
    "$$\\begin{cases}\n",
    "5-5-2+2=0, \\\\\n",
    "5+5+2\\cdot(-2)+3\\cdot(-2)=0, \\\\\n",
    "2\\cdot5+4\\cdot5+5\\cdot(-2)+10\\cdot(-2)=0, \\\\\n",
    "2\\cdot5-4\\cdot5-2-6\\cdot(-2)=0. \\\\\n",
    "\\end{cases}$$"
   ]
  },
  {
   "cell_type": "markdown",
   "metadata": {
    "id": "oHGAsjDWfO17"
   },
   "source": [
    "__Statement 3__\n",
    "\n",
    "The sum of the partial solution of an inhomogeneous system and the general solution of the corresponding homogeneous system gives the general solution of the inhomogeneous system."
   ]
  },
  {
   "cell_type": "markdown",
   "metadata": {
    "id": "nMCPuX2FfO1-"
   },
   "source": [
    "This is the most important statement. It follows from the previous two and illustrates the relationship between solutions to inhomogeneous and corresponding homogeneous systems of equations."
   ]
  },
  {
   "cell_type": "markdown",
   "metadata": {
    "id": "g14JTYQxfO1_"
   },
   "source": [
    "### The relationship between the linear transformation kernel and the solution space"
   ]
  },
  {
   "cell_type": "markdown",
   "metadata": {
    "id": "E2_pBijafO2B"
   },
   "source": [
    "The space $\\text{Ker}\\textbf{A}$ of the linear operator $\\textbf{A}$ given by the coefficient matrix of the homogeneous system of equations $Ax=O$ coincides with the solution space of this homogeneous system."
   ]
  },
  {
   "cell_type": "markdown",
   "metadata": {
    "id": "fHY7nGlpfO2F"
   },
   "source": [
    "A corollary of this statement, given what has been studied in the previous section, is that the set of solutions of the inhomogeneous system $Ax=b$ contains all vectors of the form $x_{0}$ in the presence of a partial solution \n",
    "\n",
    "$$x_{0}+x^{*}, ~ x\\in\\text{Ker}\\textbf{A}.$$"
   ]
  },
  {
   "cell_type": "markdown",
   "metadata": {
    "id": "xOVQLfOcfO2H"
   },
   "source": [
    "## Other methods for solving SLAU"
   ]
  },
  {
   "cell_type": "markdown",
   "metadata": {
    "id": "PS9rgtxIfO2L"
   },
   "source": [
    "### Kramer Rule"
   ]
  },
  {
   "cell_type": "markdown",
   "metadata": {
    "id": "fLI3XDo7fO2M"
   },
   "source": [
    "For a system with $n$ equations and $n$ unknowns, if the system of equations is nondegenerate (i.e. $detA\\neq 0$), then the system is defined, that is, it has a single solution, and this solution can be found by Cramer's formulae:\n",
    "\n",
    "$$x_{i}=\\frac{detA_{i}}{detA},$$\n",
    "\n",
    "where $A_{i}$ is the matrix obtained by replacing $i$th column with a vector-column of free terms $b$."
   ]
  },
  {
   "cell_type": "markdown",
   "metadata": {
    "id": "THL8It2YfO2O"
   },
   "source": [
    "__Example__\n",
    "\n",
    "Solve a system of linear equations using the Cramer method\n",
    "\n",
    "$$\\begin{cases}\n",
    "2x_{1}+3x_{2}-x_{3}=4, \\\\\n",
    "x_{1}+x_{2}+3x_{3}=5, \\\\\n",
    "3x_{1}-4x_{2}+x_{3}=0.\n",
    "\\end{cases}$$\n",
    "\n",
    "__Solution__\n",
    "\n",
    "Find the determinant of the coefficient matrix:\n",
    "\n",
    "$$detA=\\begin{vmatrix}\n",
    "2 & 3 & -1\\\\ \n",
    "1 & 1 & 3\\\\ \n",
    "3 & -4 & 1\n",
    "\\end{vmatrix}=\n",
    "2\\begin{vmatrix}\n",
    "1 & 3\\\\ \n",
    "-4 & 1 \n",
    "\\end{vmatrix}-\n",
    "3\\begin{vmatrix}\n",
    "1 & 3\\\\ \n",
    "3 & 1 \n",
    "\\end{vmatrix}-\n",
    "\\begin{vmatrix}\n",
    "1 & 1 \\\\ \n",
    "3 & -4\n",
    "\\end{vmatrix}=2(1 \\cdot 1-3\\cdot (-4))-3(1\\cdot 1-3\\cdot 3)-1(1\\cdot (-4)-3\\cdot 1)=57\\neq 0,$$\n",
    "\n",
    "hence, the system is joint.\n",
    "\n",
    "Find the determinants of $detA_{1}$, $detA_{2}$, $detA_{3}$:\n",
    "\n",
    "$$detA_{1}=\\begin{vmatrix}\n",
    "4 & 3 & -1\\\\ \n",
    "5 & 1 & 3\\\\ \n",
    "0 & -4 & 1\n",
    "\\end{vmatrix}=\n",
    "4\\begin{vmatrix}\n",
    "1 & 3\\\\ \n",
    "-4 & 1 \n",
    "\\end{vmatrix}-\n",
    "5\\begin{vmatrix}\n",
    "3 & -1\\\\ \n",
    "-4 & 1 \n",
    "\\end{vmatrix}+\n",
    "0\\begin{vmatrix}\n",
    "3 & -1 \\\\ \n",
    "1 & 3\n",
    "\\end{vmatrix}=4(1 \\cdot 1-3\\cdot (-4))-5(3\\cdot (-1)-(-4)\\cdot (-1))=57,$$\n",
    "\n",
    "$$detA_{2}=\\begin{vmatrix}\n",
    "2 & 4 & -1\\\\ \n",
    "1 & 5 & 3\\\\ \n",
    "3 & 0 & 1\n",
    "\\end{vmatrix}=\n",
    "2\\begin{vmatrix}\n",
    "5 & 3\\\\ \n",
    "0 & 1 \n",
    "\\end{vmatrix}-\n",
    "4\\begin{vmatrix}\n",
    "1 & 3\\\\ \n",
    "3 & 1 \n",
    "\\end{vmatrix}-\n",
    "\\begin{vmatrix}\n",
    "1 & 5 \\\\ \n",
    "3 & 0\n",
    "\\end{vmatrix}=2(5 \\cdot 1-0\\cdot 3)-4(1\\cdot 1-3\\cdot 3)-1(1\\cdot 0-3\\cdot 5)=57,$$\n",
    "\n",
    "$$detA_{3}=\\begin{vmatrix}\n",
    "2 & 3 & 4\\\\ \n",
    "1 & 1 & 5\\\\ \n",
    "3 & -4 & 0\n",
    "\\end{vmatrix}=\n",
    "2\\begin{vmatrix}\n",
    "1 & 5\\\\ \n",
    "-4 & 0 \n",
    "\\end{vmatrix}-\n",
    "3\\begin{vmatrix}\n",
    "1 & 5\\\\ \n",
    "3 & 0 \n",
    "\\end{vmatrix}+\n",
    "4\\begin{vmatrix}\n",
    "1 & 1 \\\\ \n",
    "3 & -4\n",
    "\\end{vmatrix}=2(1 \\cdot 0-(-4)\\cdot 5)-3(1\\cdot 0-5\\cdot 3)-1(1\\cdot (-4)-3\\cdot 1)=57.$$\n",
    "\n",
    "Let's find the solution using Cramer's formulas:\n",
    "\n",
    "$$x_{1} = \\frac{detA_{1}}{detA} = \\frac{57}{57}=1,$$\n",
    "\n",
    "$$x_{2} = \\frac{detA_{2}}{detA} = \\frac{57}{57}=1,$$\n",
    "\n",
    "$$x_{3} = \\frac{detA_{3}}{detA} = \\frac{57}{57}=1.$$\n",
    "\n",
    "Remember that Cramer's rule only applies to systems where the number of equations is the same as the number of unknowns."
   ]
  },
  {
   "cell_type": "markdown",
   "metadata": {
    "id": "LlKgjl7TfO2P"
   },
   "source": [
    "### LU-split"
   ]
  },
  {
   "cell_type": "markdown",
   "metadata": {
    "id": "PFA_I6X0fO2Q"
   },
   "source": [
    "This method is a modification of the Gauss method, invented by Alan Turing in 1948."
   ]
  },
  {
   "cell_type": "markdown",
   "metadata": {
    "id": "P6EM5MnlfO2T"
   },
   "source": [
    "__Theorem__\n",
    "\n",
    "Let a square matrix $A$ of order $n$ be given, and $A_{k}$ is the main minor of this matrix consisting of the first $k$ rows and columns. If $det(A_{k})\\neq0$ for $k=1,2,...,n-1$, then there exists a single lower triangular matrix $L=(l_{ij})$, where $l_{11}=l_{22}=...=l_{nn}=1$, and a single upper triangular matrix $U=(u_{ij})$, such that $LU=A$. Moreover, $det(A)=u_{11}\\cdot u_{22}\\cdot...\\cdot u_{nn}$$."
   ]
  },
  {
   "cell_type": "markdown",
   "metadata": {
    "id": "bf4gKSlKfO2U"
   },
   "source": [
    "Representing the matrix of a system of equations $A$ as a product of $LU$ is the basic idea of Gaussian exclusion schemes, since the system $Ax=b$ can be written as\n",
    "\n",
    "$$LUx=b$$\n",
    "\n",
    "and reduces to two systems with triangular matrices."
   ]
  },
  {
   "cell_type": "markdown",
   "metadata": {
    "id": "G3bg4hvUfO2W"
   },
   "source": [
    "If you take $Ux=y$, you get\n",
    "\n",
    "$$Ly=b.$$\n",
    "\n",
    "Since $L$ is a lower triangular matrix, the components of the intermediate solution $y$ can be obtained simply by successive substitution, since the first equation contains only $y_{1}$, the second contains $y_{1}$ and $y_{2}$, etc.\n",
    "\n",
    "The second step, when we have found $y$, solves the system\n",
    "\n",
    "$$Ux=y,$$\n",
    "\n",
    "where $U$ is the upper triangular matrix, i.e. this system is also solved by a simple series substitution in inverse order: $x_{n}, x_{n-1},...,x_{1}$."
   ]
  },
  {
   "cell_type": "markdown",
   "metadata": {
    "id": "HT4WXDhQfO2X"
   },
   "source": [
    "Calculating $L$ and $U$ together with the solution of the system $Ly=b$ is usually called _direct elimination_, and the solution of the system $Ux=y$ is called _inverse substitution_."
   ]
  },
  {
   "cell_type": "markdown",
   "metadata": {
    "id": "jgySKY-hfO2Y"
   },
   "source": [
    "Let us describe the algorithm for obtaining the $LU$-decomposition using the example of a quadratic system of equations with $n=4$. The general case is easily obtained from these representations:\n",
    "\n",
    "$$\\begin{pmatrix}\n",
    "a_{11} & a_{12} & a_{13} & a_{14}\\\\ \n",
    "a_{21} & a_{22} & a_{23} & a_{24}\\\\ \n",
    "a_{31} & a_{32} & a_{33} & a_{34}\\\\ \n",
    "a_{41} & a_{42} & a_{43} & a_{44}\\\\ \n",
    "\\end{pmatrix}\n",
    "\\begin{pmatrix}\n",
    "x_{1}\\\\ \n",
    "x_{2}\\\\ \n",
    "x_{3}\\\\ \n",
    "x_{4}\\\\ \n",
    "\\end{pmatrix}=\n",
    "\\begin{pmatrix}\n",
    "b_{1}\\\\ \n",
    "b_{2}\\\\ \n",
    "b_{3}\\\\ \n",
    "b_{4}\\\\ \n",
    "\\end{pmatrix}.$$"
   ]
  },
  {
   "cell_type": "markdown",
   "metadata": {
    "id": "BIPWWPH7fO2a"
   },
   "source": [
    "The upper triangular matrix $U$ is obtained by a straightforward walk of the Gaussian method.\n",
    "\n",
    "Repeating the algorithm from the previous lesson, if $a_{11}\\neq0$, in the first step multiply the first equation by \n",
    "\n",
    "$$m_{i1}=\\frac{a_{i1}}{a_{11}}$$\n",
    "\n",
    "and subtract it from $i$th ($i=2,3,4$).\n",
    "\n",
    "The result is an equivalent system\n",
    "\n",
    "$$\\begin{pmatrix}\n",
    "a_{11} & a_{12} & a_{13} & a_{14}\\\\ \n",
    "0 & a_{22}^{(1)} & a_{23}^{(1)} & a_{24}^{(1)}\\\\ \n",
    "0 & a_{32}^{(1)} & a_{33}^{(1)} & a_{34}^{(1)}\\\\ \n",
    "0 & a_{42}^{(1)} & a_{43}^{(1)} & a_{44}^{(1)}\\\\ \n",
    "\\end{pmatrix}\n",
    "\\begin{pmatrix}\n",
    "x_{1}\\\\ \n",
    "x_{2}\\\\ \n",
    "x_{3}\\\\ \n",
    "x_{4}\\\\ \n",
    "\\end{pmatrix}=\n",
    "\\begin{pmatrix}\n",
    "b_{1}\\\\ \n",
    "b_{2}^{1}\\\\ \n",
    "b_{3}^{1}\\\\ \n",
    "b_{4}^{1}\\\\ \n",
    "\\end{pmatrix},$$\n",
    "\n",
    "where\n",
    "\n",
    "$$a_{ij}^{(1)}=a_{ij}-a_{1j}\\frac{a_{i1}}{a_{11}}~~~~(i,j\\geq2),$$\n",
    "$$b_{i}^{(1)}=b_{i}-b_{1}\\frac{a_{i1}}{a_{11}}.$$"
   ]
  },
  {
   "cell_type": "markdown",
   "metadata": {
    "id": "3Ugk2aHqfO2b"
   },
   "source": [
    "If $a_{11}=0$, then we can choose the main element by column or row: find the row (column) in the matrix with the first element maximal in modulo and swap this row (column) with the first row (column)."
   ]
  },
  {
   "cell_type": "markdown",
   "metadata": {
    "id": "0kdfYtWjfO2c"
   },
   "source": [
    "Let's write the resulting system as\n",
    "\n",
    "$$A^{1}x=b^{1}.$$\n",
    "\n",
    "If $M_{1}$ is a lower triangular matrix\n",
    "\n",
    "$$M_{1}=\\begin{pmatrix}\n",
    "1 & 0 & 0 & 0\\\\ \n",
    "-m_{21} & 1 & 0 & 0\\\\ \n",
    "-m_{31} & 0 & 1 & 0\\\\ \n",
    "-m_{41} & 0 & 0 & 1\\\\ \n",
    "\\end{pmatrix},$$\n",
    "\n",
    "then\n",
    "\n",
    "$$A^{(1)}=M_{1}A,~~~b^{(1)}=M_{1}b.$$"
   ]
  },
  {
   "cell_type": "markdown",
   "metadata": {
    "id": "v9SjI0ULfO2e"
   },
   "source": [
    "If $a_{22}^{(1)}\\neq 0$, then take the second step of the Gaussian method: multiply the second equation by \n",
    "\n",
    "$$m_{i2}=\\frac{a_{i2}^{(1)}}{a_{22}^{(1)}}$$\n",
    "\n",
    "and subtract it from $i$ ($i=3,4$).\n",
    "\n",
    "We get\n",
    "\n",
    "$$\\begin{pmatrix}\n",
    "a_{11} & a_{12} & a_{13} & a_{14}\\\\ \n",
    "0 & a_{22}^{(1)} & a_{23}^{(1)} & a_{24}^{(1)}\\\\ \n",
    "0 & 0& a_{33}^{(2)} & a_{34}^{(2)}\\\\ \n",
    "0 & 0& a_{43}^{(2)} & a_{44}^{(2)}\\\\ \n",
    "\\end{pmatrix}\n",
    "\\begin{pmatrix}\n",
    "x_{1}\\\\ \n",
    "x_{2}\\\\ \n",
    "x_{3}\\\\ \n",
    "x_{4}\\\\ \n",
    "\\end{pmatrix}=\n",
    "\\begin{pmatrix}\n",
    "b_{1}\\\\ \n",
    "b_{2}^{1}\\\\ \n",
    "b_{3}^{2}\\\\ \n",
    "b_{4}^{2}\\\\ \n",
    "\\end{pmatrix},$$\n",
    "\n",
    "where\n",
    "\n",
    "$$a_{ij}^{(2)}=a_{ij}^{(1)}-a_{2j}^{(1)}\\frac{a_{i2}^{(1)}}{a_{22}^{(1)}}~~~~(i,j\\geq3),$$\n",
    "$$b_{i}^{(2)}=b_{i}^{(1)}-b_{2}^{(1)}\\frac{a_{i2}^{(1)}}{a_{22}^{(1)}}.$$"
   ]
  },
  {
   "cell_type": "markdown",
   "metadata": {
    "id": "PV0TqsEDfO2f"
   },
   "source": [
    "Let's write the system as\n",
    "\n",
    "$$A^{2}x=b^{2},$$\n",
    "\n",
    "while\n",
    "\n",
    "$$A^{(2)}=M_{2}A^{(1)},~~~b^{(2)}=M_{2}b^{(1)},$$\n",
    "\n",
    "where $M_{2}$ — bottom triangular matrix\n",
    "\n",
    "$$M_{2}=\\begin{pmatrix}\n",
    "1 & 0 & 0 & 0\\\\ \n",
    "0 & 1 & 0 & 0\\\\ \n",
    "0 & -m_{32} & 1 & 0\\\\ \n",
    "0 & -m_{42} & 0 & 1\\\\ \n",
    "\\end{pmatrix}.$$"
   ]
  },
  {
   "cell_type": "markdown",
   "metadata": {
    "id": "FZrpPY7ufO2g"
   },
   "source": [
    "Finally, assuming $a_{33}^{2}\\neq0$, multiply the third equation by \n",
    "\n",
    "$$m_{i3}=\\frac{a_{i3}^{(2)}}{a_{33}^{(2)}}$$ \n",
    "\n",
    "and subtract it from $i$ (here i=4). We get\n",
    "\n",
    "$$\\begin{pmatrix}\n",
    "a_{11} & a_{12} & a_{13} & a_{14}\\\\ \n",
    "0 & a_{22}^{(1)} & a_{23}^{(1)} & a_{24}^{(1)}\\\\ \n",
    "0 & 0 & 0 & a_{34}^{(2)}\\\\ \n",
    "0 & 0 & 0 & a_{44}^{(3)}\\\\ \n",
    "\\end{pmatrix}\n",
    "\\begin{pmatrix}\n",
    "x_{1}\\\\ \n",
    "x_{2}\\\\ \n",
    "x_{3}\\\\ \n",
    "x_{4}\\\\ \n",
    "\\end{pmatrix}=\n",
    "\\begin{pmatrix}\n",
    "b_{1}\\\\ \n",
    "b_{2}^{1}\\\\ \n",
    "b_{3}^{2}\\\\ \n",
    "b_{4}^{3}\\\\ \n",
    "\\end{pmatrix},$$\n",
    "\n",
    "where\n",
    "\n",
    "$$a_{ij}^{(3)}=a_{ij}^{(2)}-a_{3j}^{(2)}\\frac{a_{i3}^{(2)}}{a_{33}^{(2)}}~~~~(i,j\\geq4),$$\n",
    "$$b_{i}^{(3)}=b_{i}^{(2)}-b_{3}^{(2)}\\frac{a_{i3}^{(2)}}{a_{33}^{(2)}}.$$"
   ]
  },
  {
   "cell_type": "markdown",
   "metadata": {
    "id": "jxoRHIRufO2h"
   },
   "source": [
    "Let's write the system as\n",
    "\n",
    "$$A^{3}x=b^{3},$$\n",
    "\n",
    "while\n",
    "\n",
    "$$A^{(3)}=M_{3}A^{(2)},~~~b^{(3)}=M_{3}b^{(2)},$$\n",
    "\n",
    "where $M_{3}$ — bottom triangular matrix\n",
    "\n",
    "$$M_{3}=\\begin{pmatrix}\n",
    "1 & 0 & 0 & 0\\\\ \n",
    "0 & 1 & 0 & 0\\\\ \n",
    "0 & 0 & 1 & 0\\\\ \n",
    "0 & 0 & -m_{43} & 1\\\\ \n",
    "\\end{pmatrix}.$$"
   ]
  },
  {
   "cell_type": "markdown",
   "metadata": {
    "id": "8-mGjWK8fPIf"
   },
   "source": [
    "Then $A^{(3)}=M_{3}M_{1}M_{1}A$ is the upper triangular matrix (denoted by $U$), and\n",
    "\n",
    "$$A=M_{1}^{-1}M_{2}^{-1}M_{3}^{-1}A^{(3)},$$\n",
    "\n",
    "$$b=M_{1}^{-1}M_{2}^{-1}M_{3}^{-1}b^{(3)}.$$\n",
    "\n",
    "Define $L=M_{1}^{-1}M_{2}^{-1}M_{3}^{-1}$.\n",
    "\n",
    "We get \n",
    "\n",
    "$$L=\\begin{pmatrix}\n",
    "1 & 0 & 0 & 0\\\\ \n",
    "m_{21} & 1 & 0 & 0\\\\ \n",
    "m_{31} & m_{32} & 1 & 0\\\\ \n",
    "m_{41} & m_{42} & m_{43} & 1\\\\ \n",
    "\\end{pmatrix}.$$"
   ]
  },
  {
   "cell_type": "markdown",
   "metadata": {
    "id": "RBMDCcwxfPIh"
   },
   "source": [
    "Then we get the split\n",
    "\n",
    "$$A=LU,$$\n",
    "\n",
    "where \n",
    "\n",
    "$$U=\\begin{pmatrix}\n",
    "a_{11} & a_{12} & a_{13} & a_{14}\\\\ \n",
    "0 & a_{22}^{(1)} & a_{23}^{(1)} & a_{24}^{(1)}\\\\ \n",
    "0 & 0 & 0 & a_{34}^{(2)}\\\\ \n",
    "0 & 0 & 0 & a_{44}^{(3)}\\\\ \n",
    "\\end{pmatrix}.$$"
   ]
  },
  {
   "cell_type": "markdown",
   "metadata": {
    "id": "9FSLUTWMfPIl"
   },
   "source": [
    "In general, the formulas for finding the elements of matrices $U$ (now denoted as $u_{ij}$) and $L$ (now denoted as $l_{ji}$) can be written as\n",
    "\n",
    "$$u_{1j}=a_{1j},$$\n",
    "$$l_{j1}=\\frac{a_{j1}}{u_{11}}, \\; u_{11}\\neq0, \\; j = 1,...,n.$$\n",
    "\n",
    "For $i = 2,...,n$:\n",
    "\n",
    "$$u_{ij}=a_{ij}-\\sum_{k=1}^{i-1}l_{ik}u_{ki},$$\n",
    "$$l_{ji}=\\frac{1}{u_{11}}(a_{ji}-\\sum_{k=1}^{i-1}l_{jk}u_{ki}),\\; j = i,...,n.$$"
   ]
  },
  {
   "cell_type": "markdown",
   "metadata": {
    "id": "bRNo4Nv6fPIm"
   },
   "source": [
    "__Example__\n",
    "\n",
    "Solve a system of equations \n",
    "\n",
    "$$\\begin{cases}\n",
    "2x_{1}+x_{2}-x_{3}=5, \\\\\n",
    "4x_{1}-6x_{2}-2x_{3}=-2, \\\\\n",
    "-2x_{1}+7x_{2}-3x_{3}=7\n",
    "\\end{cases}$$\n",
    "\n",
    "using $LU$-split."
   ]
  },
  {
   "cell_type": "markdown",
   "metadata": {
    "id": "miRYjG2afPIo"
   },
   "source": [
    "The $A$ coefficient matrix will be\n",
    "\n",
    "$$\\begin{pmatrix}\n",
    "2 & 1 & -1 \\\\ \n",
    "4 & -6 & -2 \\\\ \n",
    "-2 & 7 & -3\n",
    "\\end{pmatrix}.$$"
   ]
  },
  {
   "cell_type": "markdown",
   "metadata": {
    "id": "mLu52LrLfPJs"
   },
   "source": [
    "Let's start a straight line of the Gaussian method. To do this, multiply the first line by $2$ and subtract it from the second equation. In doing so, replace the element $l_{21}$ in the matrix $L$ with $2$. Then we have to subtract from the third equation the first one, which is multiplied by $(-1)$. So we write $l_{31}=-1$ into the matrix $L$. \n",
    "\n",
    "The matrix of coefficients will have the form\n",
    "\n",
    "$$\\begin{pmatrix}\n",
    "2 & 1 & -1 \\\\ \n",
    "0 & -8 & 0 \\\\ \n",
    "0 & 8 & -4\n",
    "\\end{pmatrix},$$\n",
    "\n",
    "but matrix $L$ —\n",
    "\n",
    "$$\\begin{pmatrix}\n",
    "1 & 0 & 0 \\\\ \n",
    "2 & 1 & 0 \\\\ \n",
    "-1 & l_{32} & 1\n",
    "\\end{pmatrix}.$$"
   ]
  },
  {
   "cell_type": "markdown",
   "metadata": {
    "id": "ObixYIZ0fPJt"
   },
   "source": [
    "Then multiply the second line by $(-1)$ and subtract it from the third. In this case, replace $l_{32}$ in the matrix $L$ with $-1$.\n",
    "\n",
    "As a result, we get\n",
    "\n",
    "$$U=\\begin{pmatrix}\n",
    "2 & 1 & -1 \\\\ \n",
    "0 & -8 & 0 \\\\ \n",
    "0 & 0 & -4\n",
    "\\end{pmatrix},$$\n",
    "\n",
    "$$L=\\begin{pmatrix}\n",
    "1 & 0 & 0 \\\\ \n",
    "2 & 1 & 0 \\\\ \n",
    "-1 & -1 & 1\n",
    "\\end{pmatrix}.$$"
   ]
  },
  {
   "cell_type": "markdown",
   "metadata": {
    "id": "Z4U23qppfPJv"
   },
   "source": [
    "Now let's solve the system \n",
    "\n",
    "$$Ly=b:$$\n",
    "\n",
    "$$\\begin{cases}\n",
    "y_{1}=5, \\\\\n",
    "2y_{1}+y_{2}=-2, \\\\\n",
    "-y_{1}-y_{2}+y_{3}=7.\n",
    "\\end{cases}$$\n",
    "\n",
    "$$y_{1}=5,$$\n",
    "$$y_{2}=-12,$$\n",
    "$$y_{3}=0.$$\n",
    "\n",
    "and then system\n",
    "\n",
    "$$Ux=y:$$\n",
    "\n",
    "$$\\begin{cases}\n",
    "2x_{1}+x_{2}-x_{3}=5, \\\\\n",
    "-8x_{2}=-12, \\\\\n",
    "-4x_{3}=0.\n",
    "\\end{cases}$$\n",
    "\n",
    "$$x_{3}=0,$$\n",
    "$$x_{2}=1.5,$$\n",
    "$$x_{1}=1.75.$$\n",
    "\n",
    "Check by substituting the values of the variables into the original system:\n",
    "\n",
    "$$\\begin{cases}\n",
    "2\\cdot1.75+1.5-0=5, \\\\\n",
    "4\\cdot1.75-6\\cdot1.5-2\\cdot0=-2, \\\\\n",
    "-2\\cdot1.75+7\\cdot1.5-3\\cdot0=7.\n",
    "\\end{cases}$$\n",
    "\n",
    "Thus, the solution found is correct."
   ]
  },
  {
   "cell_type": "markdown",
   "metadata": {
    "id": "6tByBoGYfPJz"
   },
   "source": [
    "The method seems to be quite complicated, since before solving the matrix, it is necessary to decompose the original coefficient matrix into the product of the upper and lower diagonal matrices. The number of operations required to decompose the matrix into the product $LU$ is $O(n^{3})$ (as in the classical Gaussian method), while for the solution of two triangular systems it is $O(n^{2})$, i.e. the forward move is an order of magnitude more complicated than the reverse. The use of the method is justified when it is necessary to solve a large number of systems of equations with the same matrix of coefficients, but with varying right-hand sides. Such problems are often encountered in practice. In this case, instead of each time making a walk by Gaussian method with complexity $O(n^{3})$, one can perform $LU$-decomposition of the matrix of coefficients $A$ once, and to solve the system with a new vector-column of free terms it will be sufficient to make two walks of direct substitution with complexity $O(n^{2})$."
   ]
  },
  {
   "cell_type": "markdown",
   "metadata": {
    "id": "UuNQrnk_fPJ0"
   },
   "source": [
    "### The Choletski method"
   ]
  },
  {
   "cell_type": "markdown",
   "metadata": {
    "id": "1cI5YX0NfPJ2"
   },
   "source": [
    "Consider a few corollaries to the theorem about $LU$-split."
   ]
  },
  {
   "cell_type": "markdown",
   "metadata": {
    "id": "rCtTRPSXfPJ3"
   },
   "source": [
    "__Investigation 1__\n",
    "\n",
    "If all the conditions of the theorem are fulfilled and the matrix $A$ is nondegenerate, then there is also a single decomposition\n",
    "\n",
    "$$A=LDU^{(1)},$$\n",
    "\n",
    "where $L$ and $U^{(1)}$ are lower and upper triangular matrices with ones on the main diagonal, respectively, and $D$ is the diagonal matrix."
   ]
  },
  {
   "cell_type": "markdown",
   "metadata": {
    "id": "U482cDzPfPJ5"
   },
   "source": [
    "__Investigation 2__\n",
    "\n",
    "If all conditions of Corollary 1 are fulfilled and, in addition, the matrix $A$ is symmetric, then there is a single expansion\n",
    "\n",
    "$$A=LDL^{T},$$\n",
    "\n",
    "where $L$ is the lower triangular matrix with ones on the main diagonal, and $D$ is the diagonal matrix."
   ]
  },
  {
   "cell_type": "markdown",
   "metadata": {
    "id": "mxOCWH0QfPJ7"
   },
   "source": [
    "__Investigation 3__\n",
    "\n",
    "If all conditions of Corollary 2 are satisfied, and in addition, the matrix $A$ is _positively defined_ (all its eigenvalues are positive), then there exists a single low triangular matrix $L$ such that\n",
    "\n",
    "$$A=LL^{T}.$$"
   ]
  },
  {
   "cell_type": "markdown",
   "metadata": {
    "id": "5ofConfEfPJ_"
   },
   "source": [
    "The Cholecki method is another way of solving systems of linear equations, involving conversion of the coefficient matrix to a triangular form. It is also known as the _square root method_."
   ]
  },
  {
   "cell_type": "markdown",
   "metadata": {
    "id": "ntPTDHbnfPKB"
   },
   "source": [
    "It consists in the decomposition of the matrix $A$ (under the conditions of symmetry and positive definiteness) into the product of matrices $LL^{T}$ described in Corollary 3. In this expansion, $L$ is a lower triangular matrix with strictly positive elements on the diagonal."
   ]
  },
  {
   "cell_type": "markdown",
   "metadata": {
    "id": "Xfcxt_t7fPKC"
   },
   "source": [
    "After obtaining the expansion, similar to the $LU$-decomposition method, you must represent the system of equations in matrix form as\n",
    "\n",
    "$$Ax=LL^{T}x=Ly=b$$\n",
    "\n",
    "and then by direct substitution solve two simple systems in series, characterised by triangular coefficient matrices:\n",
    "\n",
    "$$Ly=b,$$\n",
    "$$L^{T}x=y.$$"
   ]
  },
  {
   "cell_type": "markdown",
   "metadata": {
    "id": "hd2OpLh1fPKD"
   },
   "source": [
    "Let's find the required expansion.\n",
    "\n",
    "From the decomposition condition, bearing in mind the rules of matrix multiplication, we obtain\n",
    "\n",
    "$$a_{ij}=\\sum_{k=1}^{n}l_{ik}l_{kj}^{T},$$\n",
    "\n",
    "where $l_{ij}$ and $l_{ij}^{T}$ — elements of matrix $L$ and $L^{T}$ then ($l_{ij}^{T}=l_{ji}$)."
   ]
  },
  {
   "cell_type": "markdown",
   "metadata": {
    "id": "CMVyont-fPKE"
   },
   "source": [
    "For $i<j$ we get \n",
    "\n",
    "$$a_{ij}=\\sum_{k=1}^{j-1}l_{ik}l_{jk},$$\n",
    "\n",
    "$$l_{ij}=\\frac{1}{l_{jj}}\\left( a_{ij}-\\sum_{k=1}^{j-1}l_{ik}l_{jk}\\right ).$$"
   ]
  },
  {
   "cell_type": "markdown",
   "metadata": {
    "id": "XnFL3w_ZfPKF"
   },
   "source": [
    "For $i=j$:\n",
    "\n",
    "$$a_{ij}=\\sum_{k=1}^{i-1}l_{ik}^{2}+l_{ii}^{2}~~\\Rightarrow$$\n",
    "\n",
    "$$l_{ii}=\\sqrt{a_{ii}-\\sum_{k=1}^{i-1}l_{ik}^{2}}.$$"
   ]
  },
  {
   "cell_type": "markdown",
   "metadata": {
    "id": "NbdzLr_XfPKI"
   },
   "source": [
    "If $A$ is a real symmetric positively defined matrix, then the expression below the root will always be positive."
   ]
  },
  {
   "cell_type": "markdown",
   "metadata": {
    "id": "ogYcA0McfPKK"
   },
   "source": [
    "Thus, the elements of the $L$ matrix for finding the $LL^{T}$-decomposition are calculated using the following formulas:\n",
    "\n",
    "$$l_{ii}=\\sqrt{a_{ii}-\\sum_{k=1}^{i-1}l_{ik}^{2}},$$\n",
    "$$l_{ij}=\\frac{1}{l_{jj}}\\left( a_{ij}-\\sum_{k=1}^{j-1}l_{ik}l_{jk}\\right ), \\; j < i.$$"
   ]
  },
  {
   "cell_type": "markdown",
   "metadata": {
    "id": "D627ux3xfPKO"
   },
   "source": [
    "__Example__\n",
    "\n",
    "Решить методом Холецкого систему уравнений\n",
    "\n",
    "$$\\begin{cases}\n",
    "2x_{1}+x_{2}+4x_{3}=16, \\\\\n",
    "x_{1}+x_{2}+3x_{3}=12, \\\\\n",
    "4x_{1}+3x_{2}+14x_{3}=52.\n",
    "\\end{cases}$$"
   ]
  },
  {
   "cell_type": "markdown",
   "metadata": {
    "id": "fXTc7djCfPKQ"
   },
   "source": [
    "Произведем разложение на $LL^{T}$:\n",
    "\n",
    "$$l_{11}=\\sqrt{a_{11}}=\\sqrt{2},$$\n",
    "$$l_{21}=\\frac{a_{21}}{l_{11}}=\\frac{1}{\\sqrt{2}},$$\n",
    "$$l_{31}=\\frac{a_{31}}{l_{11}}=\\frac{4}{\\sqrt{2}},$$\n",
    "\n",
    "$$l_{22}=\\sqrt{a_{22}-l_{21}^{2}}=\\sqrt{1 - \\frac{1}{2}}=\\frac{1}{\\sqrt{2}},$$\n",
    "$$l_{32}=\\frac{1}{l_{22}}\\left ( a_{32}-l_{21}l_{31} \\right)=\\sqrt{2}\\left ( 3 - \\frac{1}{\\sqrt{2}}\\cdot \\frac{4}{\\sqrt{2}} \\right )=\\sqrt{2},$$\n",
    "\n",
    "$$l_{33}=\\sqrt{a_{33}-l_{31}^{2}-l_{32}^{2}}=\\sqrt{14-8-2}=2.$$\n"
   ]
  },
  {
   "cell_type": "markdown",
   "metadata": {
    "id": "NOxrKaICfPKT"
   },
   "source": [
    "Получили матрицу \n",
    "\n",
    "$$L = \\begin{pmatrix}\n",
    "\\sqrt{2} & 0 & 0 \\\\ \n",
    "\\frac{1}{\\sqrt{2}} & \\frac{1}{\\sqrt{2}} & 0 \\\\ \n",
    "\\frac{4}{\\sqrt{2}} & \\sqrt{2} & 2\n",
    "\\end{pmatrix}, \n",
    "\\; \\; \n",
    "L^{T} = \\begin{pmatrix}\n",
    "\\sqrt{2} & \\frac{1}{\\sqrt{2}} & \\frac{4}{\\sqrt{2}} \\\\ \n",
    "0 & \\frac{1}{\\sqrt{2}} & \\sqrt{2} \\\\ \n",
    "0 & 0 & 2\n",
    "\\end{pmatrix}.$$"
   ]
  },
  {
   "cell_type": "markdown",
   "metadata": {
    "id": "3JC07czjfPKV"
   },
   "source": [
    "Решим систему $Ly=b:$\n",
    "\n",
    "$$\\begin{cases}\n",
    "\\sqrt{2}y_{1}=16, \\\\\n",
    "\\frac{1}{\\sqrt{2}}y_{1}+\\frac{1}{\\sqrt{2}}y_{2}=12, \\\\\n",
    "\\frac{4}{\\sqrt{2}}y_{1}+\\sqrt{2}y_{2}+2y_{3}=52.\n",
    "\\end{cases}$$\n",
    "\n",
    "$$y_{1} = 8\\sqrt{2},$$\n",
    "\n",
    "$$y_{2}=12\\sqrt{2}-8\\sqrt{2}=4\\sqrt{2},$$\n",
    "\n",
    "$$y_{3}=\\frac{52-32-8}{2}=6.$$"
   ]
  },
  {
   "cell_type": "markdown",
   "metadata": {
    "id": "MK4RaNxffPKX"
   },
   "source": [
    "И решим систему $L^{T}x=y:$\n",
    "\n",
    "$$\\begin{cases}\n",
    "\\sqrt{2}x_{1}+\\frac{1}{\\sqrt{2}}x_{2}+\\frac{4}{\\sqrt{2}}x_{3}=8\\sqrt{2}, \\\\\n",
    "\\frac{1}{\\sqrt{2}}x_{2}+\\sqrt{2}x_{3}=4\\sqrt{2}, \\\\\n",
    "2x_{3}=6.\n",
    "\\end{cases}$$\n",
    "\n",
    "$$x_{3}=3,$$\n",
    "\n",
    "$$x_{2}=8-2\\cdot3=2,$$\n",
    "\n",
    "$$x_{1}=\\frac{16-12-2}{2}=1.$$"
   ]
  },
  {
   "cell_type": "markdown",
   "metadata": {
    "id": "BKOIO_3EfPKZ"
   },
   "source": [
    "Осуществим проверку, подставив полученные значения в исходную систему:\n",
    "\n",
    "$$\\begin{cases}\n",
    "2\\cdot1+2+4\\cdot3=16, \\\\\n",
    "1+2+3\\cdot3=12, \\\\\n",
    "4\\cdot1+3\\cdot2+14\\cdot3=52.\n",
    "\\end{cases}$$"
   ]
  },
  {
   "cell_type": "markdown",
   "metadata": {
    "id": "qHxlLF5CfPKa"
   },
   "source": [
    "Как и $LU$-разложение, этот метод более производителен, чем обычный метод Гаусса, в связи с чем часто используется для решения инженерных задач. Вычисление по формулам нахождения $l_{ii}$ и $l_{ij}$ будут иметь сложность $\\frac{1}{3}n^{3}+O(n^{2})$, и затем после разложения производится обратный ход метода Гаусса со сложностью $O(n^{2})$."
   ]
  },
  {
   "cell_type": "markdown",
   "metadata": {
    "id": "1yNJ7MTJfPKc"
   },
   "source": [
    "Существует большое количество других методов решения СЛАУ. С ними, в частности, можно ознакомиться в книге «Вычислительные методы линейной алгебры» (номер 2 в списке литературы)."
   ]
  }
 ],
 "metadata": {
  "colab": {
   "collapsed_sections": [],
   "name": "Lesson_7-REVISED.ipynb",
   "provenance": []
  },
  "kernelspec": {
   "display_name": "Python 3",
   "language": "python",
   "name": "python3"
  },
  "language_info": {
   "codemirror_mode": {
    "name": "ipython",
    "version": 3
   },
   "file_extension": ".py",
   "mimetype": "text/x-python",
   "name": "python",
   "nbconvert_exporter": "python",
   "pygments_lexer": "ipython3",
   "version": "3.8.5"
  }
 },
 "nbformat": 4,
 "nbformat_minor": 1
}
