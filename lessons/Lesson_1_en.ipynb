{
 "cells": [
  {
   "cell_type": "markdown",
   "metadata": {
    "id": "zz7SDkPIkVlM"
   },
   "source": [
    "# Lesson 1"
   ]
  },
  {
   "cell_type": "markdown",
   "metadata": {
    "id": "p_3vqG5-kVlP"
   },
   "source": [
    "# Linear space. Basic concepts. Part 1"
   ]
  },
  {
   "cell_type": "markdown",
   "metadata": {
    "id": "GY06IIS-kVlS"
   },
   "source": [
    "_Linear (vector) space_ $\\mathit{V}$ over some field $K$ is the set of elements, called vectors, with operations defined on it\n",
    "\n",
    "- Addition: $V \\times V \\rightarrow V$ (any two elements $u$ and $v$ of set $V$ are matched by a third element $w$ of the same set, called _sum_ of elements $u$ and $v$ and denoted by $w=u+v$);\n",
    "\n",
    "- Multiplication by a number: $K \\times V \\rightarrow V$ (any element $u$ of the set $V$ and any real number $\\lambda$ corresponds to an element $x$ of the same set, called the _product of the element $u$ by the number_ $\\lambda$ and denoted $x=\\lambda u$ or $x=u\\lambda$)."
   ]
  },
  {
   "cell_type": "markdown",
   "metadata": {
    "id": "kXP1CeOrkVlT"
   },
   "source": [
    "The set of real numbers $\\mathbb{R}$ or complex numbers $\\mathbb{C}$ is usually chosen as the field over which a vector space is defined. Elements of such a field are sometimes called _scalars_."
   ]
  },
  {
   "cell_type": "markdown",
   "metadata": {
    "id": "Sgf3itexkVlV"
   },
   "source": [
    "The vector addition operation must satisfy the following conditions:<br>\n",
    "1) commutativity: $u+v=v+u$;<br>\n",
    "2) associativity: $(u+v)+w=u+(v+w)$;<br>\n",
    "3) the existence of such an element $0\\in V$, that $u+0=u$ for any $u$;<br>\n",
    "4) the existence for any $u\\in V$ of a vector $-u\\in V$ such that $u+(-u)=0$.\n",
    "\n",
    "The operation of multiplying a vector by a scalar must obey the following conditions:<br>\n",
    "1) $1\\cdot u=u$ for any $u\\in V$;<br>\n",
    "2) the associativity of the operation of multiplication by a scalar: $\\lambda (\\mu \\cdot u)=(\\lambda \\cdot \\mu) u$;<br>\n",
    "3) distributivity with respect to the addition of vectors: $\\lambda(u+v)=\\lambda u+\\lambda v$;<br>\n",
    "4) distributivity with respect to the addition of scalars: $(\\lambda+\\mu)u=\\lambda u+\\mu u$."
   ]
  },
  {
   "cell_type": "markdown",
   "metadata": {
    "id": "-P4xroqzkVlX"
   },
   "source": [
    "Element $0$ is called the _zero vector_, the element $-u$ is called the _opposite vector_ to $u$."
   ]
  },
  {
   "cell_type": "markdown",
   "metadata": {
    "id": "ZvG2QN1KkVlY"
   },
   "source": [
    "### Examples"
   ]
  },
  {
   "cell_type": "markdown",
   "metadata": {
    "id": "r2pgbJZUkVla"
   },
   "source": [
    "__1.__ The best known example of linear space is the set of all free vectors in the plane. In analytic geometry, the operation of adding two such vectors $u+v$ is defined by the \"parallelogram rule\" and multiplying vector $u$ by number $\\lambda$ corresponds to vector $\\lambda u$ having $\\lambda|$ times the length of the original vector $u$ and the same direction if $\\lambda > 0$, and opposite if $\\lambda < 0$.\n",
    " \n",
    "Conformity of these operations to the conditions for linear space is checked elementary. Thus, this set is a linear space. Similarly, the sets of vectors on a line and in space will also be linear spaces."
   ]
  },
  {
   "cell_type": "markdown",
   "metadata": {
    "id": "FPhzlMj1kVld"
   },
   "source": [
    "__2.__ Consider now the set of points on the coordinate plane as an example. Take a point $a$ corresponding to coordinates $(a_{1},a_{2})$, and a point $b$ corresponding to coordinates $(b_{1},b_{2})$. Define the addition operation in this space as a per-coordinate sum of two elements:\n",
    "\n",
    "$$a+b = (a_{1}+b_{1}, a_{2}+b_{2})$$\n",
    "\n",
    "and the operation of multiplying an element by a number as multiplying each of its coordinates by that number:\n",
    "\n",
    "$$\\lambda a=\\lambda(a_{1},a_{2})=(\\lambda a_{1}, \\lambda a_{2}).$$\n",
    "\n",
    "Such a space over a field of real numbers with given operations of addition and multiplication by a number will correspond to the conditions of a vector space and is usually denoted by $\\mathbb{R}^{2}$.\n",
    "\n",
    "In general, this can be represented as the space $\\mathbb{R}^{n}$ - the set of ordered sequences of length $n$ of elements of the field $\\mathbb{R}$. Addition and multiplication by the number of elements of it are defined component-wise: \n",
    " \n",
    " $$(a_{1},a_{2}, ... ,a_{n})+(b_{1}, b_{2},...,b_{n})=(a_{1}+b_{1}, a_{2}+b_{2}, ..., a_{n}+b_{n}), \\\\\n",
    "\\lambda(a_{1},a_{2},...,a_{n})=(\\lambda a_{1}, \\lambda a_{2},...,\\lambda a_{n}).$$\n",
    " \n",
    " \n",
    "The resulting linear space is called _n-dimensional coordinate space_."
   ]
  },
  {
   "cell_type": "markdown",
   "metadata": {
    "id": "A2jb9zMTkVlf"
   },
   "source": [
    "__3.__ An example of a linear space is the set $\\left \\{P_{n}(t)\\right \\}$ of all algebraic polynomials of degree at most $n$ with addition and multiplication operations on real numbers, defined by the usual rules of calculus."
   ]
  },
  {
   "cell_type": "markdown",
   "metadata": {
    "id": "Rp3y5MZSkVlh"
   },
   "source": [
    "Other examples of vector spaces:<br>\n",
    "1) The set $C[a,b]$ of all functions $u=u(t)$, defined and continuous on segment $[a,b]$;<br>\n",
    "2) The set of all solutions of the homogeneous system $m$ of equations with $n$ unknowns."
   ]
  },
  {
   "cell_type": "markdown",
   "metadata": {
    "id": "xQjEkghMkVll"
   },
   "source": [
    "## Linear dependence of vectors"
   ]
  },
  {
   "cell_type": "markdown",
   "metadata": {
    "id": "Hw7QEAZHkVln"
   },
   "source": [
    "__Definition__\n",
    "\n",
    "The basic concept of linear algebra is _linear dependence (independence)_ of vectors.\n",
    "Vectors $u_{1},u_{2}, ...,u_{n}$ are _linearly dependent_ if there are such numbers $\\lambda_{1}, \\lambda_{2}, ..., \\lambda_{n}$ that at least one of them is non-zero and \n",
    " \n",
    " \n",
    "$$\\lambda_{1}u_{1}+\\lambda_{2}u_{2}+...+\\lambda_{n}u_{n}=0.$$"
   ]
  },
  {
   "cell_type": "markdown",
   "metadata": {
    "id": "Y1TTlxSTkVlp"
   },
   "source": [
    "The expression $\\sum_{t=1}^{n}\\lambda_{t}u_{t}$ is called the _linear combination_ of elements $u_{1},u_{2},...,u_{n}$ of space $V$."
   ]
  },
  {
   "cell_type": "markdown",
   "metadata": {
    "id": "oIX-LImokVlq"
   },
   "source": [
    "The elements $u_{1},u_{2},...,u_{n}$ of vector space $V$ are called _linearly independent_ if the equality $\\sum_{t=1}^{n}\\lambda_{t}u_{t}=0$ holds only when $\\lambda_{1}= \\lambda_{2}= ...= \\lambda_{n}=0$."
   ]
  },
  {
   "cell_type": "markdown",
   "metadata": {
    "id": "MiJZbSBqkVls"
   },
   "source": [
    "__If for a given system of non-zero vectors there exists a non-trivial (if at least one of the coefficients is non-zero) linear combination, then each of these vectors can be expressed through a linear combination of the others.__\n",
    "\n",
    "The converse statement is also true: __for some set of elements of linear space to be linearly dependent, it is necessary and sufficient that one of these elements is a linear combination of the others.__"
   ]
  },
  {
   "cell_type": "markdown",
   "metadata": {
    "id": "CQ5LW940kVly"
   },
   "source": [
    "Two elementary statements are true:\n",
    "\n",
    "1. _If there is a zero element among the elements $a_{1}, a_{2},...,a_{n}$, then these elements are linearly dependent._\n",
    "\n",
    "In fact, if, for example, $a_{1} =0$, then the linear combination of elements will be zero when $\\lambda_{1}=1, \\lambda_{2}= ...= \\lambda_{n}=0$.\n",
    "\n",
    "2. _If some subset of the set $a_{1}, a_{2},...,a_{n}$ is linearly dependent, then all elements of $a_{1}, a_{2},...,a_{n}$ are also linearly dependent_.\n",
    "\n",
    "Indeed, suppose a linearly dependent subset consists of the first $k<n$ elements of the set. Then there exist non-zero numbers $\\lambda_{1}, \\lambda_{2},...,\\lambda_{k}$ such that \n",
    "\n",
    "$$\\sum_{i=1}^{k}\\lambda_{i}a_{i}=0.$$\n",
    "\n",
    "This equality can also be written as $$\\sum_{i=1}^{k}\\lambda_{i}a_{i}+\\sum_{i=k+1}^{n} 0 a_{i}=0,$$\n",
    "which indicates linear dependence of vectors $a_{1}, a_{2},...,a_{n}$. Which was required to prove."
   ]
  },
  {
   "cell_type": "markdown",
   "metadata": {
    "id": "InO6qdVLkVl2"
   },
   "source": [
    "Let us return to the example with vectors in the plane. In this case any two non-zero and non-collinear (not parallel and not lying on the same straight line) vectors will be linearly independent since one cannot be expressed by the other, and any three vectors will be linearly dependent - each of them can be expressed by a linear combination of the other two."
   ]
  },
  {
   "cell_type": "markdown",
   "metadata": {
    "id": "MnDnzhFHkVl5"
   },
   "source": [
    "## Basis and dimensionality"
   ]
  },
  {
   "cell_type": "markdown",
   "metadata": {
    "id": "5RntR-fakVl8"
   },
   "source": [
    "__Definition__\n",
    "\n",
    "A set of $n$ linearly independent vectors of linear space $V$ is called the _basis_ of this space if for each element $u$ of space $V$ there are real numbers $\\xi_{1},\\xi_{2}, . . . , \\xi_{n}$$ such that the equality\n",
    "\n",
    "$$u = \\xi_{1}e_{1} + \\xi_{2}e_{2} + . . . + \\xi_{n}e_{n}.$$\n",
    "\n",
    "The coefficients $\\xi_{i}$ in this expression are called _coordinates_ of vector $u$ in basis $e_{1} , . . . , e_{n}$ , and this representation of vector $u$ itself is called the _decomposition of this vector on the basis_."
   ]
  },
  {
   "cell_type": "markdown",
   "metadata": {
    "id": "QIrP3SU5kVmE"
   },
   "source": [
    "__For every element of linear space $V$ there is a single representation as a linear combination of basis elements__"
   ]
  },
  {
   "cell_type": "markdown",
   "metadata": {
    "id": "8AqY4a4MkVmH"
   },
   "source": [
    "__Definition__\n",
    "\n",
    "A linear space $V$ is called _$n$-dimensional_ if there exist $n$ linearly independent vectors in it, and any set of more vectors turns out to be linearly dependent. The number $n$ is called the _dimension_ of this linear space and is denoted by $dim V$."
   ]
  },
  {
   "cell_type": "markdown",
   "metadata": {
    "id": "0fqFu0aPkVmI"
   },
   "source": [
    "__Definition__\n",
    "\n",
    "A linear space $V$ is called _infinite-dimensional_ if it contains any number of linearly independent elements."
   ]
  },
  {
   "cell_type": "markdown",
   "metadata": {
    "id": "ZS1nwlq0kVmK"
   },
   "source": [
    "The basis of a linear space $\\mathbb{R}^{n}$ consisting of vectors $e_{1}=(1,0,...,0), \\; e_{2}=(0,1,...,0), ...,e_{n}=(0,0,...,1)$, is called the _standard basis_ of that space."
   ]
  },
  {
   "cell_type": "markdown",
   "metadata": {
    "id": "Z46WpSWZkVmP"
   },
   "source": [
    "__Theorem__\n",
    "\n",
    "If $V$ is a linear space of dimension $n$, then any $n$ linearly independent elements of that space form its basis."
   ]
  },
  {
   "cell_type": "markdown",
   "metadata": {
    "id": "9WnGM8BnkVmX"
   },
   "source": [
    "__Proof__\n",
    "\n",
    "Let $e_{1}, e_{2},...,e_{n}$ be any system $n$ of linearly independent vectors of space $V$ (the existence of at least one such system follows from the definition of $n$-dimensional linear space).\n",
    "\n",
    "If $u$ is any element of space $V$, then the same definition implies that the system $(n+1)$ of elements $u, e_{1}, e_{2},...,e_{n}$ is linearly dependent, that is, there are not all real numbers $\\alpha_{0},\\alpha_{1},\\alpha_{2},...,\\alpha_{n}$ such that \n",
    "\n",
    "$$\\alpha_{0}u+\\alpha_{1}e_{1}+\\alpha_{2}e_{2}+...+\\alpha_{n}e_{n}=0.$$\n",
    "\n",
    "$\\alpha_{0}$ is non-zero (otherwise a linear dependence of vectors $e_{1}, e_{2},...,e_{n}$ would follow from the previous equality). \n",
    "\n",
    "By dividing the equality by $\\alpha_{0}$ и положив $\\xi_{1}=-\\frac{\\alpha_{1}}{\\alpha_{0}},\\xi_{2}=-\\frac{\\alpha_{2}}{\\alpha_{0}},...,\\xi_{n}=-\\frac{\\alpha_{n}}{\\alpha_{0}}$, we obtain\n",
    "\n",
    "$$u = \\xi_{1}e_{1} + \\xi_{2}e_{2} + . . . + \\xi_{n}e_{n}.$$\n",
    "\n",
    "Since $u$ is an arbitrary element of space $V$, the last equality proves that the system of vectors $e_{1}, e_{2},...,e_{n}$ is the basis of space $V$."
   ]
  },
  {
   "cell_type": "markdown",
   "metadata": {
    "id": "spBkK4XakVmZ"
   },
   "source": [
    "## Linear space subspaces"
   ]
  },
  {
   "cell_type": "markdown",
   "metadata": {
    "id": "7konrCaZkVma"
   },
   "source": [
    "A subset $L$ of linear space $V$ is called a _subspace of linear space_ if it forms a linear space with respect to operations defined on $V$."
   ]
  },
  {
   "cell_type": "markdown",
   "metadata": {
    "id": "frmuaH3ukVmr"
   },
   "source": [
    "In other words, all the same axioms must be satisfied for the subspace as for the original linear space. It follows that the subspace of a linear space is itself a linear space."
   ]
  },
  {
   "cell_type": "markdown",
   "metadata": {
    "id": "FN1D1eM3kVmt"
   },
   "source": [
    "__Examples__\n",
    "\n",
    "- A subset of all free vectors parallel to some plane is a subspace of the linear space of all free vectors in three-dimensional space.\n",
    "\n",
    "- The linear space $\\left\\{P_{n}(t)\\right\\}$ of all algebraic polynomials of degree at most $n$ is a subspace of the linear space $C[a,b]$ of all functions $u=u(t)$ defined and continuous on the segment $a\\leq t \\leq b$.\n",
    "\n",
    "- The subspace of any linear space will be:\n",
    "\n",
    "    a) the linear space itself;\n",
    "    \n",
    "    b) the set consisting of one zero element."
   ]
  },
  {
   "cell_type": "markdown",
   "metadata": {
    "id": "bxtLt-bdkVmu"
   },
   "source": [
    "__Statement__\n",
    "\n",
    "A subset $L$ of linear space $V$ is a subspace if and only if for any element $u, v\\in L$ and any $\\alpha \\in \\mathbb{R}$ the conditions are satisfied:\n",
    "\n",
    "$$1)\\ u+v\\in L;$$\n",
    "\n",
    "$$2)\\ \\alpha\\cdot u \\in L.$$\n",
    "\n"
   ]
  },
  {
   "cell_type": "markdown",
   "metadata": {
    "id": "RqfGOqzzkVmv"
   },
   "source": [
    "__Example__\n",
    " \n",
    "Define whether the following sets are subspaces of linear space $\\mathbb{R}^{3}$:\n",
    " \n",
    "   a) the set of all vectors of the form $(0, a, b)$;\n",
    "   \n",
    "   b) the set of all vectors of the form $(1, a, b)$.\n",
    "    \n",
    "__Solution__\n",
    " \n",
    "1. By checking on the above statement, we will see that \n",
    " \n",
    "$$(0, a, b)+(0, c, d) = (0, a+c, b+d),$$ $$\\alpha\\cdot (0, a, b) = (0, \\alpha a, \\alpha b).$$\n",
    " \n",
    " \n",
    "The obtained vectors also belong to the set of all vectors of the form $(0, a, b)$ specified in the problem, i.e. this set is a subspace of the linear space $\\mathbb{R}^{3}$.\n",
    " \n",
    "2. By checking on the above statement, we will see that \n",
    " \n",
    "$$(1, a, b)+(1, c, d) = (2, a+c, b+d),$$ $$\\alpha\\cdot (1, a, b) = (\\alpha, \\alpha a, \\alpha b).$$\n",
    " \n",
    " \n",
    "The resulting vectors no longer belong to the set of all vectors of the form $(1, a, b)$ specified in the assignment, i.e. this set is not a subspace of the linear space $\\mathbb{R}^{3}$."
   ]
  },
  {
   "cell_type": "markdown",
   "metadata": {
    "id": "rL-3xO5XkVnB"
   },
   "source": [
    "__Definition__\n",
    "\n",
    "Let two subspaces $V_{1}$ and $V_{2}$ of linear space $V$ be given. Then: \n",
    "\n",
    "1. A union of subspaces_ $V_{1}$ and $V_{2}$ is the set of elements $x\\in V$ such that\n",
    "that $x\\in V_{1}$ or $x\\in V_{2}$. The union of subspaces $V_{1}$ and $V_{2}$ is denoted by $V_{1}\\cup V_{2}$. \n",
    "\n",
    "\n",
    "2. The intersection of subspaces_ $V_{1}$ and $V_{2}$ is the set of elements $x\\in V$ belonging to $V_{1}$ and $V_{2}$ simultaneously. The intersection of subspaces $V_{1}$ and $V_{2}$ is denoted by $V_{1}\\cap V_{2}$.\n",
    "\n",
    "\n",
    "3. _The sum of subspaces_ $V_{1}$ and $V_{2}$ is the set of all elements $x_{1}+x_{2}\\in V$ provided that $x_{1}\\in V_{1}$ and $x_{2}\\in V_{2}$. The sum of subspaces $V_{1}$ and $V_{2}$ is denoted by $V_{1}+V_{2}$.\n",
    "\n",
    "\n",
    "4. _The direct sum of subspaces_ $V_{1}$ and $V_{2}$ is the set of all elements $x_{1}+x_{2}\\in V$ provided that $x_{1}\\in V_{1}$ and $x_{2}\\in V_{2}$ and $V_{1}\\cap V_{2}={0}$. The direct sum is denoted by $V_{1}\\oplus V_{2}$.\n"
   ]
  },
  {
   "cell_type": "markdown",
   "metadata": {
    "id": "YFvzOOwfkVnD"
   },
   "source": [
    "__Example__\n",
    "\n",
    "Let $R$ be the linear space of all free vectors in three-dimensional space, $L_{1}$ be the subspace of all free vectors parallel to the plane $Oxy$, $L_{2}$ be the subspace of all free vectors parallel to the plane $Oxz$. Then the sum of subspaces $L_{1}$ and $L_{2}$ is the whole space $R$, and their intersection is the set of vectors parallel to the axis $Ox$."
   ]
  },
  {
   "cell_type": "markdown",
   "metadata": {
    "id": "kfK6p16LkVnE"
   },
   "source": [
    "__Statement__\n",
    "\n",
    "The sum of dimensions of arbitrary subspaces $L_{1}$ and $L_{2}$ of a finite-dimensional linear space $R$ is equal to the sum of the intersection dimension of these subspaces and the dimension of their sum."
   ]
  },
  {
   "cell_type": "markdown",
   "metadata": {
    "id": "MyOFHXCPkVnJ"
   },
   "source": [
    "__Statement__\n",
    "\n",
    "The dimensionality of any subspace of $n$-dimensional linear space does not exceed the dimensionality of $n$ of that space."
   ]
  },
  {
   "cell_type": "markdown",
   "metadata": {
    "id": "ru-WGx__kVnK"
   },
   "source": [
    "__Definition__\n",
    "\n",
    "Take in $n$-dimensional linear space a finite set of vectors $\\{x_{1}, x_{2}, ... , x_{k}\\}$. Then the set of all linear combinations of these vectors forms some subspace of the original linear space. It will be called the _linear envelope_ of this set and denoted by $L\\{x_{1}, x_{2}, ... , x_{k}\\}.$"
   ]
  },
  {
   "cell_type": "markdown",
   "metadata": {
    "id": "m4jm1yBgkVnM"
   },
   "source": [
    "## Vector operations in Python"
   ]
  },
  {
   "cell_type": "markdown",
   "metadata": {
    "id": "lRWUAMI_kVnN"
   },
   "source": [
    "In machine learning, of which Python is a popular tool, a vector is the basic unit of data. Vectors contain values, called _signatures_, which are used to train models or which need to be predicted from an existing model."
   ]
  },
  {
   "cell_type": "markdown",
   "metadata": {
    "id": "l9iareE8kVnQ"
   },
   "source": [
    "The easiest way to create a vector in Python is to use the NumPy library. With it, a vector can be specified explicitly using the function `numpy.array(list, dtype=None, ...)`.\n",
    "\n",
    "The `list` parameter is an iterable object from which a vector (e.g. a list) can be created. The parameter `dtype` specifies the data type for the vector values, e.g. `int` for integer values and `float` for real values. If this parameter is not given, the data type will be determined from the element type of the object given in the first argument.\n",
    "\n",
    "In NumPy the vector is a one-dimensional array."
   ]
  },
  {
   "cell_type": "code",
   "execution_count": 1,
   "metadata": {
    "id": "Fb0Nb7CokVnW"
   },
   "outputs": [],
   "source": [
    "import numpy as np"
   ]
  },
  {
   "cell_type": "code",
   "execution_count": 2,
   "metadata": {
    "colab": {
     "base_uri": "https://localhost:8080/"
    },
    "id": "AidZD6P-kVnr",
    "outputId": "545f3e00-c1b6-460c-c27d-8ee935cd4f97"
   },
   "outputs": [
    {
     "name": "stdout",
     "output_type": "stream",
     "text": [
      "Vector:\n",
      "[1 2 3]\n"
     ]
    }
   ],
   "source": [
    "a = np.array([1, 2, 3])\n",
    "print(f'Vector:\\n{a}')"
   ]
  },
  {
   "cell_type": "code",
   "execution_count": 3,
   "metadata": {
    "colab": {
     "base_uri": "https://localhost:8080/"
    },
    "id": "ALhwHpPmkVoK",
    "outputId": "9c1f80bd-11f1-4fe0-b790-c6250fe9f688"
   },
   "outputs": [
    {
     "name": "stdout",
     "output_type": "stream",
     "text": [
      "Vector with real values:\n",
      "[1 2 3 4 5]\n"
     ]
    }
   ],
   "source": [
    "b = np.array([1, 2, 3, 4, 5], dtype=int)\n",
    "print(f'Vector with real values:\\n{b}')"
   ]
  },
  {
   "cell_type": "code",
   "execution_count": 4,
   "metadata": {
    "colab": {
     "base_uri": "https://localhost:8080/"
    },
    "id": "GJj2RdbBkVoW",
    "outputId": "60422f77-3419-4d20-bb0c-a38c55c4b218"
   },
   "outputs": [
    {
     "name": "stdout",
     "output_type": "stream",
     "text": [
      "Vector with Boolean values:\n",
      "[ True False False]\n"
     ]
    }
   ],
   "source": [
    "c = np.array([True, False, False], dtype=bool)\n",
    "print(f'Vector with Boolean values:\\n{c}')"
   ]
  },
  {
   "cell_type": "markdown",
   "metadata": {
    "id": "ktx8egvOkVoe"
   },
   "source": [
    "The value type of a vector can be found out by using the attribute `vec.dtype`, where `vec` is the vector object."
   ]
  },
  {
   "cell_type": "code",
   "execution_count": 5,
   "metadata": {
    "colab": {
     "base_uri": "https://localhost:8080/"
    },
    "id": "lB_Yei4OkVoo",
    "outputId": "4c01350a-be36-4b89-d759-5ddb1f0a9bfd"
   },
   "outputs": [
    {
     "name": "stdout",
     "output_type": "stream",
     "text": [
      "Boolean vector type:\n",
      "bool\n"
     ]
    }
   ],
   "source": [
    "print(f'Boolean vector type:\\n{c.dtype}')"
   ]
  },
  {
   "cell_type": "markdown",
   "metadata": {
    "id": "71ZB_Y00kVox"
   },
   "source": [
    "Another way to specify a vector is the `numpy.arange([start, ]stop, [step, ]...)` function, which sets a sequence of numbers of a given type from a gap (`start`, `stop`) (the last value not included) through step `step`:"
   ]
  },
  {
   "cell_type": "code",
   "execution_count": 6,
   "metadata": {
    "colab": {
     "base_uri": "https://localhost:8080/"
    },
    "id": "yHdQQWbRkVoz",
    "outputId": "f505178b-3e12-4ed6-a014-84539d96e554"
   },
   "outputs": [
    {
     "name": "stdout",
     "output_type": "stream",
     "text": [
      "Vector of real numbers from 0 to 5 in 0.2 increments:\n",
      "[0.  0.2 0.4 0.6 0.8 1.  1.2 1.4 1.6 1.8 2.  2.2 2.4 2.6 2.8 3.  3.2 3.4\n",
      " 3.6 3.8 4.  4.2 4.4 4.6 4.8]\n"
     ]
    }
   ],
   "source": [
    "d = np.arange(start=0, stop=5, step=0.2)\n",
    "print(f'Vector of real numbers from 0 to 5 in 0.2 increments:\\n{d}')"
   ]
  },
  {
   "cell_type": "markdown",
   "metadata": {
    "id": "RCn_RxMfkVpH"
   },
   "source": [
    "The `numpy.array.shape` attribute, which shows the dimensions of the array, will show its length in the case of a vector, since there is no second dimension:"
   ]
  },
  {
   "cell_type": "code",
   "execution_count": 7,
   "metadata": {
    "colab": {
     "base_uri": "https://localhost:8080/"
    },
    "id": "PzennH4_kVpJ",
    "outputId": "45ea223c-0e92-4421-8354-f1b8dd208e16"
   },
   "outputs": [
    {
     "name": "stdout",
     "output_type": "stream",
     "text": [
      "Vector length d: (25,)\n"
     ]
    }
   ],
   "source": [
    "print(f'Vector length d: {d.shape}')"
   ]
  },
  {
   "cell_type": "markdown",
   "metadata": {
    "id": "WCvqRNrlkVpU"
   },
   "source": [
    "With NumPy you can perform various vector operations, including adding vectors, multiplying a vector by a number and another vector (co-ordinate)."
   ]
  },
  {
   "cell_type": "code",
   "execution_count": 8,
   "metadata": {
    "colab": {
     "base_uri": "https://localhost:8080/"
    },
    "id": "GIZNX3cbkVpW",
    "outputId": "f3211059-63ec-47c8-d911-4f7d59ee58e5"
   },
   "outputs": [
    {
     "name": "stdout",
     "output_type": "stream",
     "text": [
      "Vector a: [1 2 3]\n",
      "Vector b: [4 5 6]\n",
      "Number k: 2\n"
     ]
    }
   ],
   "source": [
    "a = np.array([1, 2, 3])\n",
    "b = np.array([4, 5, 6])\n",
    "k = 2\n",
    "\n",
    "print(f'Vector a: {a}')\n",
    "print(f'Vector b: {b}')\n",
    "print(f'Number k: {k}')"
   ]
  },
  {
   "cell_type": "code",
   "execution_count": 9,
   "metadata": {
    "colab": {
     "base_uri": "https://localhost:8080/"
    },
    "id": "cyIPt-bokVpe",
    "outputId": "84cc215f-08b2-4d74-af90-e03a7876952c"
   },
   "outputs": [
    {
     "name": "stdout",
     "output_type": "stream",
     "text": [
      "Vector a + b: [5 7 9]\n"
     ]
    }
   ],
   "source": [
    "print(f'Vector a + b: {a + b}')"
   ]
  },
  {
   "cell_type": "code",
   "execution_count": 10,
   "metadata": {
    "colab": {
     "base_uri": "https://localhost:8080/"
    },
    "id": "PuISb7PDkVpn",
    "outputId": "be2372cf-c99f-45fc-e86d-76a386720c34"
   },
   "outputs": [
    {
     "name": "stdout",
     "output_type": "stream",
     "text": [
      "Vector a - b: [-3 -3 -3]\n"
     ]
    }
   ],
   "source": [
    "print(f'Vector a - b: {a - b}')"
   ]
  },
  {
   "cell_type": "code",
   "execution_count": 11,
   "metadata": {
    "colab": {
     "base_uri": "https://localhost:8080/"
    },
    "id": "hWV0twetkVp0",
    "outputId": "8eb52a68-ee7d-4028-e763-78e458f8693f"
   },
   "outputs": [
    {
     "name": "stdout",
     "output_type": "stream",
     "text": [
      "Vector ka: [2 4 6]\n"
     ]
    }
   ],
   "source": [
    "print(f'Vector ka: {k * a}')"
   ]
  },
  {
   "cell_type": "code",
   "execution_count": 12,
   "metadata": {
    "colab": {
     "base_uri": "https://localhost:8080/"
    },
    "id": "ws-fEepikVp_",
    "outputId": "5dcacc6f-429f-4c70-d5f3-a0dbf03d41ca"
   },
   "outputs": [
    {
     "name": "stdout",
     "output_type": "stream",
     "text": [
      "Coordinate multiplication of vectors a and b: [ 4 10 18]\n"
     ]
    }
   ],
   "source": [
    "print(f'Coordinate multiplication of vectors a and b: {a * b}')"
   ]
  },
  {
   "cell_type": "markdown",
   "metadata": {
    "id": "E5wedvSckVqF"
   },
   "source": [
    "We will look at other vector operations in the following lessons."
   ]
  },
  {
   "cell_type": "markdown",
   "metadata": {
    "id": "xH8_mN7okVqG"
   },
   "source": [
    "## Examples of tasks"
   ]
  },
  {
   "cell_type": "markdown",
   "metadata": {
    "id": "ciXbchOhkVqH"
   },
   "source": [
    "For vectors $x, y, z$ and real numbers $\\alpha_{i}$, solve the following problems:"
   ]
  },
  {
   "cell_type": "markdown",
   "metadata": {
    "id": "p4uFqdlPkVqI"
   },
   "source": [
    "__1.__ It is known that vectors of some linear space $x$, $y$ and $z$ are linearly independent. Will the following vectors be linearly independent? $x-y, y-z, z-x?$\n",
    "\n",
    "__Solution__\n",
    "\n",
    "Note that $x-y=-((y-z)+(z-x))$, i.e. one of the vectors is a linear combination of the other two. It follows that the vectors are linearly dependent."
   ]
  },
  {
   "cell_type": "markdown",
   "metadata": {
    "id": "ypvfV9tckVqL"
   },
   "source": [
    "__2.__ It is known that vectors of some linear space $x$, $y$ and $z$ are linearly independent. Will the following vectors be linearly independent $x, x+y, x+y+z?$\n",
    "\n",
    "__Solution__\n",
    "\n",
    "Equate the linear combination of these vectors to the zero vector:\n",
    "$$\\alpha_{1}x+\\alpha_{2}(x+y)+\\alpha_{3}(x+y+z)=0.$$\n",
    "Given the properties of linear spaces, we can open the brackets and transform the resulting equation to the form\n",
    "$$(\\alpha_{1}+\\alpha_{2}+\\alpha_{3})x+(\\alpha_{2}+\\alpha_{3})y+\\alpha_{3}z=0.$$\n",
    "Then, assuming that the vectors are linearly independent, we can conclude that all coefficients must equal zero. We obtain a system of equations:\n",
    "$$\\begin{cases}\n",
    " \\alpha_{1}+\\alpha_{2}+\\alpha_{3}=0,\\\\\n",
    " \\alpha_{2}+\\alpha_{3}=0,\\\\\n",
    " \\alpha_{3}=0,\n",
    "\\end{cases}$$\n",
    "where it follows that $\\alpha_{1}=\\alpha_{2}=\\alpha_{3}=0$. Thus, the vectors $x, x+y, x+y+z$ are linearly independent."
   ]
  },
  {
   "cell_type": "markdown",
   "metadata": {
    "id": "UlCV60j8kVqM"
   },
   "source": [
    "__3.__ Investigate for a linear relationship:\n",
    "$$f_{1}(x)=x^{2}+5, f_{2}(x)=x^{2}, f_{3}(x)=1.$$\n",
    " \n",
    "__Solution__\n",
    " \n",
    "Note that $f_{1}(x)=f_{2}(x)+5f_{3}(x)$, i.e. vector $f_{1}(x)$ is a linear combination of vectors $f_{2}(x)$ and $f_{3}(x)$, from which we can conclude that $f_{1}(x)=x^{2}+5$ and $f_{2}(x)=x^{2}$, $f_{3}(x)=1$ are linearly dependent."
   ]
  },
  {
   "cell_type": "markdown",
   "metadata": {
    "id": "DkGHOBdkkVqO"
   },
   "source": [
    "__4.__ Найти координаты вектора $x = (2, 3, 5)\\in \\mathbb{R}^{3}$ в стандартном базисе трехмерного пространства.\n",
    "\n",
    "__Решение__\n",
    "\n",
    "Стандартный базис линейного пространства $\\mathbb{R}^{3}$ образуют векторы \n",
    "$e_{1}=(1, 0, 0)$, $e_{2}=(0, 1, 0)$, $e_{3}=(0, 0, 1)$.\n",
    "Тогда \n",
    "\n",
    "$$x=(2, 3, 5)=(2,0,0)+(0, 3, 0)+(0, 0, 5)=2\\cdot(1, 0, 0)+3\\cdot(0, 1, 0)+5\\cdot(0, 0, 1)=2e_{1}+3e_{2}+5e_{3},$$\n",
    "\n",
    "\n",
    "то есть координатами вектора $x$ в стандартном базисе являются $2$, $3$, $5$."
   ]
  },
  {
   "cell_type": "markdown",
   "metadata": {
    "id": "Iv-T_NZAkVqZ"
   },
   "source": [
    "## Additional"
   ]
  },
  {
   "cell_type": "markdown",
   "metadata": {
    "id": "9o_SiUNxkVqa"
   },
   "source": [
    "1. [Creating vectors in NumPy](http://docs.scipy.org/doc/numpy-1.10.1/user/basics.creation.html)"
   ]
  }
 ],
 "metadata": {
  "colab": {
   "collapsed_sections": [],
   "name": "Lesson_1-REVISED.ipynb",
   "provenance": []
  },
  "kernelspec": {
   "display_name": "Python 3",
   "language": "python",
   "name": "python3"
  },
  "language_info": {
   "codemirror_mode": {
    "name": "ipython",
    "version": 3
   },
   "file_extension": ".py",
   "mimetype": "text/x-python",
   "name": "python",
   "nbconvert_exporter": "python",
   "pygments_lexer": "ipython3",
   "version": "3.8.5"
  }
 },
 "nbformat": 4,
 "nbformat_minor": 1
}
