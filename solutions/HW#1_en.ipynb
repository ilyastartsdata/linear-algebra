{
 "cells": [
  {
   "cell_type": "markdown",
   "metadata": {
    "id": "qZbgttt-SEZS"
   },
   "source": [
    "# Linear space. Basic concepts. Part 1"
   ]
  },
  {
   "cell_type": "markdown",
   "metadata": {
    "id": "CH36mj15SEZv"
   },
   "source": [
    "# Homework"
   ]
  },
  {
   "cell_type": "markdown",
   "metadata": {
    "id": "2sJDt8-uSEZx"
   },
   "source": [
    "__1.__ Investigate for a linear relationship:\n",
    "\n",
    "### $$f_{1}(x)=e^{x}, \\,\\,f_{2}(x)=1, \\,\\,f_{3}(x)=x+1, \\,\\,f_{4}(x)=x-e^{x}.$$"
   ]
  },
  {
   "cell_type": "markdown",
   "metadata": {
    "id": "5ZvZ69XcSEZz"
   },
   "source": [
    "__Solution__"
   ]
  },
  {
   "cell_type": "markdown",
   "metadata": {
    "id": "n7Tjy9QXSEZ0"
   },
   "source": [
    "Note that \n",
    "\n",
    "### $$f_{4}(x)=f_{3}(x)-f_{2}(x)-f_{1}(x) = x+1-1-e^{x} = x-e^{x},$$ \n",
    "that is, one of the vectors is a linear combination of the other two. It follows that the vectors are linearly dependent."
   ]
  },
  {
   "cell_type": "markdown",
   "metadata": {
    "id": "cn9_3Ac0SEZ2"
   },
   "source": [
    "__2.__ Investigate for a linear relationship:\n",
    "\n",
    "### $$f_{1}(x)=2,\\,\\, f_{2}(x)=x, \\,\\,f_{3}(x)=x^{2}, \\,\\,f_{4}(x)=(x+1)^{2}.$$"
   ]
  },
  {
   "cell_type": "markdown",
   "metadata": {
    "id": "HeAvduZNSEZ-"
   },
   "source": [
    "__Solution__"
   ]
  },
  {
   "cell_type": "markdown",
   "metadata": {
    "id": "qkV-iWTKSEZ_"
   },
   "source": [
    "Note that \n",
    "\n",
    "### $$f_{4}(x)=f_{3}(x)+2f_{2}(x)+0.5f_{1}(x) = x^{2}+2x+1 = (x+1)^{2},$$\n",
    "\n",
    "that is, one of the vectors is a linear combination of the other two. It follows that the vectors are linearly dependent."
   ]
  },
  {
   "cell_type": "markdown",
   "metadata": {
    "id": "722y6Vy3SEaB"
   },
   "source": [
    "__3.__ Find the coordinates of the vector $x = (2, 3, 5)\\in \\mathbb{R}^{3}$ on the basis of $b_{1}=(0, 0, 10)$, $b_{2}=(2, 0, 0)$, $b_{3}=(0, 1, 0)$."
   ]
  },
  {
   "cell_type": "markdown",
   "metadata": {
    "id": "gXPmS8xVSEaD"
   },
   "source": [
    "__Solution__"
   ]
  },
  {
   "cell_type": "markdown",
   "metadata": {
    "id": "sCCesHUDSEaE"
   },
   "source": [
    "### $$x=(2, 3, 5)=(2,0,0)+(0, 3, 0)+(0, 0, 5)=$$\n",
    "### $$=0.5\\cdot(0, 0, 10)+1\\cdot(2, 0, 0)+3\\cdot(0, 1, 0)=0.5b_{1}+b_{2}+3b_{3},$$\n",
    "that is, the coordinates of vector $x$ in this basis are $(0.5, 1,3)$."
   ]
  },
  {
   "cell_type": "markdown",
   "metadata": {
    "id": "eKerXGBHSEaF"
   },
   "source": [
    "__4.__ Find the coordinates of the vector $3x^{2}-2x+2\\in\\mathbb{R}^{3}[x]$:\n",
    "\n",
    "   а) on the basis of $1$, $x$, $x^{2}$;\n",
    "\n",
    "   б) on the basis of $x^{2}$, $x-1$, $1$."
   ]
  },
  {
   "cell_type": "markdown",
   "metadata": {
    "id": "vdKoGKyoSEaF"
   },
   "source": [
    "__Solution__"
   ]
  },
  {
   "cell_type": "markdown",
   "metadata": {
    "id": "iaAstcPCSEaG"
   },
   "source": [
    "а) Vector coordinates $3x^{2}-2x+2\\in\\mathbb{R}^{3}[x]$ on the basis of $1$, $x$, $x^{2}$ are:  $(2, -2, 3)$"
   ]
  },
  {
   "cell_type": "markdown",
   "metadata": {
    "id": "oemQZoszSEaG"
   },
   "source": [
    "б) Vector coordinates $3x^{2}-2x+2\\in\\mathbb{R}^{3}[x]$ on the basis of $x^{2}$, $x-1$, $1$ are:  $(3, -2, 0)$"
   ]
  },
  {
   "cell_type": "markdown",
   "metadata": {
    "id": "P4zwr0-RSEaH"
   },
   "source": [
    "__5.__ Determine whether a linear subspace is:\n",
    "\n",
    "a) the set of all vectors in three-dimensional space which have at least one of the first two coordinates equal to zero;\n",
    "    \n",
    "b) all vectors which are linear combinations of the given vectors $\\{u_{1}, u_{2}, ..., u_{n}\\}$."
   ]
  },
  {
   "cell_type": "markdown",
   "metadata": {
    "id": "YX7Eh2pXSEaH"
   },
   "source": [
    "__Solution__"
   ]
  },
  {
   "cell_type": "markdown",
   "metadata": {
    "id": "9qin49QvSEaH"
   },
   "source": [
    "а) Есть три варианта: либо первая координата равна нулю $(0, a, b)$ - вектора параллельны плоскости $YoZ$ , либо вторая координата равна нулю $(c, 0, d)$ - вектора параллельны плоскости $XoZ$, либо обе первых координат равны нулю $(0, 0, e)$ - вектора параллельны оси $Z$."
   ]
  },
  {
   "cell_type": "markdown",
   "metadata": {
    "id": "BCosd8dtSEaI"
   },
   "source": [
    "Проведем проверку для случая, когда у первого вектора первая координата равна нулю, а у второго - вторая:"
   ]
  },
  {
   "cell_type": "markdown",
   "metadata": {
    "id": "7JrnQfEZSEaI"
   },
   "source": [
    "### $$(0, a, b)+(c, 0, d) = (c, a, b+d),$$ "
   ]
  },
  {
   "cell_type": "markdown",
   "metadata": {
    "id": "Or2q_8SlSEaJ"
   },
   "source": [
    "Полученные векторы не принадлежат указанному в задании множеству всех векторов, то есть данное множество не является подпространством линейного пространства $\\mathbb{R}^{3}$."
   ]
  },
  {
   "cell_type": "markdown",
   "metadata": {
    "id": "oONFhpYdSEaJ"
   },
   "source": [
    "б) Результаты операций $\\ u+v$ и $\\ \\alpha\\cdot u$ также будут являться линейными комбинациями заданных векторов $\\{u_{1}, u_{2}, ..., u_{n}\\}$, поэтому все векторы, являющиеся линейными комбинациями данных векторов $\\{u_{1}, u_{2}, ..., u_{n}\\}$ будут являться линейным подпространством."
   ]
  }
 ],
 "metadata": {
  "colab": {
   "name": "разбор ДЗ 1.ipynb",
   "provenance": []
  },
  "kernelspec": {
   "display_name": "Python 3",
   "language": "python",
   "name": "python3"
  },
  "language_info": {
   "codemirror_mode": {
    "name": "ipython",
    "version": 3
   },
   "file_extension": ".py",
   "mimetype": "text/x-python",
   "name": "python",
   "nbconvert_exporter": "python",
   "pygments_lexer": "ipython3",
   "version": "3.8.5"
  }
 },
 "nbformat": 4,
 "nbformat_minor": 1
}
