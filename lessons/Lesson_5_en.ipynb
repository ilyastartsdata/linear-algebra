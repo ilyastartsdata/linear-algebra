{
 "cells": [
  {
   "cell_type": "markdown",
   "metadata": {
    "id": "fi1GVcIOZS20"
   },
   "source": [
    "# Lesson 5"
   ]
  },
  {
   "cell_type": "code",
   "execution_count": 1,
   "metadata": {
    "id": "2i0OL9KOh0nY"
   },
   "outputs": [
    {
     "ename": "ModuleNotFoundError",
     "evalue": "No module named 'google'",
     "output_type": "error",
     "traceback": [
      "\u001b[0;31m---------------------------------------------------------------------------\u001b[0m",
      "\u001b[0;31mModuleNotFoundError\u001b[0m                       Traceback (most recent call last)",
      "\u001b[0;32m<ipython-input-1-d5df0069828e>\u001b[0m in \u001b[0;36m<module>\u001b[0;34m\u001b[0m\n\u001b[0;32m----> 1\u001b[0;31m \u001b[0;32mfrom\u001b[0m \u001b[0mgoogle\u001b[0m\u001b[0;34m.\u001b[0m\u001b[0mcolab\u001b[0m \u001b[0;32mimport\u001b[0m \u001b[0mdrive\u001b[0m\u001b[0;34m\u001b[0m\u001b[0;34m\u001b[0m\u001b[0m\n\u001b[0m\u001b[1;32m      2\u001b[0m \u001b[0mdrive\u001b[0m\u001b[0;34m.\u001b[0m\u001b[0mmount\u001b[0m\u001b[0;34m(\u001b[0m\u001b[0;34m'/content/drive'\u001b[0m\u001b[0;34m)\u001b[0m\u001b[0;34m\u001b[0m\u001b[0;34m\u001b[0m\u001b[0m\n",
      "\u001b[0;31mModuleNotFoundError\u001b[0m: No module named 'google'"
     ]
    }
   ],
   "source": [
    "from google.colab import drive\n",
    "drive.mount('/content/drive')"
   ]
  },
  {
   "cell_type": "markdown",
   "metadata": {
    "id": "ixjV8P1IZS23"
   },
   "source": [
    "# Systems of linear equations. Part 1"
   ]
  },
  {
   "cell_type": "markdown",
   "metadata": {
    "id": "40aj3lJuZS25"
   },
   "source": [
    "A system of linear algebraic equations (SLAE) has the form: \n",
    "\n",
    "$$\\begin{cases}\n",
    "a_{11}x_{1}+a_{12}x_{2}+...+a_{1n}x_{n}=b_{1}, \\\\\n",
    "a_{21}x_{1}+a_{22}x_{2}+...+a_{2n}x_{n}=b_{2}, \\\\\n",
    "... \\\\\n",
    "a_{m1}x_{1}+a_{m2}x_{2}+...+a_{mn}x_{n}=b_{m}, \\\\\n",
    "\\end{cases}$$\n",
    "\n",
    "where $x_{1},x_{2},...,x_{n}$ denote unknowns to be determined, the quantities $a_{11},a_{12},...,a_{mn}$, called _coefficients of the system_, and $b_{1},b_{2},...,b_{m}$, called _free terms_, are assumed known."
   ]
  },
  {
   "cell_type": "markdown",
   "metadata": {
    "id": "GkS9zuaoZS27"
   },
   "source": [
    "The _solution_ of a system is that set of $n$ numbers $c_{1},c_{2},...,c_{n}$ that when substituted into the system instead of the unknowns $x_{1},x_{2},...,x_{n}$ turns all equations into identities."
   ]
  },
  {
   "cell_type": "markdown",
   "metadata": {
    "id": "TpJOoPfjZS29"
   },
   "source": [
    "This system can also be written in _matrix form_ using the following matrices:\n",
    "\n",
    "- matrix of system coefficients\n",
    "\n",
    "$$A=\\begin{pmatrix}\n",
    "a_{11} & a_{12} & \\cdots & a_{1n}\\\\ \n",
    "a_{21} & a_{22} & \\cdots & a_{2n}\\\\ \n",
    "\\cdots & \\cdots & \\ddots & \\cdots\\\\ \n",
    "a_{m1} & a_{m2} & \\cdots & a_{mn}\n",
    "\\end{pmatrix};$$\n",
    "\n",
    "- column vector of unknowns\n",
    "\n",
    "$$x=\\begin{pmatrix}\n",
    "x_{1}\\\\ \n",
    "x_{2}\\\\ \n",
    "\\cdots \\\\ \n",
    "x_{n}\n",
    "\\end{pmatrix};$$\n",
    "\n",
    "- vector-column of the right-hand sides (free members of the system)\n",
    "\n",
    "$$b=\\begin{pmatrix}\n",
    "b_{1}\\\\ \n",
    "b_{2}\\\\ \n",
    "\\cdots \\\\ \n",
    "b_{m}\n",
    "\\end{pmatrix}.$$\n",
    "\n",
    "The system will then look like the expression \n",
    "\n",
    "$$Ax=b.$$"
   ]
  },
  {
   "cell_type": "markdown",
   "metadata": {
    "id": "N4d1XXASZS2-"
   },
   "source": [
    "If $b_{1}=b_{2}=...=b_{m}=0$, then such a system of linear equations is called _uniform_. If at least one element of the vector-column of the right-hand sides is non-zero, the system is called _non-homogeneous_."
   ]
  },
  {
   "cell_type": "markdown",
   "metadata": {
    "id": "HFeVoZ9JZS2_"
   },
   "source": [
    "Matrix\n",
    "\n",
    "\n",
    "$$\\tilde{A}=\\begin{pmatrix}\n",
    "\\left.\\begin{matrix}\n",
    "a_{11} & a_{12} & \\cdots & a_{1n}\\\\ \n",
    "a_{21} & a_{22} & \\cdots & a_{2n}\\\\ \n",
    "\\cdots & \\cdots & \\ddots & \\cdots\\\\ \n",
    "a_{m1} & a_{m2} & \\cdots & a_{mn}\n",
    "\\end{matrix}\\right|\n",
    "\\begin{matrix}\n",
    "b_{1}\\\\ \n",
    "b_{2}\\\\\n",
    "\\cdots\\\\\n",
    "b_{m}\n",
    "\\end{matrix}\n",
    "\\end{pmatrix},$$\n",
    "\n",
    "obtained by appending the vector-column of free terms to the matrix of coefficients is called the _extended matrix_ of the system of equations."
   ]
  },
  {
   "cell_type": "markdown",
   "metadata": {
    "id": "-OzTpDrQZS3B"
   },
   "source": [
    "## Gauss method"
   ]
  },
  {
   "cell_type": "markdown",
   "metadata": {
    "id": "vsnWFgQDZS3C"
   },
   "source": [
    "One of the most universal, simple and common methods of solving systems of linear equations is the _Gaussian method_. \n",
    "\n",
    "This method is also sometimes called _the method of eliminating the unknowns_. It consists in solving the system by reducing it to its simplest form by elementary transformations. By the simplest form is meant here the _step_ form:\n",
    "\n",
    "$$\\begin{pmatrix}\n",
    "\\left.\\begin{matrix}\n",
    "a_{11} & a_{12} & \\cdots & a_{1n}\\\\ \n",
    "a_{21} & a_{22} & \\cdots & a_{2n}\\\\ \n",
    "\\cdots & \\cdots & \\ddots & \\cdots\\\\ \n",
    "a_{m1} & a_{m2} & \\cdots & a_{mn}\n",
    "\\end{matrix}\\right|\n",
    "\\begin{matrix}\n",
    "b_{1}\\\\ \n",
    "b_{2}\\\\\n",
    "\\cdots\\\\\n",
    "b_{m}\n",
    "\\end{matrix}\n",
    "\\end{pmatrix}\n",
    "\\rightarrow\n",
    "\\begin{pmatrix}\n",
    "\\left.\\begin{matrix}\n",
    "a'_{11} & a'_{12} & \\cdots & a'_{1n}\\\\ \n",
    "0 & a'_{22} & \\cdots & a'_{2n}\\\\ \n",
    "\\cdots & \\cdots & \\ddots & \\cdots\\\\ \n",
    "0 & 0 & \\cdots & a'_{mn}\n",
    "\\end{matrix}\\right|\n",
    "\\begin{matrix}\n",
    "b'_{1}\\\\ \n",
    "b'_{2}\\\\\n",
    "\\cdots\\\\\n",
    "b'_{m}\n",
    "\\end{matrix}\n",
    "\\end{pmatrix}.$$"
   ]
  },
  {
   "cell_type": "markdown",
   "metadata": {
    "id": "umhWKl1WZS3D"
   },
   "source": [
    "Let's describe the algorithm for a system of the following form\n",
    "\n",
    "$$\\begin{cases}\n",
    "a_{11}x_{1}+a_{12}x_{2}+...+a_{1n}x_{n}=b_{1}, \\\\\n",
    "a_{21}x_{1}+a_{22}x_{2}+...+a_{2n}x_{n}=b_{2}, \\\\\n",
    "... \\\\\n",
    "a_{n1}x_{1}+a_{n2}x_{2}+...+a_{nn}x_{n}=b_{n}. \\\\\n",
    "\\end{cases}$$\n",
    "\n",
    "We shall reduce the system to the required form by successive elimination of the unknowns."
   ]
  },
  {
   "cell_type": "markdown",
   "metadata": {
    "id": "1v5oGfQIZS3E"
   },
   "source": [
    "Assume that the coefficient $a_{11}\\neq0$. Divide the coefficients of the first of the equations (including the free term) by the coefficient $a_{11}$, which we will call the leading element (of step 1) to obtain the unit coefficient at the unknown $x_{11}$ and denote\n",
    "\n",
    "$$a'_{1j}=\\frac{a_{1j}}{a_{11}}~(j>1),$$\n",
    "\n",
    "$$b'_{1}=\\frac{b_{1}}{a_{11}}.$$\n",
    "\n",
    "Get a new equation in place of the first one:\n",
    "\n",
    "$$x_{1}+a'_{12}x_{2}+...+a'_{1n}x_{n}=b'_{1}.$$"
   ]
  },
  {
   "cell_type": "markdown",
   "metadata": {
    "id": "M_w6CtEkZS3G"
   },
   "source": [
    "Then we exclude $x_{1}$ from all subsequent equations by subtracting the resulting first equation from these equations multiplied by the numbers $a_{21}, a_{31},...,a_{n1}$, respectively. The transformed equations will have the form\n",
    "\n",
    "$$a_{22}^{(1)}x_{2}+...+a_{2n}^{(1)}x_{n}=b_{2}^{(1)},$$\n",
    "$$...$$\n",
    "$$a_{n2}^{(1)}x_{2}+...+a_{nn}^{(1)}x_{n}=b_{n}^{(1)},$$\n",
    "\n",
    "where\n",
    "\n",
    "$$a_{ij}^{(1)}=a_{ij}-a_{i1}a'_{1j}~~~~(i,j\\geq2),$$\n",
    "$$b_{i}^{(1)}=b_{i}-a_{i1}b'_{1}.$$"
   ]
  },
  {
   "cell_type": "markdown",
   "metadata": {
    "id": "e_b6gU3CZS3H"
   },
   "source": [
    "Next, divide the coefficients of the first of the transformed equations by the leading element of step 2 $a_{22}^{1}$, which we will assume is different from zero. We obtain the second equation of the system:\n",
    "\n",
    "$$x_{2}+a'_{23}x_{3}+...+a'_{2n}x_{n}=b'_{2},$$\n",
    "\n",
    "where\n",
    "\n",
    "$$a'_{2j}=\\frac{a_{2j}^{(1)}}{a_{22}^{(1)}}, ~ b'_{2}=\\frac{b_{2}^{(1)}}{a_{22}^{(1)}}.$$"
   ]
  },
  {
   "cell_type": "markdown",
   "metadata": {
    "id": "Gy6JMYupZS3I"
   },
   "source": [
    "Then, similarly excluding $x_{2}$ from the equations, starting with the third, we get\n",
    "\n",
    "$$a_{32}^{(2)}x_{3}+...+a_{3n}^{(2)}x_{n}=b_{3}^{(2)},$$\n",
    "$$...$$\n",
    "$$a_{n3}^{(2)}x_{3}+...+a_{nn}^{(2)}x_{n}=b_{n}^{(2)},$$\n",
    "\n",
    "where\n",
    "\n",
    "$$a_{ij}^{(2)}=a_{ij}^{(1)}-a_{i2}^{(1)}a'_{2j}~~~~(i,j\\geq3),$$\n",
    "$$b_{i}^{(2)}=b_{i}^{(1)}-a_{i2}^{(1)}b'_{2}.$$"
   ]
  },
  {
   "cell_type": "markdown",
   "metadata": {
    "id": "wTxh9_2JZS3J"
   },
   "source": [
    "Continuing the process according to the given scheme, at the $k$th step we get\n",
    "\n",
    "\n",
    "$$x_{k}+a'_{kk+1}x_{k+1}+...+a'_{kn}x_{n}=b'_{k},$$\n",
    "$$a_{k+1k+1}^{(k)}x_{k+1}+...+a_{k+1n}^{(k)}x_{n}=b_{k+1}^{(k)},$$\n",
    "$$...$$\n",
    "$$a_{nk+1}^{(k)}x_{k+1}+...+a_{nn}^{(k)}x_{n}=b_{n}^{(k)},$$\n",
    "\n",
    "where\n",
    "\n",
    "$$a'_{kj}=\\frac{a_{kj}^{(k-1)}}{a_{kk}^{(k-1)}} ~~~~~(j\\geq k+1),$$\n",
    "\n",
    "$$b'_{k}=\\frac{b_{k}^{(k-1)}}{a_{kk}^{(k-1)}},$$\n",
    "\n",
    "$$a_{ij}^{(k)}=a_{ij}^{(k-1)}-a_{ik}^{(k-1)}a'_{kj},$$\n",
    "\n",
    "$$b_{i}^{(k)}=b_{i}^{(k-1)}-a_{ik}^{(k-1)}b'_{k}.$$"
   ]
  },
  {
   "cell_type": "markdown",
   "metadata": {
    "id": "7SpqIuvEZS3K"
   },
   "source": [
    "After a complete run through the system of equations, we get the system\n",
    "\n",
    "$$\\begin{cases}\n",
    "x_{1}+a'_{12}x_{2}+a'_{13}x_{3}+...+a'_{1n}x_{n}=b'_{1}, \\\\\n",
    "~~~~~~~~~~~~~x_{2}+a'_{23}x_{3}+...+a'_{2n}x_{n}=b'_{2}, \\\\\n",
    "~~~~~~~~~~~~~.......................... \\\\\n",
    "~~~~~~~~~~~~~~~~~~~~~~~~~~~~~~~~~~~~~~~~~~~~~x_{n}=b'_{n},\n",
    "\\end{cases}$$\n",
    "\n",
    "equivalent to the original system. This system will have a triangular matrix of coefficients. \n",
    "\n",
    "It is worth noting that this process is only possible if all leading elements $a_{kk}^{(k-1)}$ are non-zero, since we are dividing by them along the way."
   ]
  },
  {
   "cell_type": "markdown",
   "metadata": {
    "id": "SZ5mXQjJZS3M"
   },
   "source": [
    "From the resulting system, we find the values of the unknowns from $x_{n}$ to $x_{1}$ by the formulas\n",
    "\n",
    "$$x_{k}=b'_{k}-a'_{kk+1}x_{k+1}-...-a'_{kn}x_{n}.$$"
   ]
  },
  {
   "cell_type": "markdown",
   "metadata": {
    "id": "J5XYTnVAZS3N"
   },
   "source": [
    "To summarize, the Gaussian method consists of two parts: we first construct a triangular system for a given system, and then solve it. The process of finding the coefficients of the triangular matrix is called the _direct walk_, and the process of obtaining the solution is called the _inverse walk_, since we first move downward on the original matrix and then upward on the obtained triangular matrix."
   ]
  },
  {
   "cell_type": "markdown",
   "metadata": {
    "id": "elDDKCnnZS3O"
   },
   "source": [
    "The second way to implement the Gaussian method is to work with elementary transformations of the extended matrix of the system to bring it to a staggered form.\n",
    "\n",
    "We have already dealt with elementary transformations in finding matrix ranks. In this case, transformations of __only rows__ of the following kind are permissible:\n",
    "\n",
    "- rearrangement of rows;\n",
    "\n",
    "- multiplying (dividing) a row by any nonzero number;\n",
    "\n",
    "- adding to a matrix row another row multiplied by a non-zero number (only the row to which the row is added changes);\n",
    "\n",
    "- if there are proportional (or identical) rows, delete all but one of them;\n",
    "\n",
    "- deletion of null lines (such lines in which all elements are zeroed in the process of elementary transformations).\n",
    "\n",
    "Such transformations will not change the solution of the system."
   ]
  },
  {
   "cell_type": "markdown",
   "metadata": {
    "id": "cHqV1pm2ZS3P"
   },
   "source": [
    "Once the matrix has been reduced to a step form, the Gaussian method is reversed, as in the previous implementation of the algorithm."
   ]
  },
  {
   "cell_type": "markdown",
   "metadata": {
    "id": "EcENQ8i0ZS3R"
   },
   "source": [
    "The algorithm looks quite complicated, but after a few examples it is clear that it is very easy to implement in practice."
   ]
  },
  {
   "cell_type": "markdown",
   "metadata": {
    "id": "oaxNO7zeZS3S"
   },
   "source": [
    "__Example 1__\n",
    "\n",
    "Solve a system of equations:\n",
    "\n",
    "$$\\begin{cases}\n",
    "2x_{1}+x_{2}+x_{3}=5, \\\\\n",
    "4x_{1}-6x_{2}=-2, \\\\\n",
    "-2x_{1}+7x_{2}+2x_{3}=9.\n",
    "\\end{cases}$$"
   ]
  },
  {
   "cell_type": "markdown",
   "metadata": {
    "id": "y1n3pweJZS3T"
   },
   "source": [
    "Write down the extended matrix of the system:\n",
    "\n",
    "$$\\begin{pmatrix}\n",
    "\\left.\\begin{matrix}\n",
    "2 & 1 & 1 \\\\ \n",
    "4 & -6 & 0 \\\\ \n",
    "-2 & 7 & 2\n",
    "\\end{matrix}\\right|\n",
    "\\begin{matrix}\n",
    "5\\\\ \n",
    "-2\\\\\n",
    "9\n",
    "\\end{matrix}\n",
    "\\end{pmatrix}.$$\n",
    "\n",
    "By means of elementary transformations we will try to bring the matrix to a stepped form.\n",
    "\n",
    "Subtract the first row from the second, multiplied by 2:\n",
    "\n",
    "$$\\begin{pmatrix}\n",
    "\\left.\\begin{matrix}\n",
    "2 & 1 & 1 \\\\ \n",
    "0 & -8 & -2 \\\\ \n",
    "-2 & 7 & 2\n",
    "\\end{matrix}\\right|\n",
    "\\begin{matrix}\n",
    "5\\\\ \n",
    "-12\\\\\n",
    "9\n",
    "\\end{matrix}\n",
    "\\end{pmatrix}.$$\n",
    "\n",
    "Add the first line to the third:\n",
    "\n",
    "$$\\begin{pmatrix}\n",
    "\\left.\\begin{matrix}\n",
    "2 & 1 & 1 \\\\ \n",
    "0 & -8 & -2 \\\\ \n",
    "0 & 8 & 3\n",
    "\\end{matrix}\\right|\n",
    "\\begin{matrix}\n",
    "5\\\\ \n",
    "-12\\\\\n",
    "14\n",
    "\\end{matrix}\n",
    "\\end{pmatrix}.$$\n",
    "\n",
    "And add the second equation to the third:\n",
    "\n",
    "$$\\begin{pmatrix}\n",
    "\\left.\\begin{matrix}\n",
    "2 & 1 & 1 \\\\ \n",
    "0 & -8 & -2 \\\\ \n",
    "0 & 0 & 1\n",
    "\\end{matrix}\\right|\n",
    "\\begin{matrix}\n",
    "5\\\\ \n",
    "-12\\\\\n",
    "2\n",
    "\\end{matrix}\n",
    "\\end{pmatrix}.$$"
   ]
  },
  {
   "cell_type": "markdown",
   "metadata": {
    "id": "dwCOyvgxZS3U"
   },
   "source": [
    "As a result, after transformations, we get a matrix of the triangular form, which represents the following system:\n",
    "\n",
    "$$\\begin{cases}\n",
    "2x_{1}+x_{2}+x_{3}=5, \\\\\n",
    "~~-8x_{2}-2x_{3}=-12, \\\\\n",
    "~~~~~~~~~~~~~~~~~~~~x_{3}=2.\n",
    "\\end{cases}$$\n",
    "\n",
    "Reversing the Gaussian method by substituting the known values into the equations, we obtain\n",
    "\n",
    "$$x_{3}=2.$$\n",
    "\n",
    "Insert $x_{3}$ into the second equation:\n",
    "$$-8x_{2} - 2\\cdot 2=-12\\Rightarrow x_{2}=1,$$\n",
    "\n",
    "and then $x_{2}$ и $x_{3}$ — into the first:\n",
    "$$2x_{1}+1+2=5\\Rightarrow x_{1}=1.$$"
   ]
  },
  {
   "cell_type": "markdown",
   "metadata": {
    "id": "U9G_xQuAZS3V"
   },
   "source": [
    "If you substitute the obtained values of the unknowns into the original system, it is easy to see that all the expressions convert to identities:\n",
    "\n",
    "$$\\begin{cases}\n",
    "2\\cdot1+1+2=5,\\\\\n",
    "4\\cdot1-6\\cdot1=-2,\\\\\n",
    "-2\\cdot1+7\\cdot1+2\\cdot2=9.\n",
    "\\end{cases}$$"
   ]
  },
  {
   "cell_type": "markdown",
   "metadata": {
    "id": "0fHmN3j1ZS3X"
   },
   "source": [
    "__Example 2__\n",
    "\n",
    "Solve a system of equations\n",
    "\n",
    "$$\\begin{cases}\n",
    "x_{1}+x_{2}-x_{3}=0, \\\\\n",
    "2x_{1}-x_{2}-x_{3}=-2, \\\\\n",
    "4x_{1}+x_{2}-3x_{3}=9.\n",
    "\\end{cases}$$"
   ]
  },
  {
   "cell_type": "markdown",
   "metadata": {
    "id": "3xpWiWEMZS3Y"
   },
   "source": [
    "Convert the extended system matrix by elementary transformations:\n",
    "\n",
    "$$\\begin{pmatrix}\n",
    "\\left.\\begin{matrix}\n",
    "1 & 1 & -1 \\\\ \n",
    "2 & -1 & -1 \\\\ \n",
    "4 & 1 & -3\n",
    "\\end{matrix}\\right|\n",
    "\\begin{matrix}\n",
    "0\\\\ \n",
    "-2\\\\\n",
    "9\n",
    "\\end{matrix}\n",
    "\\end{pmatrix}.$$\n",
    "\n",
    "Subtract from the second line the first line multiplied by 2 and from the third line the first line multiplied by 4:\n",
    "\n",
    "$$\\begin{pmatrix}\n",
    "\\left.\\begin{matrix}\n",
    "1 & 1 & -1 \\\\ \n",
    "0 & -3 & 1 \\\\ \n",
    "0 & -3 & 1\n",
    "\\end{matrix}\\right|\n",
    "\\begin{matrix}\n",
    "0\\\\ \n",
    "-2\\\\\n",
    "9\n",
    "\\end{matrix}\n",
    "\\end{pmatrix}.$$\n",
    "\n",
    "And subtract the second line from the third:\n",
    "\n",
    "$$\\begin{pmatrix}\n",
    "\\left.\\begin{matrix}\n",
    "1 & 1 & -1 \\\\ \n",
    "0 & -3 & 1 \\\\ \n",
    "0 & 0 & 0\n",
    "\\end{matrix}\\right|\n",
    "\\begin{matrix}\n",
    "0\\\\ \n",
    "-2\\\\\n",
    "11\n",
    "\\end{matrix}\n",
    "\\end{pmatrix}.$$\n",
    "\n",
    "The third row of the resulting matrix corresponds to the equation\n",
    "\n",
    "$$0\\cdot x_{1}+0\\cdot x_{2}+0\\cdot x_{3}=11 \\; \\Leftrightarrow \\; 0=11.$$\n",
    "\n",
    "The resulting equality makes no sense, which means that the system has no solutions."
   ]
  },
  {
   "cell_type": "markdown",
   "metadata": {
    "id": "f4WDi0XfZS3Z"
   },
   "source": [
    "This example illustrates an important case to which we must pay special attention: _if elementary transformations in an extended matrix result in a row of the form $(0~0...0|\\lambda)$, where $\\lambda$ is a non-zero number, then the system has no solutions._"
   ]
  },
  {
   "cell_type": "markdown",
   "metadata": {
    "id": "czB6XYWIZS3b"
   },
   "source": [
    "__Example 3__\n",
    "\n",
    "Solve a system of equations\n",
    "\n",
    "$$\\begin{cases}\n",
    "x_{1}+x_{2}-x_{3}=0, \\\\\n",
    "2x_{1}-x_{2}-x_{3}=-2, \\\\\n",
    "4x_{1}+x_{2}-3x_{3}=-2.\n",
    "\\end{cases}$$"
   ]
  },
  {
   "cell_type": "markdown",
   "metadata": {
    "id": "YR00kYwJZS3e"
   },
   "source": [
    "Convert the extended system matrix by elementary transformations:\n",
    "\n",
    "$$\\begin{pmatrix}\n",
    "\\left.\\begin{matrix}\n",
    "1 & 1 & -1 \\\\ \n",
    "2 & -1 & -1 \\\\ \n",
    "4 & 1 & -3\n",
    "\\end{matrix}\\right|\n",
    "\\begin{matrix}\n",
    "0\\\\ \n",
    "-2\\\\\n",
    "-2\n",
    "\\end{matrix}\n",
    "\\end{pmatrix}.$$\n",
    "\n",
    "Subtract from the second line the first line multiplied by 2, and from the third line the first line multiplied by 4:\n",
    "\n",
    "$$\\begin{pmatrix}\n",
    "\\left.\\begin{matrix}\n",
    "1 & 1 & -1 \\\\ \n",
    "0 & -3 & 1 \\\\ \n",
    "0 & -3 & 1\n",
    "\\end{matrix}\\right|\n",
    "\\begin{matrix}\n",
    "0\\\\ \n",
    "-2\\\\\n",
    "-2\n",
    "\\end{matrix}\n",
    "\\end{pmatrix}.$$\n",
    "\n",
    "And subtract the second line from the third:\n",
    "\n",
    "$$\\begin{pmatrix}\n",
    "\\left.\\begin{matrix}\n",
    "1 & 1 & -1 \\\\ \n",
    "0 & -3 & 1 \\\\ \n",
    "0 & 0 & 0\n",
    "\\end{matrix}\\right|\n",
    "\\begin{matrix}\n",
    "0\\\\ \n",
    "-2\\\\\n",
    "0\n",
    "\\end{matrix}\n",
    "\\end{pmatrix}.$$\n",
    "\n",
    "Delete the zeroed line and you get\n",
    "\n",
    "$$\\begin{pmatrix}\n",
    "\\left.\\begin{matrix}\n",
    "1 & 1 & -1 \\\\ \n",
    "0 & -3 & 1\n",
    "\\end{matrix}\\right|\n",
    "\\begin{matrix}\n",
    "0\\\\ \n",
    "-2\n",
    "\\end{matrix}\n",
    "\\end{pmatrix}.$$"
   ]
  },
  {
   "cell_type": "markdown",
   "metadata": {
    "id": "NSlm4nyMZS3g"
   },
   "source": [
    "This is another special case when using the Gaussian method. In the resulting step form we have steps of two numbers, not one as required. The system then has an _infinite number of solutions_."
   ]
  },
  {
   "cell_type": "markdown",
   "metadata": {
    "id": "38qX9RKqZS3h"
   },
   "source": [
    "The remaining matrix corresponds to the system\n",
    "\n",
    "$$\\begin{cases}\n",
    "x_{1}+x_{2}-x_{3}=0, \\\\\n",
    "~~-3x_{2}+x_{3}=-2.\n",
    "\\end{cases}$$\n",
    "\n",
    "An infinite set of solutions is usually written as a _common solution_.\n",
    "\n",
    "The latter equation contains two unknowns. The unknowns sitting on the steps of the matrix are called _basic_, and must be expressed in terms of _free_ unknowns. In this case, we may consider $x_{3}=c$ as the _free_ parameter. Then, expressing the remaining variables through $c$, we obtain:\n",
    "\n",
    "$$x_{3}=c,$$\n",
    "$$-3x_{2}+c=-2 \\; \\Leftrightarrow \\; x_{2}=(c+2)/3,$$\n",
    "$$x_{1} + (c+2)/3 - c=0 \\; \\Leftrightarrow \\; x_{1}=(2c-2)/3.$$\n",
    "\n",
    "This will be the _general solution to the system_. By substituting arbitrary numbers for $c$, we get a _private solution_. For example, with $c=0$:\n",
    "\n",
    "$$x_{1}=-2/3,$$\n",
    "$$x_{2}=2/3,$$\n",
    "$$x_{3}=0.$$\n",
    "\n",
    "The parameter $c$ can take an infinite number of values at which the equations in the system will convert to identities.\n",
    "\n",
    "By substituting a general solution into the original system, we also obtain identities:\n",
    "\n",
    "$$\n",
    "\\begin{cases}\n",
    "2c/3-2/3+c/3+2/3- c=0, \\\\\n",
    "2(2c/3-2/3) -c/3-2/3 -c=4c/3-4/3 -c/3-2/3 -c=-2, \\\\\n",
    "4(2c/3-2/3)+c/3+2/3-3c=8c/3-8/3+c/3+2/3-3c=-2.\n",
    "\\end{cases}\n",
    "$$"
   ]
  },
  {
   "cell_type": "markdown",
   "metadata": {
    "id": "0j2kHuO1ZS3l"
   },
   "source": [
    "## Existence and uniqueness of solutions to systems of linear equations"
   ]
  },
  {
   "cell_type": "markdown",
   "metadata": {
    "id": "JmSGJhHoZS3n"
   },
   "source": [
    "As we have seen in the examples of the implementation of the Gaussian method, a system of linear equations can have a single solution, an infinite number of solutions, or no solutions at all."
   ]
  },
  {
   "cell_type": "markdown",
   "metadata": {
    "id": "irHl4oOkZS3q"
   },
   "source": [
    "A system that has no solutions is called _incompatible_. Accordingly, if a system has at least one solution, it is called _conjoint_. However, if this solution is the only one, it is called _determined_, and if there are more than one solution, it is called _undetermined_."
   ]
  },
  {
   "cell_type": "markdown",
   "metadata": {
    "id": "lslyz5DJZS3s"
   },
   "source": [
    "The theoretical solution of a system of $n$ equations with $n$ variables $Ax=b$ is given by the formula \n",
    "\n",
    "$$x=A^{-1}b,$$\n",
    "\n",
    "where $A^{-1}$ is a matrix inverse of $A$. As we know, $A^{-1}$ exists only when the matrix $A$ is nondegenerate, i.e. its determinant is $|A|\\neq0$."
   ]
  },
  {
   "cell_type": "markdown",
   "metadata": {
    "id": "KtR-mwgYZS3t"
   },
   "source": [
    "In addition to the matrix form shown above, the system of linear equations can also be represented through a linear combination of vectors of coefficients:\n",
    "\n",
    "$$x_{1}\\begin{pmatrix}\n",
    "a_{11}\\\\ \n",
    "a_{21}\\\\ \n",
    "...\\\\ \n",
    "a_{m1}\n",
    "\\end{pmatrix}+\n",
    "x_{2}\\begin{pmatrix}\n",
    "a_{12}\\\\ \n",
    "a_{22}\\\\ \n",
    "...\\\\ \n",
    "a_{m2}\n",
    "\\end{pmatrix}+\n",
    "...+\n",
    "x_{n}\\begin{pmatrix}\n",
    "a_{1n}\\\\ \n",
    "a_{2n}\\\\ \n",
    "...\\\\ \n",
    "a_{mn}\n",
    "\\end{pmatrix}=\n",
    "\\begin{pmatrix}\n",
    "b_{1}\\\\ \n",
    "b_{2}\\\\ \n",
    "...\\\\ \n",
    "b_{m}\n",
    "\\end{pmatrix}.$$"
   ]
  },
  {
   "cell_type": "markdown",
   "metadata": {
    "id": "brcMqD9yZS3v"
   },
   "source": [
    "In this representation, the vector of free terms $b$ is a linear combination of vectors $a_{1},a_{2},...,a_{m}$ with coefficients $x_{1},x_{2},...,x_{n}$."
   ]
  },
  {
   "cell_type": "markdown",
   "metadata": {
    "id": "Vc9R654CZS3w"
   },
   "source": [
    "In this case, it is convenient to determine the jointness and incompatibility of the system by analysing the vectors of coefficients $a$ and the vector of free terms $b$."
   ]
  },
  {
   "cell_type": "markdown",
   "metadata": {
    "id": "NrsLC8VdZS3y"
   },
   "source": [
    "Thus, the vectors of coefficients $a_{1},a_{2},...,a_{m}$ will form some linear subspace. If vector $b$ does not belong to this subspace, the system is incompatible.\n",
    "\n",
    "If the vector $b$ belongs to the formed linear subspace, the system is exactly joint. It will have a single solution if the dimension of this linear space is the same as the number $m$ of vectors (the number of unknowns). This will mean that the vectors $a_{1},a_{2},...,a_{m}$ will form a basis in this space, and vector $b$ can be decomposed by it in the only way. Otherwise, the system will have an infinite number of solutions."
   ]
  },
  {
   "cell_type": "markdown",
   "metadata": {
    "id": "7Myuvx4TZS30"
   },
   "source": [
    "To clarify this principle, let's look at a few examples"
   ]
  },
  {
   "cell_type": "markdown",
   "metadata": {
    "id": "AgFPI4jpZS32"
   },
   "source": [
    "#### 1. The number of equations equals the number of unknowns"
   ]
  },
  {
   "cell_type": "markdown",
   "metadata": {
    "id": "-BZFoDyKZS35"
   },
   "source": [
    "Consider an example of a simple system:\n",
    "\n",
    "$$\\begin{cases}\n",
    "x_{1}+x_{2}=3, \\\\\n",
    "2x_{1}+3x_{2}=8. \\\\\n",
    "\\end{cases}$$"
   ]
  },
  {
   "cell_type": "markdown",
   "metadata": {
    "id": "dW8pb5PLZS3-"
   },
   "source": [
    "Such a system will have a solution $x_{1}=1, x_{2}=2$, and it will be the only one."
   ]
  },
  {
   "cell_type": "markdown",
   "metadata": {
    "id": "AMd9j5ioZS4A"
   },
   "source": [
    "Let's rewrite this system in vector form:\n",
    "\n",
    "$$x_{1}\\begin{pmatrix}\n",
    "1\\\\ \n",
    "2\n",
    "\\end{pmatrix}+\n",
    "x_{2}\\begin{pmatrix}\n",
    "1\\\\ \n",
    "3\n",
    "\\end{pmatrix}=\n",
    "\\begin{pmatrix}\n",
    "3\\\\ \n",
    "8\n",
    "\\end{pmatrix} \\Leftrightarrow x_{1}a_{1}+x_{2}a_{2}=b$$"
   ]
  },
  {
   "cell_type": "markdown",
   "metadata": {
    "id": "-wsmOpynZS4B"
   },
   "source": [
    "If we imagine this situation on a plane (see fig. 1), we realise that the vector \n",
    "\n",
    "$$b=\n",
    "\\begin{pmatrix}\n",
    "3\\\\ \n",
    "8\n",
    "\\end{pmatrix}$$\n",
    "\n",
    "can easily be represented as a sum of vectors\n",
    "\n",
    "$$a_{1}=\\begin{pmatrix}\n",
    "1\\\\ \n",
    "2\n",
    "\\end{pmatrix}, a_{2}=\n",
    "\\begin{pmatrix}\n",
    "1\\\\ \n",
    "3\n",
    "\\end{pmatrix},$$\n",
    "\n",
    "dominated by some coefficients (in this case by 1 and 2 respectively), and, as we remember, two linearly independent vectors in two-dimensional space form a basis and any vector in this space can be expressed by a linear combination of elements in the only way, which explains the uniqueness of the solution."
   ]
  },
  {
   "cell_type": "code",
   "execution_count": 2,
   "metadata": {
    "id": "9t0ApIHoZS4F"
   },
   "outputs": [],
   "source": [
    "import matplotlib.pyplot as plt"
   ]
  },
  {
   "cell_type": "code",
   "execution_count": 3,
   "metadata": {
    "colab": {
     "base_uri": "https://localhost:8080/",
     "height": 269
    },
    "id": "AmLg63NsZS4N",
    "outputId": "c569e884-08ac-4c7d-d3ed-ce0c2f721cd5"
   },
   "outputs": [
    {
     "data": {
      "image/png": "[encoded data removed]",
      "text/plain": [
       "<Figure size 432x288 with 1 Axes>"
      ]
     },
     "metadata": {
      "needs_background": "light"
     },
     "output_type": "display_data"
    }
   ],
   "source": [
    "fig = plt.figure()\n",
    "ax = fig.add_subplot(1,1,1)\n",
    "\n",
    "ax.spines['left'].set_position('zero')\n",
    "ax.spines['bottom'].set_position('zero')\n",
    "\n",
    "ax.spines['right'].set_color('none')\n",
    "ax.spines['top'].set_color('none')\n",
    "\n",
    "plt.axis('scaled')\n",
    "plt.xlim(0, 4)\n",
    "plt.ylim(0, 4)\n",
    "\n",
    "ax.arrow(0, 0, 0.5, 2, head_width=0.15, head_length=0.2, length_includes_head=True, facecolor='black')\n",
    "ax.arrow(0, 0, 2, 0.5, head_width=0.15, head_length=0.2, length_includes_head=True, facecolor='black')\n",
    "ax.arrow(0, 0, 4, 2, head_width=0.15, head_length=0.2, length_includes_head=True, facecolor='black')\n",
    "\n",
    "ax.annotate(\"a1\", xy=(1.8, 0.6))\n",
    "ax.annotate(\"a2\", xy=(0.6, 1.8))\n",
    "ax.annotate(\"b\", xy=(3.8, 1.6))\n",
    "\n",
    "\n",
    "plt.show()"
   ]
  },
  {
   "cell_type": "markdown",
   "metadata": {
    "id": "MyAyrohnZS4Y"
   },
   "source": [
    "$$Picture. 1$$"
   ]
  },
  {
   "cell_type": "markdown",
   "metadata": {
    "id": "lYX1mS8PZS4Z"
   },
   "source": [
    "Transfer the conclusions to the general case of a system with an equal number of equations and unknowns ($n=m$):\n",
    "\n",
    "$$x_{1}\\begin{pmatrix}\n",
    "a_{11}\\\\ \n",
    "a_{21}\\\\ \n",
    "...\\\\ \n",
    "a_{n1}\n",
    "\\end{pmatrix}+\n",
    "x_{2}\\begin{pmatrix}\n",
    "a_{12}\\\\ \n",
    "a_{22}\\\\ \n",
    "...\\\\ \n",
    "a_{n2}\n",
    "\\end{pmatrix}+\n",
    "...+\n",
    "x_{n}\\begin{pmatrix}\n",
    "a_{1n}\\\\ \n",
    "a_{2n}\\\\ \n",
    "...\\\\ \n",
    "a_{nn}\n",
    "\\end{pmatrix}=\n",
    "\\begin{pmatrix}\n",
    "b_{1}\\\\ \n",
    "b_{2}\\\\ \n",
    "...\\\\ \n",
    "b_{n}\n",
    "\\end{pmatrix} \\Leftrightarrow a_{1}x_{1}+a_{2}x_{2}+...+a_{n}x_{n}=b.$$"
   ]
  },
  {
   "cell_type": "markdown",
   "metadata": {
    "id": "S2O-UinFZS4a"
   },
   "source": [
    "The solution of this system can be interpreted as the coefficients of the expansion of the vector $b$ by the vectors $a_{1},a_{2},...,a_{n}$. If they are linearly independent, they will form a basis in a given $n$-dimensional space, which means that any element of the space we can decompose into this basis with the coefficients $x_{1},x_{2},...,x_{n}$ in the only way.\n",
    "\n",
    "Thus, in the case __when the number of equations is equal to the number of unknowns__ and the coefficient matrix is nondegenerate, if the column vectors of coefficients $a_{1},a_{2},...,a_{n}$ are linearly independent, then this system is joint, and its solution is unique for any vector of free terms $b$._ "
   ]
  },
  {
   "cell_type": "markdown",
   "metadata": {
    "id": "pXHIAkNGZS4b"
   },
   "source": [
    "Now consider a system where the coefficient vectors $a_{1}$ and $a_{2}$ are linearly dependent:\n",
    "\n",
    "$$\\begin{cases}\n",
    "x_{1}+2x_{2}=b_{1}, \\\\\n",
    "2x_{1}+4x_{2}=b_{2}.\n",
    "\\end{cases}$$"
   ]
  },
  {
   "cell_type": "markdown",
   "metadata": {
    "id": "peUGQxvqZS4e"
   },
   "source": [
    "Geometrically, in two-dimensional space, this means that two vectors\n",
    "\n",
    "$$a_{1}=\\begin{pmatrix}\n",
    "1\\\\ \n",
    "2\n",
    "\\end{pmatrix}, a_{2}=\n",
    "\\begin{pmatrix}\n",
    "2\\\\ \n",
    "4\n",
    "\\end{pmatrix}$$\n",
    "\n",
    "lie on the same line, i.e. belong to some one-dimensional linear subspace of the original two-dimensional space (see Fig. 2).\n",
    "\n",
    "Two cases are possible in this situation. If the vector of free terms $b$ does not lie on this line (does not belong to this subspace), then we cannot decompose it into vectors $a_{1}$ and $a_{2}$ in any way. This means that such a system has no solutions.\n",
    "\n",
    "If vector $b$ lies on this line, we can already decompose it by vectors $a_{1}$ and $a_{2}$ in an infinite number of ways: since the basis in this one-dimensional subspace can be any of the vectors $a_{1}$ and $a_{2}$, we can move one of them to the right-hand side of the equation and, for example, uniquely decompose by the basis $a_{1}$ any vector from the right-hand side of the form $b-x_{2}a_{2}$. But since $x_{2}$ we can choose an infinite number of ways, the system itself will have an infinite number of solutions."
   ]
  },
  {
   "cell_type": "code",
   "execution_count": 4,
   "metadata": {
    "colab": {
     "base_uri": "https://localhost:8080/",
     "height": 521
    },
    "id": "Voj7ho7_ZS4f",
    "outputId": "1853a1dc-7c7d-40b8-c8f1-6a52aa1e753d"
   },
   "outputs": [
    {
     "data": {
      "image/png": "[encoded data removed]",
      "text/plain": [
       "<Figure size 432x288 with 1 Axes>"
      ]
     },
     "metadata": {
      "needs_background": "light"
     },
     "output_type": "display_data"
    },
    {
     "data": {
      "image/png": "[encoded data removed]",
      "text/plain": [
       "<Figure size 432x288 with 1 Axes>"
      ]
     },
     "metadata": {
      "needs_background": "light"
     },
     "output_type": "display_data"
    }
   ],
   "source": [
    "fig = plt.figure()\n",
    "ax = fig.add_subplot(1,1,1)\n",
    "\n",
    "ax.spines['left'].set_position('zero')\n",
    "ax.spines['bottom'].set_position('zero')\n",
    "\n",
    "ax.spines['right'].set_color('none')\n",
    "ax.spines['top'].set_color('none')\n",
    "\n",
    "plt.axis('scaled')\n",
    "plt.xlim(0, 4)\n",
    "plt.ylim(0, 4)\n",
    "\n",
    "ax.arrow(0, 0, 0.5, 2, head_width=0.15, head_length=0.2, length_includes_head=True, facecolor='black')\n",
    "ax.arrow(0, 0, 0.75, 3, head_width=0.15, head_length=0.2, length_includes_head=True, facecolor='black')\n",
    "ax.arrow(0, 0, 4, 2, head_width=0.15, head_length=0.2, length_includes_head=True, facecolor='black')\n",
    "\n",
    "ax.annotate(\"a1\", xy=(0.8, 2.8))\n",
    "ax.annotate(\"a2\", xy=(0.6, 1.8))\n",
    "ax.annotate(\"b\", xy=(3.8, 1.6))\n",
    "\n",
    "fig2 = plt.figure()\n",
    "ax2 = fig2.add_subplot(1,1,1)\n",
    "\n",
    "ax2.spines['left'].set_position('zero')\n",
    "ax2.spines['bottom'].set_position('zero')\n",
    "\n",
    "ax2.spines['right'].set_color('none')\n",
    "ax2.spines['top'].set_color('none')\n",
    "\n",
    "plt.axis('scaled')\n",
    "plt.xlim(0, 4)\n",
    "plt.ylim(0, 4)\n",
    "\n",
    "ax2.arrow(0, 0, 0.4, 2, head_width=0.15, head_length=0.2, length_includes_head=True, facecolor='black')\n",
    "ax2.arrow(0, 0, 0.6, 3, head_width=0.15, head_length=0.2, length_includes_head=True, facecolor='black')\n",
    "ax2.arrow(0, 0, 0.8, 4, head_width=0.15, head_length=0.2, length_includes_head=True, facecolor='black')\n",
    "\n",
    "ax2.annotate(\"a1\", xy=(0.8, 2.8))\n",
    "ax2.annotate(\"a2\", xy=(0.6, 1.8))\n",
    "ax2.annotate(\"b\", xy=(1, 3.8))\n",
    "\n",
    "\n",
    "plt.show()"
   ]
  },
  {
   "cell_type": "markdown",
   "metadata": {
    "id": "MJ5FMxZ7ZS4o"
   },
   "source": [
    "$$Picture. 2$$"
   ]
  },
  {
   "cell_type": "markdown",
   "metadata": {
    "id": "i47F5RKNZS4p"
   },
   "source": [
    "In general, this means that _when the column vectors of coefficients $a_{1},a_{2},...,a_{n}$ are linearly dependent, they form some linear subspace of dimension less than $n$, and such a system is joint only when vector $b$ belongs to this linear subspace. In this case, the system has an infinite number of solutions. If the vector $b$ does not belong to this subspace, the system has no solutions."
   ]
  },
  {
   "cell_type": "markdown",
   "metadata": {
    "id": "oy6BOZK_ZS4q"
   },
   "source": [
    "__Example__\n",
    "\n",
    "Let's find out if the next system will work together:\n",
    "\n",
    "$$\\begin{cases}\n",
    "x_{1}+2x_{2}=5, \\\\\n",
    "2x_{1}+4x_{2}=6.\n",
    "\\end{cases}$$"
   ]
  },
  {
   "cell_type": "markdown",
   "metadata": {
    "id": "kwEvpF-dZS4r"
   },
   "source": [
    "The vectors of the coefficients are linearly dependent, and the vector of free terms does not belong to the one-dimensional subspace they form.\n",
    "\n",
    "Solve the system by the Gaussian method:\n",
    "\n",
    "$$\\begin{pmatrix}\n",
    "\\left.\\begin{matrix}\n",
    "1 & 2  \\\\ \n",
    "2 & 4\n",
    "\\end{matrix}\\right|\n",
    "\\begin{matrix}\n",
    "5\\\\ \n",
    "6\n",
    "\\end{matrix}\n",
    "\\end{pmatrix},$$\n",
    "\n",
    "subtract the first line from the second, multiplied by 2:\n",
    "\n",
    "$$\\begin{pmatrix}\n",
    "\\left.\\begin{matrix}\n",
    "1 & 2  \\\\ \n",
    "0 & 0\n",
    "\\end{matrix}\\right|\n",
    "\\begin{matrix}\n",
    "5\\\\ \n",
    "-4\n",
    "\\end{matrix}\n",
    "\\end{pmatrix}.$$\n",
    "\n",
    "Indeed, such a system is incompatible."
   ]
  },
  {
   "cell_type": "markdown",
   "metadata": {
    "id": "BvpvExmeZS4t"
   },
   "source": [
    "#### 2. The number of equations is less than the number of unknowns"
   ]
  },
  {
   "cell_type": "markdown",
   "metadata": {
    "id": "dbHHnsVvZS4u"
   },
   "source": [
    "Systems of equations in which the number of equations is less than the number of unknowns are called _undetermined_."
   ]
  },
  {
   "cell_type": "markdown",
   "metadata": {
    "id": "uyKdokTSZS4v"
   },
   "source": [
    "Consider the system\n",
    "\n",
    "$$\\begin{cases}\n",
    "x_{1}+2x_{2}+4x_{3}=1, \\\\\n",
    "2x_{1}+3x_{2}+7x_{3}=9. \\\\\n",
    "\\end{cases}$$"
   ]
  },
  {
   "cell_type": "markdown",
   "metadata": {
    "id": "ff3uUc5cZS4w"
   },
   "source": [
    "In two-dimensional space, any pair of vectors\n",
    "\n",
    "$$a_{1}=\\begin{pmatrix}\n",
    "1\\\\ \n",
    "2\n",
    "\\end{pmatrix}, a_{2}=\n",
    "\\begin{pmatrix}\n",
    "2\\\\ \n",
    "3\n",
    "\\end{pmatrix}, a_{3}=\n",
    "\\begin{pmatrix}\n",
    "4\\\\ \n",
    "7\n",
    "\\end{pmatrix}$$\n",
    "\n",
    "can form a basis on which any vector can be decomposed in the only way. In particular, by carrying $a_{3}x_{3}$ to the right-hand side of an equation of the form $a_{1}x_{1}+a_{2}x_{2}+a_{3}x_{3}=b$, we can uniquely decompose the resulting vector $b-a_{3}x_{3}$ to the right and obtain an identity, but since $x_{3}$ can take an infinite number of values, and _solutions of the system will also be infinitely many_, i.e. a _fundamental system of solutions_ (this term you will learn in the next lesson) will be formed here. The same will work when any two vectors of $a_{1},a_{2},a_{3}$ are linearly dependent."
   ]
  },
  {
   "cell_type": "markdown",
   "metadata": {
    "id": "LDjdOYW3ZS42"
   },
   "source": [
    "In a system where the vectors of the coefficients are linearly dependent:\n",
    "\n",
    "$$\\begin{cases}\n",
    "x_{1}+2x_{2}+3x_{3}=b_{1}, \\\\\n",
    "2x_{1}+4x_{2}+6x_{3}=b_{2}, \\\\\n",
    "\\end{cases}$$\n",
    "\n",
    "i.e. belong to the same one-dimensional linear subspace, as in the case of equal number of equations and variables, the _system will be joint only when the vector of free terms belongs to this subspace. In this case, the system will have an infinite number of solutions. Otherwise, the system will be incompatible. "
   ]
  },
  {
   "cell_type": "markdown",
   "metadata": {
    "id": "Zs8s0xtZZS43"
   },
   "source": [
    "#### 3. The number of equations is greater than the number of unknowns"
   ]
  },
  {
   "cell_type": "markdown",
   "metadata": {
    "id": "W5m4ugpbZS46"
   },
   "source": [
    "Let's start with an example where the column vectors of the coefficients are linearly independent:\n",
    "\n",
    "$$\\begin{cases}\n",
    "x_{1}+2x_{2}=b_{1}, \\\\\n",
    "2x_{1}+4x_{2}=b_{2}, \\\\\n",
    "3x_{1}+7x_{2}=b_{3}.\n",
    "\\end{cases}$$"
   ]
  },
  {
   "cell_type": "markdown",
   "metadata": {
    "id": "L14MgNzeZS47"
   },
   "source": [
    "In this situation we have the task of decomposing a three-dimensional vector $b=\\begin{pmatrix}\n",
    "b_{1}\\\\ \n",
    "b_{2}\\\\\n",
    "b_{3}\n",
    "\\end{pmatrix}$ on two vectors: $a_{1}=\\begin{pmatrix}\n",
    "1\\\\ \n",
    "2\\\\\n",
    "3\n",
    "\\end{pmatrix}, a_{2}=\\begin{pmatrix}\n",
    "2\\\\ \n",
    "4\\\\\n",
    "7\n",
    "\\end{pmatrix}$."
   ]
  },
  {
   "cell_type": "markdown",
   "metadata": {
    "id": "BwoGa5qlZS49"
   },
   "source": [
    "This will be possible only if the vector of free terms $b$ belongs to the linear subspace formed by vectors $a_{1}$ and $a_{2}$, i.e. (in this particular case) lies in the same plane with them. In this case, the system has only one solution, which is the coefficients of the expansion of vector $b$ in the basis of $a_{1}$ and $a_{2}$ in this plane. If $b$ does not belong to the linear subspace formed by the column vectors of the coefficients, the system is incompatible."
   ]
  },
  {
   "cell_type": "markdown",
   "metadata": {
    "id": "Ufusvr0vZS4_"
   },
   "source": [
    "When the column vectors of the coefficients are linearly dependent,\n",
    "\n",
    "$$\\begin{cases}\n",
    "x_{1}+2x_{2}=b_{1}, \\\\\n",
    "2x_{1}+4x_{2}=b_{2}, \\\\\n",
    "3x_{1}+6x_{2}=b_{3}, \n",
    "\\end{cases}$$\n",
    "\n",
    "vectors of coefficients will lie on the same line, and, as in the two previous cases, the system will be joint only when the vector of free terms also lies on this line. The system will have an infinite number of solutions. If vector $b$ does not belong to the formed one-dimensional linear subspace, the system will have no solutions."
   ]
  },
  {
   "cell_type": "markdown",
   "metadata": {
    "id": "PWG3zudjZS5C"
   },
   "source": [
    "## Kronecker-Capelli theorem"
   ]
  },
  {
   "cell_type": "markdown",
   "metadata": {
    "id": "ECgdrSZiZS5H"
   },
   "source": [
    "Back to the matrix form of systems of linear equations \n",
    "\n",
    "$$Ax=b.$$"
   ]
  },
  {
   "cell_type": "markdown",
   "metadata": {
    "id": "VRbUdVbrZS5J"
   },
   "source": [
    "__Theorem__ \n",
    "\n",
    "A necessary and sufficient condition for a system of $m$ equations with $n$ unknowns to be consistent is that the ranks of the coefficient matrix $A$ and the extended matrix $\\tilde A$\n",
    "\n",
    "$$rank A=rank \\tilde A.$$"
   ]
  },
  {
   "cell_type": "markdown",
   "metadata": {
    "id": "5BcIUSGNZS5K"
   },
   "source": [
    "Where:<br>\n",
    "1) If $rankA=rank \\tilde A=n$, where $n$ is the number of unknowns, then the system is defined, i.e., it has a single solution;<br>\n",
    "2) If $rankA=rank \\tilde A<n$, then the system has infinite number of solutions;<br>\n",
    "3) If $rankA<rank \\tilde A$, then the system is incompatible."
   ]
  },
  {
   "cell_type": "markdown",
   "metadata": {
    "id": "qprHkBztZS5L"
   },
   "source": [
    "__Example__\n",
    "\n",
    "Check for coherence and find out how many solutions the system of linear equations given by the extended matrix will have\n",
    "\n",
    "$$\\tilde{A}=\\begin{pmatrix}\n",
    "\\left.\\begin{matrix}\n",
    "1 & 2 & 3 & 4\\\\ \n",
    "0 & 5 & 6 & 7\\\\ \n",
    "0 & 0 & 8 & 9\\\\ \n",
    "0 & 0 & 0 & 0\n",
    "\\end{matrix}\\right|\n",
    "\\begin{matrix}\n",
    "1\\\\ \n",
    "2\\\\\n",
    "3\\\\\n",
    "a\n",
    "\\end{matrix}\n",
    "\\end{pmatrix}$$\n",
    "\n",
    "при различных значениях параметра $a$."
   ]
  },
  {
   "cell_type": "markdown",
   "metadata": {
    "id": "JeHIJyOHblv2"
   },
   "source": []
  },
  {
   "cell_type": "markdown",
   "metadata": {
    "id": "0CtRvxH_ZS5M"
   },
   "source": [
    "__Решение__\n",
    "\n",
    "Если $a\\neq 0$, то $rank \\tilde A=4$, в то время как $rank A=3$. Это означает, что система в этом случае несовместна.\n",
    "\n",
    "Если $a=0$, тогда $rank A=rank \\tilde A=3$, что меньше количества неизвестных $m=4$. В этом случае система имеет бесконечное множество решений, и одна из неизвестных должна рассматриваться как свободный параметр, при любых значениях которого система будет иметь решение."
   ]
  }
 ],
 "metadata": {
  "colab": {
   "collapsed_sections": [],
   "name": "Lesson_6-REVISED.ipynb",
   "provenance": []
  },
  "kernelspec": {
   "display_name": "Python 3",
   "language": "python",
   "name": "python3"
  },
  "language_info": {
   "codemirror_mode": {
    "name": "ipython",
    "version": 3
   },
   "file_extension": ".py",
   "mimetype": "text/x-python",
   "name": "python",
   "nbconvert_exporter": "python",
   "pygments_lexer": "ipython3",
   "version": "3.8.5"
  }
 },
 "nbformat": 4,
 "nbformat_minor": 1
}
